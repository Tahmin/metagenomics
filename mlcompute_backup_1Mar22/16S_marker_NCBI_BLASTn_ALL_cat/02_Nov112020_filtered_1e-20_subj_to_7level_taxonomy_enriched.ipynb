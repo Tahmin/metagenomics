{
 "cells": [
  {
   "cell_type": "code",
   "execution_count": 1,
   "id": "b1bb7447",
   "metadata": {},
   "outputs": [],
   "source": [
    "# Show plots as part of the notebook (this is a Jupyter-specific operation)\n",
    "%matplotlib inline\n",
    "import time\n",
    "import matplotlib.pyplot as plt\n",
    "import requests\n",
    "import xmltodict\n",
    "# Standard library packages\n",
    "import os\n",
    "\n",
    "# Import Pandas and Seaborn\n",
    "import pandas as pd\n",
    "import seaborn as sns\n",
    "import numpy as np\n",
    "\n",
    "# Import Biopython tools for running local BLASTX\n",
    "from Bio.Blast.Applications import NcbiblastxCommandline\n",
    "from Bio.Blast.Applications import NcbiblastnCommandline\n",
    "\n",
    "#For execution time tracking\n",
    "from datetime import datetime\n",
    "from pytz import timezone"
   ]
  },
  {
   "cell_type": "code",
   "execution_count": 2,
   "id": "6bc76fc1",
   "metadata": {},
   "outputs": [
    {
     "name": "stdout",
     "output_type": "stream",
     "text": [
      "04:31:08 PM\n"
     ]
    }
   ],
   "source": [
    "now_time = datetime.now(timezone('America/Chicago'))\n",
    "print(now_time.strftime('%I:%M:%S %p'))"
   ]
  },
  {
   "cell_type": "code",
   "execution_count": 3,
   "id": "5b76132a",
   "metadata": {},
   "outputs": [
    {
     "name": "stdout",
     "output_type": "stream",
     "text": [
      "CPU times: user 43.9 s, sys: 10.7 s, total: 54.6 s\n",
      "Wall time: 55.8 s\n"
     ]
    }
   ],
   "source": [
    "%%time\n",
    "df = pd.read_csv('01_db_blastn_Nov112020_filtered_1e-20_subj.csv')"
   ]
  },
  {
   "cell_type": "code",
   "execution_count": 4,
   "id": "7f37b312",
   "metadata": {},
   "outputs": [
    {
     "data": {
      "text/plain": [
       "9883"
      ]
     },
     "execution_count": 4,
     "metadata": {},
     "output_type": "execute_result"
    }
   ],
   "source": [
    "df['subject'].nunique()"
   ]
  },
  {
   "cell_type": "code",
   "execution_count": 5,
   "id": "d666a2a8",
   "metadata": {},
   "outputs": [
    {
     "data": {
      "text/plain": [
       "NC_011600.1          150242\n",
       "EU912438.1           148386\n",
       "NC_046005.1          108333\n",
       "MG739403.1           107667\n",
       "NC_053868.1          106131\n",
       "                      ...  \n",
       "KX257198.1                1\n",
       "DQ419510.1                1\n",
       "DQ419500.1                1\n",
       "JAACNO010002301.1         1\n",
       "KM972453.1                1\n",
       "Name: subject, Length: 9883, dtype: int64"
      ]
     },
     "execution_count": 5,
     "metadata": {},
     "output_type": "execute_result"
    }
   ],
   "source": [
    "df = df['subject'].value_counts()\n",
    "df = pd.Series(df)\n",
    "df"
   ]
  },
  {
   "cell_type": "code",
   "execution_count": 6,
   "id": "8185a25d",
   "metadata": {},
   "outputs": [],
   "source": [
    "df.to_csv('01_1_db_blastn_Nov112020_filtered_1e-20_subj_to_7level_taxonomy.csv')"
   ]
  },
  {
   "cell_type": "code",
   "execution_count": 7,
   "id": "3320a2b9",
   "metadata": {},
   "outputs": [],
   "source": [
    "df = pd.read_csv('01_1_db_blastn_Nov112020_filtered_1e-20_subj_to_7level_taxonomy.csv')"
   ]
  },
  {
   "cell_type": "code",
   "execution_count": 8,
   "id": "245d461e",
   "metadata": {},
   "outputs": [
    {
     "data": {
      "text/html": [
       "<div>\n",
       "<style scoped>\n",
       "    .dataframe tbody tr th:only-of-type {\n",
       "        vertical-align: middle;\n",
       "    }\n",
       "\n",
       "    .dataframe tbody tr th {\n",
       "        vertical-align: top;\n",
       "    }\n",
       "\n",
       "    .dataframe thead th {\n",
       "        text-align: right;\n",
       "    }\n",
       "</style>\n",
       "<table border=\"1\" class=\"dataframe\">\n",
       "  <thead>\n",
       "    <tr style=\"text-align: right;\">\n",
       "      <th></th>\n",
       "      <th>Unnamed: 0</th>\n",
       "      <th>subject</th>\n",
       "    </tr>\n",
       "  </thead>\n",
       "  <tbody>\n",
       "    <tr>\n",
       "      <th>0</th>\n",
       "      <td>NC_011600.1</td>\n",
       "      <td>150242</td>\n",
       "    </tr>\n",
       "    <tr>\n",
       "      <th>1</th>\n",
       "      <td>EU912438.1</td>\n",
       "      <td>148386</td>\n",
       "    </tr>\n",
       "    <tr>\n",
       "      <th>2</th>\n",
       "      <td>NC_046005.1</td>\n",
       "      <td>108333</td>\n",
       "    </tr>\n",
       "    <tr>\n",
       "      <th>3</th>\n",
       "      <td>MG739403.1</td>\n",
       "      <td>107667</td>\n",
       "    </tr>\n",
       "    <tr>\n",
       "      <th>4</th>\n",
       "      <td>NC_053868.1</td>\n",
       "      <td>106131</td>\n",
       "    </tr>\n",
       "  </tbody>\n",
       "</table>\n",
       "</div>"
      ],
      "text/plain": [
       "    Unnamed: 0  subject\n",
       "0  NC_011600.1   150242\n",
       "1   EU912438.1   148386\n",
       "2  NC_046005.1   108333\n",
       "3   MG739403.1   107667\n",
       "4  NC_053868.1   106131"
      ]
     },
     "execution_count": 8,
     "metadata": {},
     "output_type": "execute_result"
    }
   ],
   "source": [
    "df.head()"
   ]
  },
  {
   "cell_type": "code",
   "execution_count": 9,
   "id": "efea4691",
   "metadata": {},
   "outputs": [],
   "source": [
    "df.columns.values[0] = \"subject\"\n",
    "df.columns.values[1] = \"count\""
   ]
  },
  {
   "cell_type": "code",
   "execution_count": 10,
   "id": "c0d4fd8d",
   "metadata": {},
   "outputs": [],
   "source": [
    "df.to_csv('01_1_db_blastn_Nov112020_filtered_1e-20_subj_to_7level_taxonomy.csv', index= False)"
   ]
  },
  {
   "cell_type": "code",
   "execution_count": 11,
   "id": "d4385499",
   "metadata": {},
   "outputs": [],
   "source": [
    "df = pd.read_csv('01_1_db_blastn_Nov112020_filtered_1e-20_subj_to_7level_taxonomy.csv')"
   ]
  },
  {
   "cell_type": "code",
   "execution_count": 12,
   "id": "1a85ecbe",
   "metadata": {},
   "outputs": [
    {
     "data": {
      "text/html": [
       "<div>\n",
       "<style scoped>\n",
       "    .dataframe tbody tr th:only-of-type {\n",
       "        vertical-align: middle;\n",
       "    }\n",
       "\n",
       "    .dataframe tbody tr th {\n",
       "        vertical-align: top;\n",
       "    }\n",
       "\n",
       "    .dataframe thead th {\n",
       "        text-align: right;\n",
       "    }\n",
       "</style>\n",
       "<table border=\"1\" class=\"dataframe\">\n",
       "  <thead>\n",
       "    <tr style=\"text-align: right;\">\n",
       "      <th></th>\n",
       "      <th>subject</th>\n",
       "      <th>count</th>\n",
       "    </tr>\n",
       "  </thead>\n",
       "  <tbody>\n",
       "    <tr>\n",
       "      <th>0</th>\n",
       "      <td>NC_011600.1</td>\n",
       "      <td>150242</td>\n",
       "    </tr>\n",
       "    <tr>\n",
       "      <th>1</th>\n",
       "      <td>EU912438.1</td>\n",
       "      <td>148386</td>\n",
       "    </tr>\n",
       "    <tr>\n",
       "      <th>2</th>\n",
       "      <td>NC_046005.1</td>\n",
       "      <td>108333</td>\n",
       "    </tr>\n",
       "    <tr>\n",
       "      <th>3</th>\n",
       "      <td>MG739403.1</td>\n",
       "      <td>107667</td>\n",
       "    </tr>\n",
       "    <tr>\n",
       "      <th>4</th>\n",
       "      <td>NC_053868.1</td>\n",
       "      <td>106131</td>\n",
       "    </tr>\n",
       "  </tbody>\n",
       "</table>\n",
       "</div>"
      ],
      "text/plain": [
       "       subject   count\n",
       "0  NC_011600.1  150242\n",
       "1   EU912438.1  148386\n",
       "2  NC_046005.1  108333\n",
       "3   MG739403.1  107667\n",
       "4  NC_053868.1  106131"
      ]
     },
     "execution_count": 12,
     "metadata": {},
     "output_type": "execute_result"
    }
   ],
   "source": [
    "df.head()"
   ]
  },
  {
   "cell_type": "markdown",
   "id": "c01846fe",
   "metadata": {},
   "source": [
    "# Retrieving (efetch) taxonomy heirarchy from NCBI"
   ]
  },
  {
   "cell_type": "code",
   "execution_count": 13,
   "id": "5e3d1a75",
   "metadata": {},
   "outputs": [],
   "source": [
    "base_url = \"https://eutils.ncbi.nlm.nih.gov/entrez/eutils/{}\"\n",
    "db = \"nuccore\""
   ]
  },
  {
   "cell_type": "code",
   "execution_count": 14,
   "id": "87d4623b",
   "metadata": {},
   "outputs": [],
   "source": [
    "def get_taxon_name(tax_id):\n",
    "    try:\n",
    "        efetch = \"efetch.fcgi?db={}&id={}&rettype=json\".format(db, tax_id)\n",
    "        efetch_response = requests.get(base_url.format(efetch))\n",
    "        efetch_dict = xmltodict.parse(efetch_response.content)\n",
    "        Definition = efetch_dict['GBSet']['GBSeq']['GBSeq_definition']\n",
    "        Definition = Definition.split(',')\n",
    "        Definition = Definition[0]\n",
    "        time.sleep(0.5)\n",
    "    except:\n",
    "        Definition = tax_id\n",
    "        pass\n",
    " \n",
    "    return Definition"
   ]
  },
  {
   "cell_type": "code",
   "execution_count": 15,
   "id": "e4620a24",
   "metadata": {},
   "outputs": [
    {
     "data": {
      "text/plain": [
       "'Vaucheria litorea chloroplast'"
      ]
     },
     "execution_count": 15,
     "metadata": {},
     "output_type": "execute_result"
    }
   ],
   "source": [
    "get_taxon_name ('NC_011600.1')"
   ]
  },
  {
   "cell_type": "code",
   "execution_count": 16,
   "id": "40c6d893",
   "metadata": {},
   "outputs": [],
   "source": [
    "def get_7level_taxonomy(tax_id):\n",
    "    try:   \n",
    "        efetch = \"efetch.fcgi?db={}&id={}&rettype=json\".format(db, tax_id)\n",
    "        efetch_response = requests.get(base_url.format(efetch))\n",
    "        efetch_dict = xmltodict.parse(efetch_response.content)\n",
    "        GBSeq_taxonomy = efetch_dict['GBSet']['GBSeq']['GBSeq_taxonomy']\n",
    "#        GBSeq_taxonomy_class = GBSeq_taxonomy.split(\"; \")\n",
    "#        GBSeq_taxonomy_class = GBSeq_taxonomy_class[2]\n",
    "        time.sleep(0.5)\n",
    "    except:\n",
    "        GBSeq_taxonomy = tax_id\n",
    "        pass\n",
    "    \n",
    "    return GBSeq_taxonomy"
   ]
  },
  {
   "cell_type": "code",
   "execution_count": 17,
   "id": "06e3309c",
   "metadata": {},
   "outputs": [
    {
     "data": {
      "text/plain": [
       "'Eukaryota; Sar; Stramenopiles; Ochrophyta; PX clade; Xanthophyceae; Vaucheriales; Vaucheriaceae; Vaucheria'"
      ]
     },
     "execution_count": 17,
     "metadata": {},
     "output_type": "execute_result"
    }
   ],
   "source": [
    "get_7level_taxonomy ('NC_011600.1')"
   ]
  },
  {
   "cell_type": "code",
   "execution_count": 18,
   "id": "65428dd2",
   "metadata": {},
   "outputs": [
    {
     "data": {
      "text/html": [
       "<div>\n",
       "<style scoped>\n",
       "    .dataframe tbody tr th:only-of-type {\n",
       "        vertical-align: middle;\n",
       "    }\n",
       "\n",
       "    .dataframe tbody tr th {\n",
       "        vertical-align: top;\n",
       "    }\n",
       "\n",
       "    .dataframe thead th {\n",
       "        text-align: right;\n",
       "    }\n",
       "</style>\n",
       "<table border=\"1\" class=\"dataframe\">\n",
       "  <thead>\n",
       "    <tr style=\"text-align: right;\">\n",
       "      <th></th>\n",
       "      <th>subject</th>\n",
       "      <th>count</th>\n",
       "    </tr>\n",
       "  </thead>\n",
       "  <tbody>\n",
       "    <tr>\n",
       "      <th>0</th>\n",
       "      <td>NC_011600.1</td>\n",
       "      <td>150242</td>\n",
       "    </tr>\n",
       "    <tr>\n",
       "      <th>1</th>\n",
       "      <td>EU912438.1</td>\n",
       "      <td>148386</td>\n",
       "    </tr>\n",
       "    <tr>\n",
       "      <th>2</th>\n",
       "      <td>NC_046005.1</td>\n",
       "      <td>108333</td>\n",
       "    </tr>\n",
       "    <tr>\n",
       "      <th>3</th>\n",
       "      <td>MG739403.1</td>\n",
       "      <td>107667</td>\n",
       "    </tr>\n",
       "    <tr>\n",
       "      <th>4</th>\n",
       "      <td>NC_053868.1</td>\n",
       "      <td>106131</td>\n",
       "    </tr>\n",
       "  </tbody>\n",
       "</table>\n",
       "</div>"
      ],
      "text/plain": [
       "       subject   count\n",
       "0  NC_011600.1  150242\n",
       "1   EU912438.1  148386\n",
       "2  NC_046005.1  108333\n",
       "3   MG739403.1  107667\n",
       "4  NC_053868.1  106131"
      ]
     },
     "execution_count": 18,
     "metadata": {},
     "output_type": "execute_result"
    }
   ],
   "source": [
    "df.head()"
   ]
  },
  {
   "cell_type": "code",
   "execution_count": 19,
   "id": "cab6a0a4",
   "metadata": {},
   "outputs": [
    {
     "data": {
      "text/plain": [
       "0             NC_011600.1\n",
       "1              EU912438.1\n",
       "2             NC_046005.1\n",
       "3              MG739403.1\n",
       "4             NC_053868.1\n",
       "              ...        \n",
       "9878           KX257198.1\n",
       "9879           DQ419510.1\n",
       "9880           DQ419500.1\n",
       "9881    JAACNO010002301.1\n",
       "9882           KM972453.1\n",
       "Name: subject, Length: 9883, dtype: object"
      ]
     },
     "execution_count": 19,
     "metadata": {},
     "output_type": "execute_result"
    }
   ],
   "source": [
    "df['subject']"
   ]
  },
  {
   "cell_type": "code",
   "execution_count": 20,
   "id": "e059cf74",
   "metadata": {},
   "outputs": [
    {
     "name": "stdout",
     "output_type": "stream",
     "text": [
      "CPU times: user 17 µs, sys: 4 µs, total: 21 µs\n",
      "Wall time: 39.1 µs\n"
     ]
    }
   ],
   "source": [
    "%%time\n",
    "def enrich_dataset(df):\n",
    "    taxon_value = df['subject']\n",
    "    Seven_Level_Taxonomy = get_7level_taxonomy(taxon_value)\n",
    "    df['7Level_Taxonomy'] = Seven_Level_Taxonomy\n",
    "    return df"
   ]
  },
  {
   "cell_type": "code",
   "execution_count": 21,
   "id": "cb1b63cd",
   "metadata": {},
   "outputs": [
    {
     "name": "stdout",
     "output_type": "stream",
     "text": [
      "CPU times: user 6min 53s, sys: 20.1 s, total: 7min 14s\n",
      "Wall time: 3h 58min 28s\n"
     ]
    }
   ],
   "source": [
    "%%time\n",
    "df = df.apply(enrich_dataset, axis=1)"
   ]
  },
  {
   "cell_type": "code",
   "execution_count": 22,
   "id": "e28a7bac",
   "metadata": {},
   "outputs": [],
   "source": [
    "df.to_csv('04_db_blastn_Nov112020_filtered_1e-20_subj_to_7level_taxonomy_enriched.csv', index= False)"
   ]
  },
  {
   "cell_type": "markdown",
   "id": "3474060d",
   "metadata": {},
   "source": [
    "# Process Taxonomic Levels, Extract Information¶"
   ]
  },
  {
   "cell_type": "code",
   "execution_count": 23,
   "id": "40614c0f",
   "metadata": {},
   "outputs": [],
   "source": [
    "df = pd.read_csv('04_db_blastn_Nov112020_filtered_1e-20_subj_to_7level_taxonomy_enriched.csv')"
   ]
  },
  {
   "cell_type": "code",
   "execution_count": 24,
   "id": "9a59994d",
   "metadata": {},
   "outputs": [
    {
     "data": {
      "text/plain": [
       "944"
      ]
     },
     "execution_count": 24,
     "metadata": {},
     "output_type": "execute_result"
    }
   ],
   "source": [
    "df['7Level_Taxonomy'].nunique()"
   ]
  },
  {
   "cell_type": "code",
   "execution_count": 25,
   "id": "363b1d3e",
   "metadata": {},
   "outputs": [
    {
     "data": {
      "text/html": [
       "<div>\n",
       "<style scoped>\n",
       "    .dataframe tbody tr th:only-of-type {\n",
       "        vertical-align: middle;\n",
       "    }\n",
       "\n",
       "    .dataframe tbody tr th {\n",
       "        vertical-align: top;\n",
       "    }\n",
       "\n",
       "    .dataframe thead th {\n",
       "        text-align: right;\n",
       "    }\n",
       "</style>\n",
       "<table border=\"1\" class=\"dataframe\">\n",
       "  <thead>\n",
       "    <tr style=\"text-align: right;\">\n",
       "      <th></th>\n",
       "      <th>subject</th>\n",
       "      <th>count</th>\n",
       "      <th>7Level_Taxonomy</th>\n",
       "    </tr>\n",
       "  </thead>\n",
       "  <tbody>\n",
       "    <tr>\n",
       "      <th>0</th>\n",
       "      <td>NC_011600.1</td>\n",
       "      <td>150242</td>\n",
       "      <td>Eukaryota; Sar; Stramenopiles; Ochrophyta; PX ...</td>\n",
       "    </tr>\n",
       "    <tr>\n",
       "      <th>1</th>\n",
       "      <td>EU912438.1</td>\n",
       "      <td>148386</td>\n",
       "      <td>Eukaryota; Sar; Stramenopiles; Ochrophyta; PX ...</td>\n",
       "    </tr>\n",
       "    <tr>\n",
       "      <th>2</th>\n",
       "      <td>NC_046005.1</td>\n",
       "      <td>108333</td>\n",
       "      <td>Eukaryota; Sar; Stramenopiles; Ochrophyta; PX ...</td>\n",
       "    </tr>\n",
       "    <tr>\n",
       "      <th>3</th>\n",
       "      <td>MG739403.1</td>\n",
       "      <td>107667</td>\n",
       "      <td>Eukaryota; Sar; Stramenopiles; Ochrophyta; PX ...</td>\n",
       "    </tr>\n",
       "    <tr>\n",
       "      <th>4</th>\n",
       "      <td>NC_053868.1</td>\n",
       "      <td>106131</td>\n",
       "      <td>Eukaryota; Sar; Stramenopiles; Stramenopiles i...</td>\n",
       "    </tr>\n",
       "  </tbody>\n",
       "</table>\n",
       "</div>"
      ],
      "text/plain": [
       "       subject   count                                    7Level_Taxonomy\n",
       "0  NC_011600.1  150242  Eukaryota; Sar; Stramenopiles; Ochrophyta; PX ...\n",
       "1   EU912438.1  148386  Eukaryota; Sar; Stramenopiles; Ochrophyta; PX ...\n",
       "2  NC_046005.1  108333  Eukaryota; Sar; Stramenopiles; Ochrophyta; PX ...\n",
       "3   MG739403.1  107667  Eukaryota; Sar; Stramenopiles; Ochrophyta; PX ...\n",
       "4  NC_053868.1  106131  Eukaryota; Sar; Stramenopiles; Stramenopiles i..."
      ]
     },
     "execution_count": 25,
     "metadata": {},
     "output_type": "execute_result"
    }
   ],
   "source": [
    "df.head(5)"
   ]
  },
  {
   "cell_type": "code",
   "execution_count": 26,
   "id": "8300f18f",
   "metadata": {},
   "outputs": [],
   "source": [
    "def taxlevel (tax):\n",
    "    tax = tax.split(\"; \")\n",
    "    tax_len = len(tax)\n",
    "    \n",
    "    return tax_len"
   ]
  },
  {
   "cell_type": "code",
   "execution_count": 27,
   "id": "71a93bf8",
   "metadata": {},
   "outputs": [],
   "source": [
    "def enrich_dataset(df):\n",
    "    taxon_level = df['7Level_Taxonomy']\n",
    "    Seven_Level_Taxonomy = taxlevel(taxon_level)\n",
    "    df['7Level_Lenght'] = Seven_Level_Taxonomy\n",
    "    return df"
   ]
  },
  {
   "cell_type": "code",
   "execution_count": 28,
   "id": "7afb6209",
   "metadata": {},
   "outputs": [
    {
     "name": "stdout",
     "output_type": "stream",
     "text": [
      "CPU times: user 6.01 s, sys: 2.43 ms, total: 6.01 s\n",
      "Wall time: 6.01 s\n"
     ]
    }
   ],
   "source": [
    "%%time\n",
    "df = df.apply(enrich_dataset, axis=1)"
   ]
  },
  {
   "cell_type": "code",
   "execution_count": 29,
   "id": "2f0ad036",
   "metadata": {},
   "outputs": [
    {
     "data": {
      "text/html": [
       "<div>\n",
       "<style scoped>\n",
       "    .dataframe tbody tr th:only-of-type {\n",
       "        vertical-align: middle;\n",
       "    }\n",
       "\n",
       "    .dataframe tbody tr th {\n",
       "        vertical-align: top;\n",
       "    }\n",
       "\n",
       "    .dataframe thead th {\n",
       "        text-align: right;\n",
       "    }\n",
       "</style>\n",
       "<table border=\"1\" class=\"dataframe\">\n",
       "  <thead>\n",
       "    <tr style=\"text-align: right;\">\n",
       "      <th></th>\n",
       "      <th>subject</th>\n",
       "      <th>count</th>\n",
       "      <th>7Level_Taxonomy</th>\n",
       "      <th>7Level_Lenght</th>\n",
       "    </tr>\n",
       "  </thead>\n",
       "  <tbody>\n",
       "    <tr>\n",
       "      <th>0</th>\n",
       "      <td>NC_011600.1</td>\n",
       "      <td>150242</td>\n",
       "      <td>Eukaryota; Sar; Stramenopiles; Ochrophyta; PX ...</td>\n",
       "      <td>9</td>\n",
       "    </tr>\n",
       "    <tr>\n",
       "      <th>1</th>\n",
       "      <td>EU912438.1</td>\n",
       "      <td>148386</td>\n",
       "      <td>Eukaryota; Sar; Stramenopiles; Ochrophyta; PX ...</td>\n",
       "      <td>9</td>\n",
       "    </tr>\n",
       "    <tr>\n",
       "      <th>2</th>\n",
       "      <td>NC_046005.1</td>\n",
       "      <td>108333</td>\n",
       "      <td>Eukaryota; Sar; Stramenopiles; Ochrophyta; PX ...</td>\n",
       "      <td>9</td>\n",
       "    </tr>\n",
       "    <tr>\n",
       "      <th>3</th>\n",
       "      <td>MG739403.1</td>\n",
       "      <td>107667</td>\n",
       "      <td>Eukaryota; Sar; Stramenopiles; Ochrophyta; PX ...</td>\n",
       "      <td>9</td>\n",
       "    </tr>\n",
       "    <tr>\n",
       "      <th>4</th>\n",
       "      <td>NC_053868.1</td>\n",
       "      <td>106131</td>\n",
       "      <td>Eukaryota; Sar; Stramenopiles; Stramenopiles i...</td>\n",
       "      <td>5</td>\n",
       "    </tr>\n",
       "  </tbody>\n",
       "</table>\n",
       "</div>"
      ],
      "text/plain": [
       "       subject   count                                    7Level_Taxonomy  \\\n",
       "0  NC_011600.1  150242  Eukaryota; Sar; Stramenopiles; Ochrophyta; PX ...   \n",
       "1   EU912438.1  148386  Eukaryota; Sar; Stramenopiles; Ochrophyta; PX ...   \n",
       "2  NC_046005.1  108333  Eukaryota; Sar; Stramenopiles; Ochrophyta; PX ...   \n",
       "3   MG739403.1  107667  Eukaryota; Sar; Stramenopiles; Ochrophyta; PX ...   \n",
       "4  NC_053868.1  106131  Eukaryota; Sar; Stramenopiles; Stramenopiles i...   \n",
       "\n",
       "   7Level_Lenght  \n",
       "0              9  \n",
       "1              9  \n",
       "2              9  \n",
       "3              9  \n",
       "4              5  "
      ]
     },
     "execution_count": 29,
     "metadata": {},
     "output_type": "execute_result"
    }
   ],
   "source": [
    "df.head()"
   ]
  },
  {
   "cell_type": "code",
   "execution_count": 30,
   "id": "ca156ce1",
   "metadata": {},
   "outputs": [
    {
     "data": {
      "text/plain": [
       "2     2282\n",
       "6     2129\n",
       "9     1167\n",
       "4      947\n",
       "8      939\n",
       "7      783\n",
       "10     516\n",
       "5      412\n",
       "3      347\n",
       "11     262\n",
       "1       99\n",
       "Name: 7Level_Lenght, dtype: int64"
      ]
     },
     "execution_count": 30,
     "metadata": {},
     "output_type": "execute_result"
    }
   ],
   "source": [
    "df['7Level_Lenght'].value_counts()"
   ]
  },
  {
   "cell_type": "code",
   "execution_count": 31,
   "id": "f3275054",
   "metadata": {},
   "outputs": [
    {
     "data": {
      "text/plain": [
       "(9883, 4)"
      ]
     },
     "execution_count": 31,
     "metadata": {},
     "output_type": "execute_result"
    }
   ],
   "source": [
    "df.shape"
   ]
  },
  {
   "cell_type": "code",
   "execution_count": 32,
   "id": "9abd7f86",
   "metadata": {},
   "outputs": [],
   "source": [
    "df[\"Levels\"] = df[\"7Level_Lenght\"].replace({11: \"11_Levels\",\n",
    "                                           10: \"10_Levels\",\n",
    "                                           9: \"9_Levels\",\n",
    "                                           8: \"8_Levels\",\n",
    "                                           7: \"7_Levels\",\n",
    "                                           6: \"6_Levels\",\n",
    "                                           5: \"5_Levels\",\n",
    "                                           4: \"4_Levels\",\n",
    "                                           3: \"3_Levels\",\n",
    "                                           2: \"2_Levels\",\n",
    "                                           1: \"1_Level\",\n",
    "                                           })"
   ]
  },
  {
   "cell_type": "code",
   "execution_count": 33,
   "id": "249bd62a",
   "metadata": {},
   "outputs": [
    {
     "data": {
      "text/html": [
       "<div>\n",
       "<style scoped>\n",
       "    .dataframe tbody tr th:only-of-type {\n",
       "        vertical-align: middle;\n",
       "    }\n",
       "\n",
       "    .dataframe tbody tr th {\n",
       "        vertical-align: top;\n",
       "    }\n",
       "\n",
       "    .dataframe thead th {\n",
       "        text-align: right;\n",
       "    }\n",
       "</style>\n",
       "<table border=\"1\" class=\"dataframe\">\n",
       "  <thead>\n",
       "    <tr style=\"text-align: right;\">\n",
       "      <th></th>\n",
       "      <th>subject</th>\n",
       "      <th>count</th>\n",
       "      <th>7Level_Taxonomy</th>\n",
       "      <th>7Level_Lenght</th>\n",
       "      <th>Levels</th>\n",
       "    </tr>\n",
       "  </thead>\n",
       "  <tbody>\n",
       "    <tr>\n",
       "      <th>0</th>\n",
       "      <td>NC_011600.1</td>\n",
       "      <td>150242</td>\n",
       "      <td>Eukaryota; Sar; Stramenopiles; Ochrophyta; PX ...</td>\n",
       "      <td>9</td>\n",
       "      <td>9_Levels</td>\n",
       "    </tr>\n",
       "    <tr>\n",
       "      <th>1</th>\n",
       "      <td>EU912438.1</td>\n",
       "      <td>148386</td>\n",
       "      <td>Eukaryota; Sar; Stramenopiles; Ochrophyta; PX ...</td>\n",
       "      <td>9</td>\n",
       "      <td>9_Levels</td>\n",
       "    </tr>\n",
       "    <tr>\n",
       "      <th>2</th>\n",
       "      <td>NC_046005.1</td>\n",
       "      <td>108333</td>\n",
       "      <td>Eukaryota; Sar; Stramenopiles; Ochrophyta; PX ...</td>\n",
       "      <td>9</td>\n",
       "      <td>9_Levels</td>\n",
       "    </tr>\n",
       "    <tr>\n",
       "      <th>3</th>\n",
       "      <td>MG739403.1</td>\n",
       "      <td>107667</td>\n",
       "      <td>Eukaryota; Sar; Stramenopiles; Ochrophyta; PX ...</td>\n",
       "      <td>9</td>\n",
       "      <td>9_Levels</td>\n",
       "    </tr>\n",
       "    <tr>\n",
       "      <th>4</th>\n",
       "      <td>NC_053868.1</td>\n",
       "      <td>106131</td>\n",
       "      <td>Eukaryota; Sar; Stramenopiles; Stramenopiles i...</td>\n",
       "      <td>5</td>\n",
       "      <td>5_Levels</td>\n",
       "    </tr>\n",
       "  </tbody>\n",
       "</table>\n",
       "</div>"
      ],
      "text/plain": [
       "       subject   count                                    7Level_Taxonomy  \\\n",
       "0  NC_011600.1  150242  Eukaryota; Sar; Stramenopiles; Ochrophyta; PX ...   \n",
       "1   EU912438.1  148386  Eukaryota; Sar; Stramenopiles; Ochrophyta; PX ...   \n",
       "2  NC_046005.1  108333  Eukaryota; Sar; Stramenopiles; Ochrophyta; PX ...   \n",
       "3   MG739403.1  107667  Eukaryota; Sar; Stramenopiles; Ochrophyta; PX ...   \n",
       "4  NC_053868.1  106131  Eukaryota; Sar; Stramenopiles; Stramenopiles i...   \n",
       "\n",
       "   7Level_Lenght    Levels  \n",
       "0              9  9_Levels  \n",
       "1              9  9_Levels  \n",
       "2              9  9_Levels  \n",
       "3              9  9_Levels  \n",
       "4              5  5_Levels  "
      ]
     },
     "execution_count": 33,
     "metadata": {},
     "output_type": "execute_result"
    }
   ],
   "source": [
    "df.head()"
   ]
  },
  {
   "cell_type": "code",
   "execution_count": 34,
   "id": "e084d3c2",
   "metadata": {},
   "outputs": [
    {
     "data": {
      "text/plain": [
       "<AxesSubplot:>"
      ]
     },
     "execution_count": 34,
     "metadata": {},
     "output_type": "execute_result"
    },
    {
     "data": {
      "image/png": "[encoded data removed]",
      "text/plain": [
       "<Figure size 2160x576 with 1 Axes>"
      ]
     },
     "metadata": {},
     "output_type": "display_data"
    }
   ],
   "source": [
    "plt.rcParams[\"figure.figsize\"] = (30,8)\n",
    "colors = sns.color_palette('pastel')[0:11]\n",
    "df['Levels'].value_counts().plot.pie(labeldistance=1.15, \n",
    "                                     wedgeprops = { 'linewidth' : 3, 'edgecolor' : 'white' }, \n",
    "                                     colors=colors,\n",
    "                                     ylabel='')"
   ]
  },
  {
   "cell_type": "code",
   "execution_count": 35,
   "id": "d3b74693",
   "metadata": {},
   "outputs": [
    {
     "data": {
      "text/plain": [
       "<AxesSubplot:>"
      ]
     },
     "execution_count": 35,
     "metadata": {},
     "output_type": "execute_result"
    },
    {
     "data": {
      "image/png": "[encoded data removed]",
      "text/plain": [
       "<Figure size 2160x576 with 1 Axes>"
      ]
     },
     "metadata": {},
     "output_type": "display_data"
    }
   ],
   "source": [
    "plt.rcParams[\"figure.figsize\"] = (30,8)\n",
    "colors = sns.color_palette('pastel')[0:11]\n",
    "explode = (0.1, 0.1, 0, 0, 0, 0, 0, 0, 0, 0, 0)\n",
    "df['Levels'].value_counts().plot.pie(labeldistance=1.15, \n",
    "                                     wedgeprops = { 'linewidth' : 3, 'edgecolor' : 'white' }, \n",
    "                                     colors=colors,\n",
    "                                     ylabel='',\n",
    "                                     autopct='%1.1f%%',\n",
    "                                    explode = explode)"
   ]
  },
  {
   "cell_type": "code",
   "execution_count": 36,
   "id": "54f176ce",
   "metadata": {},
   "outputs": [
    {
     "data": {
      "text/plain": [
       "<AxesSubplot:>"
      ]
     },
     "execution_count": 36,
     "metadata": {},
     "output_type": "execute_result"
    },
    {
     "data": {
      "image/png": "[encoded data removed]",
      "text/plain": [
       "<Figure size 2160x576 with 1 Axes>"
      ]
     },
     "metadata": {
      "needs_background": "light"
     },
     "output_type": "display_data"
    }
   ],
   "source": [
    "df['Levels'].value_counts().plot.bar()"
   ]
  },
  {
   "cell_type": "markdown",
   "id": "317e8dcb",
   "metadata": {},
   "source": [
    "##### Saving the count of taxonomic levels of each subject (blasted accession numbers from Nucleotide database of NCBI)¶"
   ]
  },
  {
   "cell_type": "code",
   "execution_count": 37,
   "id": "e2799694",
   "metadata": {},
   "outputs": [],
   "source": [
    "df.to_csv('05_db_blastn_Nov112020_filtered_1e-20_subj_to_7level_taxonomy_enriched.csv', index= False)"
   ]
  }
 ],
 "metadata": {
  "kernelspec": {
   "display_name": "Python 3 (ipykernel)",
   "language": "python",
   "name": "python3"
  },
  "language_info": {
   "codemirror_mode": {
    "name": "ipython",
    "version": 3
   },
   "file_extension": ".py",
   "mimetype": "text/x-python",
   "name": "python",
   "nbconvert_exporter": "python",
   "pygments_lexer": "ipython3",
   "version": "3.10.2"
  }
 },
 "nbformat": 4,
 "nbformat_minor": 5
}
