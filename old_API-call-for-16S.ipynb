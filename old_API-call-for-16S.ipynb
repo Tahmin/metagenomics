{
 "cells": [
  {
   "cell_type": "code",
   "execution_count": 13,
   "id": "3ec42eae",
   "metadata": {},
   "outputs": [],
   "source": [
    "import requests\n",
    "import xmltodict\n",
    "from Bio import pairwise2\n",
    "from Bio.pairwise2 import format_alignment\n",
    "import concurrent.futures\n",
    "import time"
   ]
  },
  {
   "cell_type": "code",
   "execution_count": 2,
   "id": "108a75c5",
   "metadata": {},
   "outputs": [],
   "source": [
    "base_url = \"https://eutils.ncbi.nlm.nih.gov/entrez/eutils/{}\""
   ]
  },
  {
   "cell_type": "code",
   "execution_count": 3,
   "id": "5f8745a6",
   "metadata": {},
   "outputs": [
    {
     "data": {
      "text/plain": [
       "229"
      ]
     },
     "execution_count": 3,
     "metadata": {},
     "output_type": "execute_result"
    }
   ],
   "source": [
    "db = \"gene\"\n",
    "search_word_1 = '(16s+algae+green+plants)+AND+%22green+algae%22[porgn:__txid3041]+AND+(alive[prop])'\n",
    "search = \"esearch.fcgi?db={}&term={}&retmax=100000\".format(db, search_word_1)\n",
    "esearch_response = requests.get(base_url.format(search))\n",
    "esearch_dict = xmltodict.parse(esearch_response.content)\n",
    "IdList = esearch_dict['eSearchResult']['IdList']['Id']\n",
    "len(IdList)"
   ]
  },
  {
   "cell_type": "code",
   "execution_count": 9,
   "id": "e283bf90",
   "metadata": {},
   "outputs": [],
   "source": [
    "algae_nc_list = []\n",
    "def get_taxon(taxon_id):\n",
    "    try:\n",
    "        search = \"efetch.fcgi?db={}&id={}&rettype=xml\".format(db, taxon_id)\n",
    "        esearch_response = requests.get(base_url.format(search))\n",
    "        esearch_dict = xmltodict.parse(esearch_response.content)\n",
    "        NC = esearch_dict['Entrezgene-Set']['Entrezgene']['Entrezgene_gene-source']['Gene-source']['Gene-source_src-str1']\n",
    "        algae_nc_list.append(NC)\n",
    "    except:\n",
    "        print (taxon_id, \"NULL\")\n",
    "        pass"
   ]
  },
  {
   "cell_type": "code",
   "execution_count": null,
   "id": "bae9f1b7",
   "metadata": {},
   "outputs": [],
   "source": []
  },
  {
   "cell_type": "code",
   "execution_count": 17,
   "id": "06ed3dbb",
   "metadata": {},
   "outputs": [
    {
     "name": "stdout",
     "output_type": "stream",
     "text": [
      "40145902 NULL\n",
      "30511877 NULL\n"
     ]
    }
   ],
   "source": [
    "algae_nc_list = []\n",
    "for Id in IdList:\n",
    "    try:\n",
    "        search = \"efetch.fcgi?db={}&id={}&rettype=xml\".format(db, Id)\n",
    "        esearch_response = requests.get(base_url.format(search))\n",
    "        esearch_dict = xmltodict.parse(esearch_response.content)\n",
    "        NC = esearch_dict['Entrezgene-Set']['Entrezgene']['Entrezgene_gene-source']['Gene-source']['Gene-source_src-str1']\n",
    "        algae_nc_list.append(NC)\n",
    "    except:\n",
    "        print (Id, \"NULL\")\n",
    "        pass"
   ]
  },
  {
   "cell_type": "code",
   "execution_count": 19,
   "id": "753e50f5",
   "metadata": {},
   "outputs": [
    {
     "data": {
      "text/plain": [
       "227"
      ]
     },
     "execution_count": 19,
     "metadata": {},
     "output_type": "execute_result"
    }
   ],
   "source": [
    "len(algae_nc_list)"
   ]
  },
  {
   "cell_type": "code",
   "execution_count": 20,
   "id": "60e94c75",
   "metadata": {},
   "outputs": [],
   "source": [
    "for algae_nc in algae_nc_list:\n",
    "    try:\n",
    "        fasta = \"efetch.fcgi?db=nuccore&id={}.1&rettype=fasta\".format(algae_nc)\n",
    "        download_fasta = requests.get(base_url.format(fasta))\n",
    "        file = open(\"16S_Algae/\" + \"{}.fasta\".format(algae_nc), \"w\")\n",
    "        file.write(download_fasta.text)\n",
    "        file.close()\n",
    "    except:\n",
    "        print (algae_nc, \"Not Found\")\n",
    "        pass"
   ]
  },
  {
   "cell_type": "code",
   "execution_count": null,
   "id": "64e67d37",
   "metadata": {},
   "outputs": [],
   "source": [
    "\n",
    "\n"
   ]
  }
 ],
 "metadata": {
  "kernelspec": {
   "display_name": "Python 3 (ipykernel)",
   "language": "python",
   "name": "python3"
  },
  "language_info": {
   "codemirror_mode": {
    "name": "ipython",
    "version": 3
   },
   "file_extension": ".py",
   "mimetype": "text/x-python",
   "name": "python",
   "nbconvert_exporter": "python",
   "pygments_lexer": "ipython3",
   "version": "3.8.10"
  }
 },
 "nbformat": 4,
 "nbformat_minor": 5
}
