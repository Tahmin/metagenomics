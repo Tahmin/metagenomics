{
 "cells": [
  {
   "cell_type": "code",
   "execution_count": 1,
   "id": "3ec42eae",
   "metadata": {},
   "outputs": [],
   "source": [
    "import requests\n",
    "import xmltodict\n",
    "from Bio import pairwise2\n",
    "from Bio.pairwise2 import format_alignment\n",
    "import concurrent.futures\n",
    "import time"
   ]
  },
  {
   "cell_type": "markdown",
   "id": "1c1f953c",
   "metadata": {},
   "source": [
    "# Get 16s 'green algae' (1783) and 'more' (190) from Nucleotide database of NCBI"
   ]
  },
  {
   "cell_type": "code",
   "execution_count": 2,
   "id": "108a75c5",
   "metadata": {},
   "outputs": [],
   "source": [
    "base_url = \"https://eutils.ncbi.nlm.nih.gov/entrez/eutils/{}\"\n",
    "db = \"nuccore\"\n",
    "search_term = '(16s[All+Fields]+AND+%22eukaryotes%22[porgn])+AND+%22green+plants%22[porgn]+NOT+%22land+plants%22[porgn]'\n",
    "search = \"esearch.fcgi?db={}&term={}&retmax=100000\".format(db, search_term)"
   ]
  },
  {
   "cell_type": "code",
   "execution_count": 3,
   "id": "5f8745a6",
   "metadata": {},
   "outputs": [
    {
     "data": {
      "text/plain": [
       "1973"
      ]
     },
     "execution_count": 3,
     "metadata": {},
     "output_type": "execute_result"
    }
   ],
   "source": [
    "esearch_response = requests.get(base_url.format(search))\n",
    "esearch_dict = xmltodict.parse(esearch_response.content)\n",
    "IdList = esearch_dict['eSearchResult']['IdList']['Id']\n",
    "len(IdList)"
   ]
  },
  {
   "cell_type": "code",
   "execution_count": 4,
   "id": "9f41187e",
   "metadata": {},
   "outputs": [],
   "source": [
    "algae_nc_list = []\n",
    "\n",
    "def get_locus(taxon_id):\n",
    "    try:\n",
    "        search = \"efetch.fcgi?db={}&id={}&rettype=acc\".format(db, taxon_id)\n",
    "        locus_id = requests.get(base_url.format(search)).text\n",
    "        locus_id = locus_id.split('.')\n",
    "        locus_id = locus_id[0]\n",
    "        algae_nc_list.append(locus_id)\n",
    "        \n",
    "    except:\n",
    "        print (locus_id, \"NULL\")\n",
    "        pass"
   ]
  },
  {
   "cell_type": "code",
   "execution_count": 5,
   "id": "4094f776",
   "metadata": {},
   "outputs": [
    {
     "name": "stdout",
     "output_type": "stream",
     "text": [
      "CPU times: user 53.5 s, sys: 2.18 s, total: 55.7 s\n",
      "Wall time: 18min 42s\n"
     ]
    }
   ],
   "source": [
    "%%time\n",
    "for taxon_id in IdList:\n",
    "    get_locus(taxon_id)"
   ]
  },
  {
   "cell_type": "code",
   "execution_count": 6,
   "id": "d70a1e85",
   "metadata": {},
   "outputs": [
    {
     "data": {
      "text/plain": [
       "1973"
      ]
     },
     "execution_count": 6,
     "metadata": {},
     "output_type": "execute_result"
    }
   ],
   "source": [
    "len(algae_nc_list)"
   ]
  },
  {
   "cell_type": "code",
   "execution_count": 7,
   "id": "520d1326",
   "metadata": {},
   "outputs": [],
   "source": [
    "def get_fasta(nuc_id):\n",
    "    try:\n",
    "        fasta = \"efetch.fcgi?db=nuccore&id={}.1&rettype=fasta\".format(nuc_id)\n",
    "        download_fasta = requests.get(base_url.format(fasta))\n",
    "        file = open(\"16S_GreenAlgae/\" + \"{}.fasta\".format(nuc_id), \"w\")\n",
    "        file.write(download_fasta.text)\n",
    "        file.close()\n",
    "        time.sleep(1)\n",
    "    except:\n",
    "        print (nuc_id, \"Not Found\")\n",
    "        time.sleep(1)\n",
    "        pass"
   ]
  },
  {
   "cell_type": "code",
   "execution_count": 8,
   "id": "f1e279da",
   "metadata": {},
   "outputs": [
    {
     "name": "stdout",
     "output_type": "stream",
     "text": [
      "CPU times: user 56.8 s, sys: 3.35 s, total: 1min\n",
      "Wall time: 58min 37s\n"
     ]
    }
   ],
   "source": [
    "%%time\n",
    "for locus_id in algae_nc_list:\n",
    "    get_fasta(locus_id)"
   ]
  },
  {
   "cell_type": "raw",
   "id": "f1b5d295",
   "metadata": {},
   "source": [
    "%%time\n",
    "with concurrent.futures.ThreadPoolExecutor() as executor:\n",
    "    executor.map(get_fasta, algae_nc_list)"
   ]
  },
  {
   "cell_type": "markdown",
   "id": "60f8ac51",
   "metadata": {},
   "source": [
    "# Get 16s 'diatoms' (1770) from Nucleotide database of NCBI"
   ]
  },
  {
   "cell_type": "code",
   "execution_count": 21,
   "id": "2b82da98",
   "metadata": {},
   "outputs": [],
   "source": [
    "base_url = \"https://eutils.ncbi.nlm.nih.gov/entrez/eutils/{}\"\n",
    "db = \"nuccore\"\n",
    "search_term = '((16s)+AND+%22eukaryotes%22[porgn:__txid2759]+NOT+%22animals%22[porgn:__txid33208])+AND+%22diatoms%22[porgn:__txid2836]'\n",
    "search = \"esearch.fcgi?db={}&term={}&retmax=100000\".format(db, search_term)"
   ]
  },
  {
   "cell_type": "code",
   "execution_count": 40,
   "id": "a1ff0138",
   "metadata": {},
   "outputs": [
    {
     "data": {
      "text/plain": [
       "1770"
      ]
     },
     "execution_count": 40,
     "metadata": {},
     "output_type": "execute_result"
    }
   ],
   "source": [
    "esearch_response = requests.get(base_url.format(search))\n",
    "esearch_dict = xmltodict.parse(esearch_response.content)\n",
    "IdList = esearch_dict['eSearchResult']['IdList']['Id']\n",
    "len(IdList)"
   ]
  },
  {
   "cell_type": "code",
   "execution_count": 41,
   "id": "f87b23a4",
   "metadata": {},
   "outputs": [],
   "source": [
    "algae_nc_list = []\n",
    "\n",
    "def get_locus(taxon_id):\n",
    "    try:\n",
    "        search = \"efetch.fcgi?db={}&id={}&rettype=acc\".format(db, taxon_id)\n",
    "        locus_id = requests.get(base_url.format(search)).text\n",
    "        locus_id = locus_id.split('.')\n",
    "        locus_id = locus_id[0]\n",
    "        algae_nc_list.append(locus_id)\n",
    "        \n",
    "    except:\n",
    "        print (locus_id, \"NULL\")\n",
    "        pass"
   ]
  },
  {
   "cell_type": "code",
   "execution_count": 42,
   "id": "d3eb32b0",
   "metadata": {},
   "outputs": [
    {
     "name": "stdout",
     "output_type": "stream",
     "text": [
      "CPU times: user 48.5 s, sys: 2.07 s, total: 50.5 s\n",
      "Wall time: 17min 40s\n"
     ]
    }
   ],
   "source": [
    "%%time\n",
    "for taxon_id in IdList:\n",
    "    get_locus(taxon_id)"
   ]
  },
  {
   "cell_type": "code",
   "execution_count": 43,
   "id": "3f291d2c",
   "metadata": {},
   "outputs": [
    {
     "data": {
      "text/plain": [
       "1770"
      ]
     },
     "execution_count": 43,
     "metadata": {},
     "output_type": "execute_result"
    }
   ],
   "source": [
    "len(algae_nc_list)"
   ]
  },
  {
   "cell_type": "code",
   "execution_count": 44,
   "id": "641eb13b",
   "metadata": {},
   "outputs": [],
   "source": [
    "def get_fasta(nuc_id):\n",
    "    try:\n",
    "        fasta = \"efetch.fcgi?db=nuccore&id={}.1&rettype=fasta\".format(nuc_id)\n",
    "        download_fasta = requests.get(base_url.format(fasta))\n",
    "        file = open(\"16S_Diatoms/\" + \"{}.fasta\".format(nuc_id), \"w\")\n",
    "        file.write(download_fasta.text)\n",
    "        file.close()\n",
    "        time.sleep(1)\n",
    "    except:\n",
    "        print (nuc_id, \"Not Found\")\n",
    "        time.sleep(1)\n",
    "        pass"
   ]
  },
  {
   "cell_type": "code",
   "execution_count": 45,
   "id": "88b64755",
   "metadata": {},
   "outputs": [
    {
     "name": "stdout",
     "output_type": "stream",
     "text": [
      "CPU times: user 51.1 s, sys: 3.02 s, total: 54.1 s\n",
      "Wall time: 52min 4s\n"
     ]
    }
   ],
   "source": [
    "%%time\n",
    "for locus_id in algae_nc_list:\n",
    "    get_fasta(locus_id)"
   ]
  },
  {
   "cell_type": "markdown",
   "id": "34e05b4a",
   "metadata": {},
   "source": [
    "# Get 16s 'haptophytes' (662) from Nucleotide database of NCBI"
   ]
  },
  {
   "cell_type": "code",
   "execution_count": 2,
   "id": "0b1fe100",
   "metadata": {},
   "outputs": [],
   "source": [
    "base_url = \"https://eutils.ncbi.nlm.nih.gov/entrez/eutils/{}\"\n",
    "db = \"nuccore\"\n",
    "search_term = '(16s[All+Fields]+AND+%22eukaryotes%22[porgn]+NOT+%22animals%22[porgn])+AND+%22haptophytes%22[porgn]'\n",
    "search = \"esearch.fcgi?db={}&term={}&retmax=100000\".format(db, search_term)"
   ]
  },
  {
   "cell_type": "code",
   "execution_count": 3,
   "id": "0cbd123d",
   "metadata": {},
   "outputs": [
    {
     "data": {
      "text/plain": [
       "662"
      ]
     },
     "execution_count": 3,
     "metadata": {},
     "output_type": "execute_result"
    }
   ],
   "source": [
    "esearch_response = requests.get(base_url.format(search))\n",
    "esearch_dict = xmltodict.parse(esearch_response.content)\n",
    "IdList = esearch_dict['eSearchResult']['IdList']['Id']\n",
    "len(IdList)"
   ]
  },
  {
   "cell_type": "code",
   "execution_count": 4,
   "id": "adcbedd7",
   "metadata": {},
   "outputs": [],
   "source": [
    "algae_nc_list = []\n",
    "\n",
    "def get_locus(taxon_id):\n",
    "    try:\n",
    "        search = \"efetch.fcgi?db={}&id={}&rettype=acc\".format(db, taxon_id)\n",
    "        locus_id = requests.get(base_url.format(search)).text\n",
    "        locus_id = locus_id.split('.')\n",
    "        locus_id = locus_id[0]\n",
    "        algae_nc_list.append(locus_id)\n",
    "        \n",
    "    except:\n",
    "        print (locus_id, \"NULL\")\n",
    "        pass"
   ]
  },
  {
   "cell_type": "code",
   "execution_count": 5,
   "id": "e08227e1",
   "metadata": {},
   "outputs": [
    {
     "name": "stdout",
     "output_type": "stream",
     "text": [
      "CPU times: user 17.1 s, sys: 706 ms, total: 17.8 s\n",
      "Wall time: 5min 49s\n"
     ]
    }
   ],
   "source": [
    "%%time\n",
    "for taxon_id in IdList:\n",
    "    get_locus(taxon_id)"
   ]
  },
  {
   "cell_type": "code",
   "execution_count": 6,
   "id": "9f42993a",
   "metadata": {},
   "outputs": [
    {
     "data": {
      "text/plain": [
       "662"
      ]
     },
     "execution_count": 6,
     "metadata": {},
     "output_type": "execute_result"
    }
   ],
   "source": [
    "len(algae_nc_list)"
   ]
  },
  {
   "cell_type": "code",
   "execution_count": 7,
   "id": "ff76d13c",
   "metadata": {},
   "outputs": [],
   "source": [
    "def get_fasta(nuc_id):\n",
    "    try:\n",
    "        fasta = \"efetch.fcgi?db=nuccore&id={}.1&rettype=fasta\".format(nuc_id)\n",
    "        download_fasta = requests.get(base_url.format(fasta))\n",
    "        file = open(\"16S_Haptophytes/\" + \"{}.fasta\".format(nuc_id), \"w\")\n",
    "        file.write(download_fasta.text)\n",
    "        file.close()\n",
    "        time.sleep(1)\n",
    "    except:\n",
    "        print (nuc_id, \"Not Found\")\n",
    "        time.sleep(1)\n",
    "        pass"
   ]
  },
  {
   "cell_type": "code",
   "execution_count": 9,
   "id": "c8da8bf0",
   "metadata": {},
   "outputs": [
    {
     "name": "stdout",
     "output_type": "stream",
     "text": [
      "CPU times: user 17.7 s, sys: 948 ms, total: 18.6 s\n",
      "Wall time: 19min 15s\n"
     ]
    }
   ],
   "source": [
    "%%time\n",
    "for locus_id in algae_nc_list:\n",
    "    get_fasta(locus_id)"
   ]
  },
  {
   "cell_type": "markdown",
   "id": "b398158f",
   "metadata": {},
   "source": [
    "# Get 16s 'cryptomonads' (622) from Nucleotide database of NCBI"
   ]
  },
  {
   "cell_type": "code",
   "execution_count": 10,
   "id": "34c8d462",
   "metadata": {},
   "outputs": [],
   "source": [
    "base_url = \"https://eutils.ncbi.nlm.nih.gov/entrez/eutils/{}\"\n",
    "db = \"nuccore\"\n",
    "search_term = '((16s)+AND+%22eukaryotes%22[porgn:__txid2759]+NOT+%22animals%22[porgn:__txid33208])+AND+%22cryptomonads%22[porgn:__txid3027]'\n",
    "search = \"esearch.fcgi?db={}&term={}&retmax=100000\".format(db, search_term)"
   ]
  },
  {
   "cell_type": "code",
   "execution_count": 11,
   "id": "86b913d8",
   "metadata": {},
   "outputs": [
    {
     "data": {
      "text/plain": [
       "622"
      ]
     },
     "execution_count": 11,
     "metadata": {},
     "output_type": "execute_result"
    }
   ],
   "source": [
    "esearch_response = requests.get(base_url.format(search))\n",
    "esearch_dict = xmltodict.parse(esearch_response.content)\n",
    "IdList = esearch_dict['eSearchResult']['IdList']['Id']\n",
    "len(IdList)"
   ]
  },
  {
   "cell_type": "code",
   "execution_count": 12,
   "id": "76bc1a7f",
   "metadata": {},
   "outputs": [],
   "source": [
    "algae_nc_list = []\n",
    "\n",
    "def get_locus(taxon_id):\n",
    "    try:\n",
    "        search = \"efetch.fcgi?db={}&id={}&rettype=acc\".format(db, taxon_id)\n",
    "        locus_id = requests.get(base_url.format(search)).text\n",
    "        locus_id = locus_id.split('.')\n",
    "        locus_id = locus_id[0]\n",
    "        algae_nc_list.append(locus_id)\n",
    "        \n",
    "    except:\n",
    "        print (locus_id, \"NULL\")\n",
    "        pass"
   ]
  },
  {
   "cell_type": "code",
   "execution_count": 13,
   "id": "404e4375",
   "metadata": {},
   "outputs": [
    {
     "name": "stdout",
     "output_type": "stream",
     "text": [
      "CPU times: user 16 s, sys: 726 ms, total: 16.7 s\n",
      "Wall time: 5min 38s\n"
     ]
    }
   ],
   "source": [
    "%%time\n",
    "for taxon_id in IdList:\n",
    "    get_locus(taxon_id)"
   ]
  },
  {
   "cell_type": "code",
   "execution_count": 14,
   "id": "ae070817",
   "metadata": {},
   "outputs": [
    {
     "data": {
      "text/plain": [
       "622"
      ]
     },
     "execution_count": 14,
     "metadata": {},
     "output_type": "execute_result"
    }
   ],
   "source": [
    "len(algae_nc_list)"
   ]
  },
  {
   "cell_type": "code",
   "execution_count": 15,
   "id": "db58a7ca",
   "metadata": {},
   "outputs": [],
   "source": [
    "def get_fasta(nuc_id):\n",
    "    try:\n",
    "        fasta = \"efetch.fcgi?db=nuccore&id={}.1&rettype=fasta\".format(nuc_id)\n",
    "        download_fasta = requests.get(base_url.format(fasta))\n",
    "        file = open(\"16S_Cryptomonads/\" + \"{}.fasta\".format(nuc_id), \"w\")\n",
    "        file.write(download_fasta.text)\n",
    "        file.close()\n",
    "        time.sleep(1)\n",
    "    except:\n",
    "        print (nuc_id, \"Not Found\")\n",
    "        time.sleep(1)\n",
    "        pass"
   ]
  },
  {
   "cell_type": "code",
   "execution_count": 16,
   "id": "64cca414",
   "metadata": {},
   "outputs": [
    {
     "name": "stdout",
     "output_type": "stream",
     "text": [
      "CPU times: user 16.5 s, sys: 900 ms, total: 17.4 s\n",
      "Wall time: 17min 59s\n"
     ]
    }
   ],
   "source": [
    "%%time\n",
    "for locus_id in algae_nc_list:\n",
    "    get_fasta(locus_id)"
   ]
  },
  {
   "cell_type": "markdown",
   "id": "7f3dcfdf",
   "metadata": {},
   "source": [
    "# Get 16s 'red algae' (432) from Nucleotide database of NCBI"
   ]
  },
  {
   "cell_type": "code",
   "execution_count": 17,
   "id": "e42b6559",
   "metadata": {},
   "outputs": [],
   "source": [
    "base_url = \"https://eutils.ncbi.nlm.nih.gov/entrez/eutils/{}\"\n",
    "db = \"nuccore\"\n",
    "search_term = '((16s)+AND+%22eukaryotes%22[porgn:__txid2759]+NOT+%22animals%22[porgn:__txid33208])+AND+%22red+algae%22[porgn:__txid2763]'\n",
    "search = \"esearch.fcgi?db={}&term={}&retmax=100000\".format(db, search_term)"
   ]
  },
  {
   "cell_type": "code",
   "execution_count": 18,
   "id": "59b36d81",
   "metadata": {},
   "outputs": [
    {
     "data": {
      "text/plain": [
       "432"
      ]
     },
     "execution_count": 18,
     "metadata": {},
     "output_type": "execute_result"
    }
   ],
   "source": [
    "esearch_response = requests.get(base_url.format(search))\n",
    "esearch_dict = xmltodict.parse(esearch_response.content)\n",
    "IdList = esearch_dict['eSearchResult']['IdList']['Id']\n",
    "len(IdList)"
   ]
  },
  {
   "cell_type": "code",
   "execution_count": 19,
   "id": "a9232fe4",
   "metadata": {},
   "outputs": [],
   "source": [
    "algae_nc_list = []\n",
    "\n",
    "def get_locus(taxon_id):\n",
    "    try:\n",
    "        search = \"efetch.fcgi?db={}&id={}&rettype=acc\".format(db, taxon_id)\n",
    "        locus_id = requests.get(base_url.format(search)).text\n",
    "        locus_id = locus_id.split('.')\n",
    "        locus_id = locus_id[0]\n",
    "        algae_nc_list.append(locus_id)\n",
    "        \n",
    "    except:\n",
    "        print (locus_id, \"NULL\")\n",
    "        pass"
   ]
  },
  {
   "cell_type": "code",
   "execution_count": 20,
   "id": "7151fd1a",
   "metadata": {},
   "outputs": [
    {
     "name": "stdout",
     "output_type": "stream",
     "text": [
      "CPU times: user 11.1 s, sys: 525 ms, total: 11.6 s\n",
      "Wall time: 4min 6s\n"
     ]
    }
   ],
   "source": [
    "%%time\n",
    "for taxon_id in IdList:\n",
    "    get_locus(taxon_id)"
   ]
  },
  {
   "cell_type": "code",
   "execution_count": 21,
   "id": "bef7b632",
   "metadata": {},
   "outputs": [
    {
     "data": {
      "text/plain": [
       "432"
      ]
     },
     "execution_count": 21,
     "metadata": {},
     "output_type": "execute_result"
    }
   ],
   "source": [
    "len(algae_nc_list)"
   ]
  },
  {
   "cell_type": "code",
   "execution_count": 22,
   "id": "d7a01a74",
   "metadata": {},
   "outputs": [],
   "source": [
    "def get_fasta(nuc_id):\n",
    "    try:\n",
    "        fasta = \"efetch.fcgi?db=nuccore&id={}.1&rettype=fasta\".format(nuc_id)\n",
    "        download_fasta = requests.get(base_url.format(fasta))\n",
    "        file = open(\"16S_RedAlgae/\" + \"{}.fasta\".format(nuc_id), \"w\")\n",
    "        file.write(download_fasta.text)\n",
    "        file.close()\n",
    "        time.sleep(1)\n",
    "    except:\n",
    "        print (nuc_id, \"Not Found\")\n",
    "        time.sleep(1)\n",
    "        pass"
   ]
  },
  {
   "cell_type": "code",
   "execution_count": 23,
   "id": "97adba57",
   "metadata": {},
   "outputs": [
    {
     "name": "stdout",
     "output_type": "stream",
     "text": [
      "CPU times: user 13.3 s, sys: 957 ms, total: 14.2 s\n",
      "Wall time: 13min 1s\n"
     ]
    }
   ],
   "source": [
    "%%time\n",
    "for locus_id in algae_nc_list:\n",
    "    get_fasta(locus_id)"
   ]
  },
  {
   "cell_type": "markdown",
   "id": "30700c85",
   "metadata": {},
   "source": [
    "# Get 16s 'euglenoids' (416) from Nucleotide database of NCBI"
   ]
  },
  {
   "cell_type": "code",
   "execution_count": 24,
   "id": "7d40e251",
   "metadata": {},
   "outputs": [],
   "source": [
    "base_url = \"https://eutils.ncbi.nlm.nih.gov/entrez/eutils/{}\"\n",
    "db = \"nuccore\"\n",
    "search_term = '((16s)+AND+%22eukaryotes%22[porgn:__txid2759]+NOT+%22animals%22[porgn:__txid33208])+AND+%22euglenoids%22[porgn:__txid3035]'\n",
    "search = \"esearch.fcgi?db={}&term={}&retmax=100000\".format(db, search_term)"
   ]
  },
  {
   "cell_type": "code",
   "execution_count": 25,
   "id": "83e0d0f2",
   "metadata": {},
   "outputs": [
    {
     "data": {
      "text/plain": [
       "416"
      ]
     },
     "execution_count": 25,
     "metadata": {},
     "output_type": "execute_result"
    }
   ],
   "source": [
    "esearch_response = requests.get(base_url.format(search))\n",
    "esearch_dict = xmltodict.parse(esearch_response.content)\n",
    "IdList = esearch_dict['eSearchResult']['IdList']['Id']\n",
    "len(IdList)"
   ]
  },
  {
   "cell_type": "code",
   "execution_count": 26,
   "id": "aeeda63c",
   "metadata": {},
   "outputs": [],
   "source": [
    "algae_nc_list = []\n",
    "\n",
    "def get_locus(taxon_id):\n",
    "    try:\n",
    "        search = \"efetch.fcgi?db={}&id={}&rettype=acc\".format(db, taxon_id)\n",
    "        locus_id = requests.get(base_url.format(search)).text\n",
    "        locus_id = locus_id.split('.')\n",
    "        locus_id = locus_id[0]\n",
    "        algae_nc_list.append(locus_id)\n",
    "        \n",
    "    except:\n",
    "        print (locus_id, \"NULL\")\n",
    "        pass"
   ]
  },
  {
   "cell_type": "code",
   "execution_count": 27,
   "id": "842c387b",
   "metadata": {},
   "outputs": [
    {
     "name": "stdout",
     "output_type": "stream",
     "text": [
      "CPU times: user 10.9 s, sys: 414 ms, total: 11.3 s\n",
      "Wall time: 3min 49s\n"
     ]
    }
   ],
   "source": [
    "%%time\n",
    "for taxon_id in IdList:\n",
    "    get_locus(taxon_id)"
   ]
  },
  {
   "cell_type": "code",
   "execution_count": 28,
   "id": "4b04e67e",
   "metadata": {},
   "outputs": [
    {
     "data": {
      "text/plain": [
       "416"
      ]
     },
     "execution_count": 28,
     "metadata": {},
     "output_type": "execute_result"
    }
   ],
   "source": [
    "len(algae_nc_list)"
   ]
  },
  {
   "cell_type": "code",
   "execution_count": 29,
   "id": "34ea7057",
   "metadata": {},
   "outputs": [],
   "source": [
    "def get_fasta(nuc_id):\n",
    "    try:\n",
    "        fasta = \"efetch.fcgi?db=nuccore&id={}.1&rettype=fasta\".format(nuc_id)\n",
    "        download_fasta = requests.get(base_url.format(fasta))\n",
    "        file = open(\"16S_Euglenoids/\" + \"{}.fasta\".format(nuc_id), \"w\")\n",
    "        file.write(download_fasta.text)\n",
    "        file.close()\n",
    "        time.sleep(1)\n",
    "    except:\n",
    "        print (nuc_id, \"Not Found\")\n",
    "        time.sleep(1)\n",
    "        pass"
   ]
  },
  {
   "cell_type": "code",
   "execution_count": 30,
   "id": "f3b44841",
   "metadata": {},
   "outputs": [
    {
     "name": "stdout",
     "output_type": "stream",
     "text": [
      "CPU times: user 11.2 s, sys: 671 ms, total: 11.9 s\n",
      "Wall time: 12min 4s\n"
     ]
    }
   ],
   "source": [
    "%%time\n",
    "for locus_id in algae_nc_list:\n",
    "    get_fasta(locus_id)"
   ]
  },
  {
   "cell_type": "markdown",
   "id": "95786029",
   "metadata": {},
   "source": [
    "# Get 16s 'brown algae' (305) from Nucleotide database of NCBI"
   ]
  },
  {
   "cell_type": "code",
   "execution_count": 31,
   "id": "de149bea",
   "metadata": {},
   "outputs": [],
   "source": [
    "base_url = \"https://eutils.ncbi.nlm.nih.gov/entrez/eutils/{}\"\n",
    "db = \"nuccore\"\n",
    "search_term = '((16s)+AND+%22eukaryotes%22[porgn:__txid2759]+NOT+%22animals%22[porgn:__txid33208])+AND+%22brown+algae%22[porgn:__txid2870]'\n",
    "search = \"esearch.fcgi?db={}&term={}&retmax=100000\".format(db, search_term)"
   ]
  },
  {
   "cell_type": "code",
   "execution_count": 32,
   "id": "4f1260cb",
   "metadata": {},
   "outputs": [
    {
     "data": {
      "text/plain": [
       "305"
      ]
     },
     "execution_count": 32,
     "metadata": {},
     "output_type": "execute_result"
    }
   ],
   "source": [
    "esearch_response = requests.get(base_url.format(search))\n",
    "esearch_dict = xmltodict.parse(esearch_response.content)\n",
    "IdList = esearch_dict['eSearchResult']['IdList']['Id']\n",
    "len(IdList)"
   ]
  },
  {
   "cell_type": "code",
   "execution_count": 33,
   "id": "8d93ae99",
   "metadata": {},
   "outputs": [],
   "source": [
    "algae_nc_list = []\n",
    "\n",
    "def get_locus(taxon_id):\n",
    "    try:\n",
    "        search = \"efetch.fcgi?db={}&id={}&rettype=acc\".format(db, taxon_id)\n",
    "        locus_id = requests.get(base_url.format(search)).text\n",
    "        locus_id = locus_id.split('.')\n",
    "        locus_id = locus_id[0]\n",
    "        algae_nc_list.append(locus_id)\n",
    "        \n",
    "    except:\n",
    "        print (locus_id, \"NULL\")\n",
    "        pass"
   ]
  },
  {
   "cell_type": "code",
   "execution_count": 34,
   "id": "d9f9dd72",
   "metadata": {},
   "outputs": [
    {
     "name": "stdout",
     "output_type": "stream",
     "text": [
      "CPU times: user 8.01 s, sys: 267 ms, total: 8.28 s\n",
      "Wall time: 2min 55s\n"
     ]
    }
   ],
   "source": [
    "%%time\n",
    "for taxon_id in IdList:\n",
    "    get_locus(taxon_id)"
   ]
  },
  {
   "cell_type": "code",
   "execution_count": 35,
   "id": "71506266",
   "metadata": {},
   "outputs": [
    {
     "data": {
      "text/plain": [
       "305"
      ]
     },
     "execution_count": 35,
     "metadata": {},
     "output_type": "execute_result"
    }
   ],
   "source": [
    "len(algae_nc_list)"
   ]
  },
  {
   "cell_type": "code",
   "execution_count": 36,
   "id": "a63cf063",
   "metadata": {},
   "outputs": [],
   "source": [
    "def get_fasta(nuc_id):\n",
    "    try:\n",
    "        fasta = \"efetch.fcgi?db=nuccore&id={}.1&rettype=fasta\".format(nuc_id)\n",
    "        download_fasta = requests.get(base_url.format(fasta))\n",
    "        file = open(\"16S_BrownAlgae/\" + \"{}.fasta\".format(nuc_id), \"w\")\n",
    "        file.write(download_fasta.text)\n",
    "        file.close()\n",
    "        time.sleep(1)\n",
    "    except:\n",
    "        print (nuc_id, \"Not Found\")\n",
    "        time.sleep(1)\n",
    "        pass"
   ]
  },
  {
   "cell_type": "code",
   "execution_count": 37,
   "id": "3d77eac6",
   "metadata": {},
   "outputs": [
    {
     "name": "stdout",
     "output_type": "stream",
     "text": [
      "CPU times: user 8.41 s, sys: 521 ms, total: 8.93 s\n",
      "Wall time: 9min 4s\n"
     ]
    }
   ],
   "source": [
    "%%time\n",
    "for locus_id in algae_nc_list:\n",
    "    get_fasta(locus_id)"
   ]
  },
  {
   "cell_type": "markdown",
   "id": "8e7dacc7",
   "metadata": {},
   "source": [
    "# Get 16s 'pelagophytes' (302) from Nucleotide database of NCBI"
   ]
  },
  {
   "cell_type": "code",
   "execution_count": 38,
   "id": "62b09f8a",
   "metadata": {},
   "outputs": [],
   "source": [
    "base_url = \"https://eutils.ncbi.nlm.nih.gov/entrez/eutils/{}\"\n",
    "db = \"nuccore\"\n",
    "search_term = '(16s[All+Fields]+AND+%22Eukaryota%22[Primary+Organism]+NOT+%22Metazoa%22[Primary+Organism])+AND+%22Pelagophyceae%22[Primary+Organism]'\n",
    "search = \"esearch.fcgi?db={}&term={}&retmax=100000\".format(db, search_term)"
   ]
  },
  {
   "cell_type": "code",
   "execution_count": 39,
   "id": "06fa7f0c",
   "metadata": {},
   "outputs": [
    {
     "data": {
      "text/plain": [
       "302"
      ]
     },
     "execution_count": 39,
     "metadata": {},
     "output_type": "execute_result"
    }
   ],
   "source": [
    "esearch_response = requests.get(base_url.format(search))\n",
    "esearch_dict = xmltodict.parse(esearch_response.content)\n",
    "IdList = esearch_dict['eSearchResult']['IdList']['Id']\n",
    "len(IdList)"
   ]
  },
  {
   "cell_type": "code",
   "execution_count": 40,
   "id": "22fa4773",
   "metadata": {},
   "outputs": [],
   "source": [
    "algae_nc_list = []\n",
    "\n",
    "def get_locus(taxon_id):\n",
    "    try:\n",
    "        search = \"efetch.fcgi?db={}&id={}&rettype=acc\".format(db, taxon_id)\n",
    "        locus_id = requests.get(base_url.format(search)).text\n",
    "        locus_id = locus_id.split('.')\n",
    "        locus_id = locus_id[0]\n",
    "        algae_nc_list.append(locus_id)\n",
    "        \n",
    "    except:\n",
    "        print (locus_id, \"NULL\")\n",
    "        pass"
   ]
  },
  {
   "cell_type": "code",
   "execution_count": 41,
   "id": "2b81cf98",
   "metadata": {},
   "outputs": [
    {
     "name": "stdout",
     "output_type": "stream",
     "text": [
      "CPU times: user 7.57 s, sys: 274 ms, total: 7.84 s\n",
      "Wall time: 2min 41s\n"
     ]
    }
   ],
   "source": [
    "%%time\n",
    "for taxon_id in IdList:\n",
    "    get_locus(taxon_id)"
   ]
  },
  {
   "cell_type": "code",
   "execution_count": 42,
   "id": "6e6f4f36",
   "metadata": {},
   "outputs": [
    {
     "data": {
      "text/plain": [
       "302"
      ]
     },
     "execution_count": 42,
     "metadata": {},
     "output_type": "execute_result"
    }
   ],
   "source": [
    "len(algae_nc_list)"
   ]
  },
  {
   "cell_type": "code",
   "execution_count": 45,
   "id": "46ae81da",
   "metadata": {},
   "outputs": [],
   "source": [
    "def get_fasta(nuc_id):\n",
    "    try:\n",
    "        fasta = \"efetch.fcgi?db=nuccore&id={}.1&rettype=fasta\".format(nuc_id)\n",
    "        download_fasta = requests.get(base_url.format(fasta))\n",
    "        file = open(\"16S_Pelagophytes/\" + \"{}.fasta\".format(nuc_id), \"w\")\n",
    "        file.write(download_fasta.text)\n",
    "        file.close()\n",
    "        time.sleep(1)\n",
    "    except:\n",
    "        print (nuc_id, \"Not Found\")\n",
    "        time.sleep(1)\n",
    "        pass"
   ]
  },
  {
   "cell_type": "code",
   "execution_count": 46,
   "id": "535b16e1",
   "metadata": {},
   "outputs": [
    {
     "name": "stdout",
     "output_type": "stream",
     "text": [
      "CPU times: user 7.71 s, sys: 422 ms, total: 8.13 s\n",
      "Wall time: 8min 54s\n"
     ]
    }
   ],
   "source": [
    "%%time\n",
    "for locus_id in algae_nc_list:\n",
    "    get_fasta(locus_id)"
   ]
  },
  {
   "cell_type": "code",
   "execution_count": null,
   "id": "b381c32d",
   "metadata": {},
   "outputs": [],
   "source": []
  },
  {
   "cell_type": "raw",
   "id": "35badc82",
   "metadata": {},
   "source": [
    "########################################################################################################"
   ]
  },
  {
   "cell_type": "markdown",
   "id": "8580590f",
   "metadata": {},
   "source": [
    "# Get 16s 'golden algae' (203) from Nucleotide database of NCBI"
   ]
  },
  {
   "cell_type": "code",
   "execution_count": 47,
   "id": "345c974d",
   "metadata": {},
   "outputs": [],
   "source": [
    "base_url = \"https://eutils.ncbi.nlm.nih.gov/entrez/eutils/{}\"\n",
    "db = \"nuccore\"\n",
    "search_term = '((16s)+AND+%22eukaryotes%22[porgn:__txid2759]+NOT+%22animals%22[porgn:__txid33208])+AND+%22golden+algae%22[porgn:__txid2825]'\n",
    "search = \"esearch.fcgi?db={}&term={}&retmax=100000\".format(db, search_term)"
   ]
  },
  {
   "cell_type": "code",
   "execution_count": 48,
   "id": "3d516c8d",
   "metadata": {},
   "outputs": [
    {
     "data": {
      "text/plain": [
       "203"
      ]
     },
     "execution_count": 48,
     "metadata": {},
     "output_type": "execute_result"
    }
   ],
   "source": [
    "esearch_response = requests.get(base_url.format(search))\n",
    "esearch_dict = xmltodict.parse(esearch_response.content)\n",
    "IdList = esearch_dict['eSearchResult']['IdList']['Id']\n",
    "len(IdList)"
   ]
  },
  {
   "cell_type": "code",
   "execution_count": 49,
   "id": "88010136",
   "metadata": {},
   "outputs": [],
   "source": [
    "algae_nc_list = []\n",
    "\n",
    "def get_locus(taxon_id):\n",
    "    try:\n",
    "        search = \"efetch.fcgi?db={}&id={}&rettype=acc\".format(db, taxon_id)\n",
    "        locus_id = requests.get(base_url.format(search)).text\n",
    "        locus_id = locus_id.split('.')\n",
    "        locus_id = locus_id[0]\n",
    "        algae_nc_list.append(locus_id)\n",
    "        \n",
    "    except:\n",
    "        print (locus_id, \"NULL\")\n",
    "        pass"
   ]
  },
  {
   "cell_type": "code",
   "execution_count": 50,
   "id": "17eae945",
   "metadata": {},
   "outputs": [
    {
     "name": "stdout",
     "output_type": "stream",
     "text": [
      "CPU times: user 5.07 s, sys: 207 ms, total: 5.28 s\n",
      "Wall time: 1min 52s\n"
     ]
    }
   ],
   "source": [
    "%%time\n",
    "for taxon_id in IdList:\n",
    "    get_locus(taxon_id)"
   ]
  },
  {
   "cell_type": "code",
   "execution_count": 51,
   "id": "e6ac71e7",
   "metadata": {},
   "outputs": [
    {
     "data": {
      "text/plain": [
       "203"
      ]
     },
     "execution_count": 51,
     "metadata": {},
     "output_type": "execute_result"
    }
   ],
   "source": [
    "len(algae_nc_list)"
   ]
  },
  {
   "cell_type": "code",
   "execution_count": 52,
   "id": "565ad00e",
   "metadata": {},
   "outputs": [],
   "source": [
    "def get_fasta(nuc_id):\n",
    "    try:\n",
    "        fasta = \"efetch.fcgi?db=nuccore&id={}.1&rettype=fasta\".format(nuc_id)\n",
    "        download_fasta = requests.get(base_url.format(fasta))\n",
    "        file = open(\"16S_GoldenAlgae/\" + \"{}.fasta\".format(nuc_id), \"w\")\n",
    "        file.write(download_fasta.text)\n",
    "        file.close()\n",
    "        time.sleep(1)\n",
    "    except:\n",
    "        print (nuc_id, \"Not Found\")\n",
    "        time.sleep(1)\n",
    "        pass"
   ]
  },
  {
   "cell_type": "code",
   "execution_count": 53,
   "id": "dd9111df",
   "metadata": {},
   "outputs": [
    {
     "name": "stdout",
     "output_type": "stream",
     "text": [
      "CPU times: user 5.17 s, sys: 323 ms, total: 5.5 s\n",
      "Wall time: 5min 52s\n"
     ]
    }
   ],
   "source": [
    "%%time\n",
    "for locus_id in algae_nc_list:\n",
    "    get_fasta(locus_id)"
   ]
  },
  {
   "cell_type": "markdown",
   "id": "c0795c67",
   "metadata": {},
   "source": [
    "# Get 16s 'dinoflagellates' (200) from Nucleotide database of NCBI"
   ]
  },
  {
   "cell_type": "code",
   "execution_count": 54,
   "id": "2f1d2c7b",
   "metadata": {},
   "outputs": [],
   "source": [
    "base_url = \"https://eutils.ncbi.nlm.nih.gov/entrez/eutils/{}\"\n",
    "db = \"nuccore\"\n",
    "search_term = '((16s)+AND+%22eukaryotes%22[porgn:__txid2759]+NOT+%22animals%22[porgn:__txid33208])+AND+%22dinoflagellates%22[porgn:__txid2864]'\n",
    "search = \"esearch.fcgi?db={}&term={}&retmax=100000\".format(db, search_term)"
   ]
  },
  {
   "cell_type": "code",
   "execution_count": 55,
   "id": "374f142d",
   "metadata": {},
   "outputs": [
    {
     "data": {
      "text/plain": [
       "200"
      ]
     },
     "execution_count": 55,
     "metadata": {},
     "output_type": "execute_result"
    }
   ],
   "source": [
    "esearch_response = requests.get(base_url.format(search))\n",
    "esearch_dict = xmltodict.parse(esearch_response.content)\n",
    "IdList = esearch_dict['eSearchResult']['IdList']['Id']\n",
    "len(IdList)"
   ]
  },
  {
   "cell_type": "code",
   "execution_count": 56,
   "id": "b5f5d843",
   "metadata": {},
   "outputs": [],
   "source": [
    "algae_nc_list = []\n",
    "\n",
    "def get_locus(taxon_id):\n",
    "    try:\n",
    "        search = \"efetch.fcgi?db={}&id={}&rettype=acc\".format(db, taxon_id)\n",
    "        locus_id = requests.get(base_url.format(search)).text\n",
    "        locus_id = locus_id.split('.')\n",
    "        locus_id = locus_id[0]\n",
    "        algae_nc_list.append(locus_id)\n",
    "        \n",
    "    except:\n",
    "        print (locus_id, \"NULL\")\n",
    "        pass"
   ]
  },
  {
   "cell_type": "code",
   "execution_count": 57,
   "id": "026ece23",
   "metadata": {},
   "outputs": [
    {
     "name": "stdout",
     "output_type": "stream",
     "text": [
      "CPU times: user 5 s, sys: 202 ms, total: 5.21 s\n",
      "Wall time: 1min 48s\n"
     ]
    }
   ],
   "source": [
    "%%time\n",
    "for taxon_id in IdList:\n",
    "    get_locus(taxon_id)"
   ]
  },
  {
   "cell_type": "code",
   "execution_count": 58,
   "id": "c8f5cfa9",
   "metadata": {},
   "outputs": [
    {
     "data": {
      "text/plain": [
       "200"
      ]
     },
     "execution_count": 58,
     "metadata": {},
     "output_type": "execute_result"
    }
   ],
   "source": [
    "len(algae_nc_list)"
   ]
  },
  {
   "cell_type": "code",
   "execution_count": 59,
   "id": "3958c225",
   "metadata": {},
   "outputs": [],
   "source": [
    "def get_fasta(nuc_id):\n",
    "    try:\n",
    "        fasta = \"efetch.fcgi?db=nuccore&id={}.1&rettype=fasta\".format(nuc_id)\n",
    "        download_fasta = requests.get(base_url.format(fasta))\n",
    "        file = open(\"16S_Dinoflagellates/\" + \"{}.fasta\".format(nuc_id), \"w\")\n",
    "        file.write(download_fasta.text)\n",
    "        file.close()\n",
    "        time.sleep(1)\n",
    "    except:\n",
    "        print (nuc_id, \"Not Found\")\n",
    "        time.sleep(1)\n",
    "        pass"
   ]
  },
  {
   "cell_type": "code",
   "execution_count": 60,
   "id": "580cb116",
   "metadata": {},
   "outputs": [
    {
     "name": "stdout",
     "output_type": "stream",
     "text": [
      "CPU times: user 5.12 s, sys: 241 ms, total: 5.36 s\n",
      "Wall time: 5min 44s\n"
     ]
    }
   ],
   "source": [
    "%%time\n",
    "for locus_id in algae_nc_list:\n",
    "    get_fasta(locus_id)"
   ]
  },
  {
   "cell_type": "markdown",
   "id": "d5417a08",
   "metadata": {},
   "source": [
    "# Get 16s 'ciliates' (107) from Nucleotide database of NCBI"
   ]
  },
  {
   "cell_type": "code",
   "execution_count": 61,
   "id": "795759db",
   "metadata": {},
   "outputs": [],
   "source": [
    "base_url = \"https://eutils.ncbi.nlm.nih.gov/entrez/eutils/{}\"\n",
    "db = \"nuccore\"\n",
    "search_term = '((16s)+AND+%22eukaryotes%22[porgn:__txid2759]+NOT+%22animals%22[porgn:__txid33208])+AND+%22ciliates%22[porgn:__txid5878]'\n",
    "search = \"esearch.fcgi?db={}&term={}&retmax=100000\".format(db, search_term)"
   ]
  },
  {
   "cell_type": "code",
   "execution_count": 62,
   "id": "dbe971d2",
   "metadata": {},
   "outputs": [
    {
     "data": {
      "text/plain": [
       "107"
      ]
     },
     "execution_count": 62,
     "metadata": {},
     "output_type": "execute_result"
    }
   ],
   "source": [
    "esearch_response = requests.get(base_url.format(search))\n",
    "esearch_dict = xmltodict.parse(esearch_response.content)\n",
    "IdList = esearch_dict['eSearchResult']['IdList']['Id']\n",
    "len(IdList)"
   ]
  },
  {
   "cell_type": "code",
   "execution_count": 63,
   "id": "568e801e",
   "metadata": {},
   "outputs": [],
   "source": [
    "algae_nc_list = []\n",
    "\n",
    "def get_locus(taxon_id):\n",
    "    try:\n",
    "        search = \"efetch.fcgi?db={}&id={}&rettype=acc\".format(db, taxon_id)\n",
    "        locus_id = requests.get(base_url.format(search)).text\n",
    "        locus_id = locus_id.split('.')\n",
    "        locus_id = locus_id[0]\n",
    "        algae_nc_list.append(locus_id)\n",
    "        \n",
    "    except:\n",
    "        print (locus_id, \"NULL\")\n",
    "        pass"
   ]
  },
  {
   "cell_type": "code",
   "execution_count": 64,
   "id": "5582929c",
   "metadata": {},
   "outputs": [
    {
     "name": "stdout",
     "output_type": "stream",
     "text": [
      "CPU times: user 2.69 s, sys: 98.4 ms, total: 2.79 s\n",
      "Wall time: 59.3 s\n"
     ]
    }
   ],
   "source": [
    "%%time\n",
    "for taxon_id in IdList:\n",
    "    get_locus(taxon_id)"
   ]
  },
  {
   "cell_type": "code",
   "execution_count": 65,
   "id": "e55b7eca",
   "metadata": {},
   "outputs": [
    {
     "data": {
      "text/plain": [
       "107"
      ]
     },
     "execution_count": 65,
     "metadata": {},
     "output_type": "execute_result"
    }
   ],
   "source": [
    "len(algae_nc_list)"
   ]
  },
  {
   "cell_type": "code",
   "execution_count": 66,
   "id": "d1e091b7",
   "metadata": {},
   "outputs": [],
   "source": [
    "def get_fasta(nuc_id):\n",
    "    try:\n",
    "        fasta = \"efetch.fcgi?db=nuccore&id={}.1&rettype=fasta\".format(nuc_id)\n",
    "        download_fasta = requests.get(base_url.format(fasta))\n",
    "        file = open(\"16S_Ciliates/\" + \"{}.fasta\".format(nuc_id), \"w\")\n",
    "        file.write(download_fasta.text)\n",
    "        file.close()\n",
    "        time.sleep(1)\n",
    "    except:\n",
    "        print (nuc_id, \"Not Found\")\n",
    "        time.sleep(1)\n",
    "        pass"
   ]
  },
  {
   "cell_type": "code",
   "execution_count": 67,
   "id": "e97c184f",
   "metadata": {},
   "outputs": [
    {
     "name": "stdout",
     "output_type": "stream",
     "text": [
      "CPU times: user 2.86 s, sys: 160 ms, total: 3.02 s\n",
      "Wall time: 3min 6s\n"
     ]
    }
   ],
   "source": [
    "%%time\n",
    "for locus_id in algae_nc_list:\n",
    "    get_fasta(locus_id)"
   ]
  },
  {
   "cell_type": "markdown",
   "id": "ce2807c1",
   "metadata": {},
   "source": [
    "# Get 16s 'cercozoans' (32) from Nucleotide database of NCBI"
   ]
  },
  {
   "cell_type": "code",
   "execution_count": 68,
   "id": "3ca4f6db",
   "metadata": {},
   "outputs": [],
   "source": [
    "base_url = \"https://eutils.ncbi.nlm.nih.gov/entrez/eutils/{}\"\n",
    "db = \"nuccore\"\n",
    "search_term = '(((16s)+AND+%22eukaryotes%22[porgn:__txid2759]+NOT+%22animals%22[porgn:__txid33208])+AND+%22eukaryotes%22[porgn:__txid2759]+NOT+%22ciliates%22[porgn:__txid5878]+NOT+%22dinoflagellates%22[porgn:__txid2864]+NOT+%22golden+algae%22[porgn:__txid2825]+NOT+%22apicomplexans%22[porgn:__txid5794]+NOT+%22pelagophytes%22[porgn:__txid35675]+NOT+%22brown+algae%22[porgn:__txid2870]+NOT+%22euglenoids%22[porgn:__txid3035]+NOT+%22red+algae%22[porgn:__txid2763]+NOT+%22trichomonads%22[porgn:__txid37104]+NOT+%22cryptomonads%22[porgn:__txid3027]+NOT+%22haptophytes%22[porgn:__txid2830]+NOT+%22diatoms%22[porgn:__txid2836]+NOT+%22microsporidians%22[porgn:__txid6029]+NOT+%22ascomycetes%22[porgn:__txid4890]+NOT+%22fungi%22[porgn:__txid4751]+NOT+%22green+algae%22[porgn:__txid3041]+NOT+%22vascular+plants%22[porgn:__txid58023]+NOT+%22land+plants%22[porgn:__txid3193]+NOT+%22green+plants%22[porgn:__txid33090])+AND+%22cercozoans%22[porgn:__txid136419]'\n",
    "search = \"esearch.fcgi?db={}&term={}&retmax=100000\".format(db, search_term)"
   ]
  },
  {
   "cell_type": "code",
   "execution_count": 69,
   "id": "b4bb31e7",
   "metadata": {},
   "outputs": [
    {
     "data": {
      "text/plain": [
       "32"
      ]
     },
     "execution_count": 69,
     "metadata": {},
     "output_type": "execute_result"
    }
   ],
   "source": [
    "esearch_response = requests.get(base_url.format(search))\n",
    "esearch_dict = xmltodict.parse(esearch_response.content)\n",
    "IdList = esearch_dict['eSearchResult']['IdList']['Id']\n",
    "len(IdList)"
   ]
  },
  {
   "cell_type": "code",
   "execution_count": 70,
   "id": "008b62ec",
   "metadata": {},
   "outputs": [],
   "source": [
    "algae_nc_list = []\n",
    "\n",
    "def get_locus(taxon_id):\n",
    "    try:\n",
    "        search = \"efetch.fcgi?db={}&id={}&rettype=acc\".format(db, taxon_id)\n",
    "        locus_id = requests.get(base_url.format(search)).text\n",
    "        locus_id = locus_id.split('.')\n",
    "        locus_id = locus_id[0]\n",
    "        algae_nc_list.append(locus_id)\n",
    "        \n",
    "    except:\n",
    "        print (locus_id, \"NULL\")\n",
    "        pass"
   ]
  },
  {
   "cell_type": "code",
   "execution_count": 71,
   "id": "46fd496c",
   "metadata": {},
   "outputs": [
    {
     "name": "stdout",
     "output_type": "stream",
     "text": [
      "CPU times: user 807 ms, sys: 31.1 ms, total: 838 ms\n",
      "Wall time: 17.4 s\n"
     ]
    }
   ],
   "source": [
    "%%time\n",
    "for taxon_id in IdList:\n",
    "    get_locus(taxon_id)"
   ]
  },
  {
   "cell_type": "code",
   "execution_count": 72,
   "id": "753b03e0",
   "metadata": {},
   "outputs": [
    {
     "data": {
      "text/plain": [
       "32"
      ]
     },
     "execution_count": 72,
     "metadata": {},
     "output_type": "execute_result"
    }
   ],
   "source": [
    "len(algae_nc_list)"
   ]
  },
  {
   "cell_type": "code",
   "execution_count": 73,
   "id": "a09e22c7",
   "metadata": {},
   "outputs": [],
   "source": [
    "def get_fasta(nuc_id):\n",
    "    try:\n",
    "        fasta = \"efetch.fcgi?db=nuccore&id={}.1&rettype=fasta\".format(nuc_id)\n",
    "        download_fasta = requests.get(base_url.format(fasta))\n",
    "        file = open(\"16S_Cercozoans/\" + \"{}.fasta\".format(nuc_id), \"w\")\n",
    "        file.write(download_fasta.text)\n",
    "        file.close()\n",
    "        time.sleep(1)\n",
    "    except:\n",
    "        print (nuc_id, \"Not Found\")\n",
    "        time.sleep(1)\n",
    "        pass"
   ]
  },
  {
   "cell_type": "code",
   "execution_count": 74,
   "id": "8cb945e1",
   "metadata": {},
   "outputs": [
    {
     "name": "stdout",
     "output_type": "stream",
     "text": [
      "CPU times: user 838 ms, sys: 27.4 ms, total: 865 ms\n",
      "Wall time: 57.2 s\n"
     ]
    }
   ],
   "source": [
    "%%time\n",
    "for locus_id in algae_nc_list:\n",
    "    get_fasta(locus_id)"
   ]
  },
  {
   "cell_type": "markdown",
   "id": "353bc7b7",
   "metadata": {},
   "source": [
    "# Get 16s 'yellow-green algae' (5) from Nucleotide database of NCBI"
   ]
  },
  {
   "cell_type": "code",
   "execution_count": 75,
   "id": "5f647480",
   "metadata": {},
   "outputs": [],
   "source": [
    "base_url = \"https://eutils.ncbi.nlm.nih.gov/entrez/eutils/{}\"\n",
    "db = \"nuccore\"\n",
    "search_term = '((16s[All+Fields]+AND+%22eukaryotes%22[porgn]+NOT+%22animals%22[porgn])+AND+%22eukaryotes%22[porgn]+NOT+%22ciliates%22[porgn]+NOT+%22dinoflagellates%22[porgn]+NOT+%22golden+algae%22[porgn]+NOT+%22apicomplexans%22[porgn]+NOT+%22pelagophytes%22[porgn]+NOT+%22brown+algae%22[porgn]+NOT+%22euglenoids%22[porgn]+NOT+%22red+algae%22[porgn]+NOT+%22trichomonads%22[porgn]+NOT+%22cryptomonads%22[porgn]+NOT+%22haptophytes%22[porgn]+NOT+%22diatoms%22[porgn]+NOT+%22microsporidians%22[porgn]+NOT+%22ascomycetes%22[porgn]+NOT+%22fungi%22[porgn]+NOT+%22green+algae%22[porgn]+NOT+%22vascular+plants%22[porgn]+NOT+%22land+plants%22[porgn]+NOT+%22green+plants%22[porgn])+AND+%22yellow-green+algae%22[porgn]'\n",
    "search = \"esearch.fcgi?db={}&term={}&retmax=100000\".format(db, search_term)"
   ]
  },
  {
   "cell_type": "code",
   "execution_count": 76,
   "id": "3e8f9dba",
   "metadata": {},
   "outputs": [
    {
     "data": {
      "text/plain": [
       "5"
      ]
     },
     "execution_count": 76,
     "metadata": {},
     "output_type": "execute_result"
    }
   ],
   "source": [
    "esearch_response = requests.get(base_url.format(search))\n",
    "esearch_dict = xmltodict.parse(esearch_response.content)\n",
    "IdList = esearch_dict['eSearchResult']['IdList']['Id']\n",
    "len(IdList)"
   ]
  },
  {
   "cell_type": "code",
   "execution_count": 77,
   "id": "1c771c0d",
   "metadata": {},
   "outputs": [],
   "source": [
    "algae_nc_list = []\n",
    "\n",
    "def get_locus(taxon_id):\n",
    "    try:\n",
    "        search = \"efetch.fcgi?db={}&id={}&rettype=acc\".format(db, taxon_id)\n",
    "        locus_id = requests.get(base_url.format(search)).text\n",
    "        locus_id = locus_id.split('.')\n",
    "        locus_id = locus_id[0]\n",
    "        algae_nc_list.append(locus_id)\n",
    "        \n",
    "    except:\n",
    "        print (locus_id, \"NULL\")\n",
    "        pass"
   ]
  },
  {
   "cell_type": "code",
   "execution_count": 78,
   "id": "dc977cac",
   "metadata": {},
   "outputs": [
    {
     "name": "stdout",
     "output_type": "stream",
     "text": [
      "CPU times: user 117 ms, sys: 3.78 ms, total: 121 ms\n",
      "Wall time: 2.97 s\n"
     ]
    }
   ],
   "source": [
    "%%time\n",
    "for taxon_id in IdList:\n",
    "    get_locus(taxon_id)"
   ]
  },
  {
   "cell_type": "code",
   "execution_count": 79,
   "id": "3dc30bf4",
   "metadata": {},
   "outputs": [
    {
     "data": {
      "text/plain": [
       "5"
      ]
     },
     "execution_count": 79,
     "metadata": {},
     "output_type": "execute_result"
    }
   ],
   "source": [
    "len(algae_nc_list)"
   ]
  },
  {
   "cell_type": "code",
   "execution_count": 80,
   "id": "db476b8a",
   "metadata": {},
   "outputs": [],
   "source": [
    "def get_fasta(nuc_id):\n",
    "    try:\n",
    "        fasta = \"efetch.fcgi?db=nuccore&id={}.1&rettype=fasta\".format(nuc_id)\n",
    "        download_fasta = requests.get(base_url.format(fasta))\n",
    "        file = open(\"16S_YellowGreenAlgae/\" + \"{}.fasta\".format(nuc_id), \"w\")\n",
    "        file.write(download_fasta.text)\n",
    "        file.close()\n",
    "        time.sleep(1)\n",
    "    except:\n",
    "        print (nuc_id, \"Not Found\")\n",
    "        time.sleep(1)\n",
    "        pass"
   ]
  },
  {
   "cell_type": "code",
   "execution_count": 81,
   "id": "6f86acc8",
   "metadata": {},
   "outputs": [
    {
     "name": "stdout",
     "output_type": "stream",
     "text": [
      "CPU times: user 161 ms, sys: 12.2 ms, total: 173 ms\n",
      "Wall time: 9.31 s\n"
     ]
    }
   ],
   "source": [
    "%%time\n",
    "for locus_id in algae_nc_list:\n",
    "    get_fasta(locus_id)"
   ]
  },
  {
   "cell_type": "markdown",
   "id": "b26370b9",
   "metadata": {},
   "source": [
    "# Get 16s 'diplomonads' (59) from Nucleotide database of NCBI"
   ]
  },
  {
   "cell_type": "code",
   "execution_count": 3,
   "id": "8f43ac92",
   "metadata": {},
   "outputs": [],
   "source": [
    "base_url = \"https://eutils.ncbi.nlm.nih.gov/entrez/eutils/{}\"\n",
    "db = \"nuccore\"\n",
    "search_term = '((16s[All+Fields]+AND+\"Eukaryota\"[Primary+Organism]+NOT+\"Metazoa\"[Primary+Organism])+AND+\"Eukaryota\"[Primary+Organism]+NOT+\"Ciliophora\"[Primary+Organism]+NOT+\"Dinophyceae\"[Primary+Organism]+NOT+\"Chrysophyceae\"[Primary+Organism]+NOT+\"Apicomplexa\"[Primary+Organism]+NOT+\"Pelagophyceae\"[Primary+Organism]+NOT+\"Phaeophyceae\"[Primary+Organism]+NOT+\"Euglenida\"[Primary+Organism]+NOT+\"Rhodophyta\"[Primary+Organism]+NOT+\"Trichomonadida\"[Primary+Organism]+NOT+\"Cryptophyceae\"[Primary+Organism]+NOT+\"Haptophyta\"[Primary+Organism]+NOT+\"Bacillariophyta\"[Primary+Organism]+NOT+\"Microsporidia\"[Primary+Organism]+NOT+\"Ascomycota\"[Primary+Organism]+NOT+\"Fungi\"[Primary+Organism]+NOT+\"Chlorophyta\"[Primary+Organism]+NOT+\"Tracheophyta\"[Primary+Organism]+NOT+\"Embryophyta\"[Primary+Organism]+NOT+\"Viridiplantae\"[Primary+Organism])+AND+\"Diplomonadida\"[Primary+Organism]'\n",
    "search = \"esearch.fcgi?db={}&term={}&retmax=100000\".format(db, search_term)"
   ]
  },
  {
   "cell_type": "code",
   "execution_count": 4,
   "id": "101acb8b",
   "metadata": {},
   "outputs": [
    {
     "data": {
      "text/plain": [
       "59"
      ]
     },
     "execution_count": 4,
     "metadata": {},
     "output_type": "execute_result"
    }
   ],
   "source": [
    "esearch_response = requests.get(base_url.format(search))\n",
    "esearch_dict = xmltodict.parse(esearch_response.content)\n",
    "IdList = esearch_dict['eSearchResult']['IdList']['Id']\n",
    "len(IdList)"
   ]
  },
  {
   "cell_type": "code",
   "execution_count": null,
   "id": "0f1c29f6",
   "metadata": {},
   "outputs": [],
   "source": []
  },
  {
   "cell_type": "code",
   "execution_count": 5,
   "id": "e2717c21",
   "metadata": {},
   "outputs": [],
   "source": [
    "algae_nc_list = []\n",
    "\n",
    "def get_locus(taxon_id):\n",
    "    try:\n",
    "        search = \"efetch.fcgi?db={}&id={}&rettype=acc\".format(db, taxon_id)\n",
    "        locus_id = requests.get(base_url.format(search)).text\n",
    "        locus_id = locus_id.split('.')\n",
    "        locus_id = locus_id[0]\n",
    "        algae_nc_list.append(locus_id)\n",
    "        \n",
    "    except:\n",
    "        print (locus_id, \"NULL\")\n",
    "        pass"
   ]
  },
  {
   "cell_type": "code",
   "execution_count": 6,
   "id": "042228dc",
   "metadata": {},
   "outputs": [
    {
     "name": "stdout",
     "output_type": "stream",
     "text": [
      "CPU times: user 1.53 s, sys: 67.1 ms, total: 1.6 s\n",
      "Wall time: 40.1 s\n"
     ]
    }
   ],
   "source": [
    "%%time\n",
    "for taxon_id in IdList:\n",
    "    get_locus(taxon_id)"
   ]
  },
  {
   "cell_type": "code",
   "execution_count": 7,
   "id": "2076867f",
   "metadata": {},
   "outputs": [
    {
     "data": {
      "text/plain": [
       "59"
      ]
     },
     "execution_count": 7,
     "metadata": {},
     "output_type": "execute_result"
    }
   ],
   "source": [
    "len(algae_nc_list)"
   ]
  },
  {
   "cell_type": "code",
   "execution_count": 8,
   "id": "f995770c",
   "metadata": {},
   "outputs": [],
   "source": [
    "def get_fasta(nuc_id):\n",
    "    try:\n",
    "        fasta = \"efetch.fcgi?db=nuccore&id={}.1&rettype=fasta\".format(nuc_id)\n",
    "        download_fasta = requests.get(base_url.format(fasta))\n",
    "        file = open(\"16S_marker_NCBI/16S_Diplomonads/\" + \"{}.fasta\".format(nuc_id), \"w\")\n",
    "        file.write(download_fasta.text)\n",
    "        file.close()\n",
    "        time.sleep(1)\n",
    "    except:\n",
    "        print (nuc_id, \"Not Found\")\n",
    "        time.sleep(1)\n",
    "        pass"
   ]
  },
  {
   "cell_type": "code",
   "execution_count": 9,
   "id": "5d35f647",
   "metadata": {},
   "outputs": [
    {
     "name": "stdout",
     "output_type": "stream",
     "text": [
      "CPU times: user 1.61 s, sys: 66.3 ms, total: 1.67 s\n",
      "Wall time: 1min 43s\n"
     ]
    }
   ],
   "source": [
    "%%time\n",
    "for locus_id in algae_nc_list:\n",
    "    get_fasta(locus_id)"
   ]
  },
  {
   "cell_type": "markdown",
   "id": "aebc578d",
   "metadata": {},
   "source": [
    "# Get 16s 'kinetoplastids' (47) from Nucleotide database of NCBI"
   ]
  },
  {
   "cell_type": "code",
   "execution_count": 10,
   "id": "c37c9db6",
   "metadata": {},
   "outputs": [],
   "source": [
    "base_url = \"https://eutils.ncbi.nlm.nih.gov/entrez/eutils/{}\"\n",
    "db = \"nuccore\"\n",
    "search_term = '(((16s)+AND+%22eukaryotes%22[porgn:__txid2759]+NOT+%22animals%22[porgn:__txid33208])+AND+%22eukaryotes%22[porgn:__txid2759]+NOT+%22ciliates%22[porgn:__txid5878]+NOT+%22dinoflagellates%22[porgn:__txid2864]+NOT+%22golden+algae%22[porgn:__txid2825]+NOT+%22apicomplexans%22[porgn:__txid5794]+NOT+%22pelagophytes%22[porgn:__txid35675]+NOT+%22brown+algae%22[porgn:__txid2870]+NOT+%22euglenoids%22[porgn:__txid3035]+NOT+%22red+algae%22[porgn:__txid2763]+NOT+%22trichomonads%22[porgn:__txid37104]+NOT+%22cryptomonads%22[porgn:__txid3027]+NOT+%22haptophytes%22[porgn:__txid2830]+NOT+%22diatoms%22[porgn:__txid2836]+NOT+%22microsporidians%22[porgn:__txid6029]+NOT+%22ascomycetes%22[porgn:__txid4890]+NOT+%22fungi%22[porgn:__txid4751]+NOT+%22green+algae%22[porgn:__txid3041]+NOT+%22vascular+plants%22[porgn:__txid58023]+NOT+%22land+plants%22[porgn:__txid3193]+NOT+%22green+plants%22[porgn:__txid33090])+AND+%22kinetoplastids%22[porgn:__txid5653]'\n",
    "search = \"esearch.fcgi?db={}&term={}&retmax=100000\".format(db, search_term)"
   ]
  },
  {
   "cell_type": "code",
   "execution_count": 11,
   "id": "f3d0fd5b",
   "metadata": {},
   "outputs": [
    {
     "data": {
      "text/plain": [
       "47"
      ]
     },
     "execution_count": 11,
     "metadata": {},
     "output_type": "execute_result"
    }
   ],
   "source": [
    "esearch_response = requests.get(base_url.format(search))\n",
    "esearch_dict = xmltodict.parse(esearch_response.content)\n",
    "IdList = esearch_dict['eSearchResult']['IdList']['Id']\n",
    "len(IdList)"
   ]
  },
  {
   "cell_type": "code",
   "execution_count": 12,
   "id": "60822d98",
   "metadata": {},
   "outputs": [],
   "source": [
    "algae_nc_list = []\n",
    "\n",
    "def get_locus(taxon_id):\n",
    "    try:\n",
    "        search = \"efetch.fcgi?db={}&id={}&rettype=acc\".format(db, taxon_id)\n",
    "        locus_id = requests.get(base_url.format(search)).text\n",
    "        locus_id = locus_id.split('.')\n",
    "        locus_id = locus_id[0]\n",
    "        algae_nc_list.append(locus_id)\n",
    "        \n",
    "    except:\n",
    "        print (locus_id, \"NULL\")\n",
    "        pass"
   ]
  },
  {
   "cell_type": "code",
   "execution_count": 13,
   "id": "90287da1",
   "metadata": {},
   "outputs": [
    {
     "name": "stdout",
     "output_type": "stream",
     "text": [
      "CPU times: user 1.24 s, sys: 48.8 ms, total: 1.28 s\n",
      "Wall time: 26.5 s\n"
     ]
    }
   ],
   "source": [
    "%%time\n",
    "for taxon_id in IdList:\n",
    "    get_locus(taxon_id)"
   ]
  },
  {
   "cell_type": "code",
   "execution_count": 14,
   "id": "b262278b",
   "metadata": {},
   "outputs": [
    {
     "data": {
      "text/plain": [
       "47"
      ]
     },
     "execution_count": 14,
     "metadata": {},
     "output_type": "execute_result"
    }
   ],
   "source": [
    "len(algae_nc_list)"
   ]
  },
  {
   "cell_type": "code",
   "execution_count": 15,
   "id": "7cc81387",
   "metadata": {},
   "outputs": [],
   "source": [
    "def get_fasta(nuc_id):\n",
    "    try:\n",
    "        fasta = \"efetch.fcgi?db=nuccore&id={}.1&rettype=fasta\".format(nuc_id)\n",
    "        download_fasta = requests.get(base_url.format(fasta))\n",
    "        file = open(\"16S_marker_NCBI/16S_Kinetoplastids/\" + \"{}.fasta\".format(nuc_id), \"w\")\n",
    "        file.write(download_fasta.text)\n",
    "        file.close()\n",
    "        time.sleep(1)\n",
    "    except:\n",
    "        print (nuc_id, \"Not Found\")\n",
    "        time.sleep(1)\n",
    "        pass"
   ]
  },
  {
   "cell_type": "code",
   "execution_count": 16,
   "id": "eeaad3ff",
   "metadata": {},
   "outputs": [
    {
     "name": "stdout",
     "output_type": "stream",
     "text": [
      "CPU times: user 2.11 s, sys: 220 ms, total: 2.33 s\n",
      "Wall time: 1min 44s\n"
     ]
    }
   ],
   "source": [
    "%%time\n",
    "for locus_id in algae_nc_list:\n",
    "    get_fasta(locus_id)"
   ]
  },
  {
   "cell_type": "markdown",
   "id": "2ee093c6",
   "metadata": {},
   "source": [
    "# Get 16s 'forams' (40) from Nucleotide database of NCBI"
   ]
  },
  {
   "cell_type": "code",
   "execution_count": 17,
   "id": "8d93797e",
   "metadata": {},
   "outputs": [],
   "source": [
    "base_url = \"https://eutils.ncbi.nlm.nih.gov/entrez/eutils/{}\"\n",
    "db = \"nuccore\"\n",
    "search_term = '(((16s)+AND+%22eukaryotes%22[porgn:__txid2759]+NOT+%22animals%22[porgn:__txid33208])+AND+%22eukaryotes%22[porgn:__txid2759]+NOT+%22ciliates%22[porgn:__txid5878]+NOT+%22dinoflagellates%22[porgn:__txid2864]+NOT+%22golden+algae%22[porgn:__txid2825]+NOT+%22apicomplexans%22[porgn:__txid5794]+NOT+%22pelagophytes%22[porgn:__txid35675]+NOT+%22brown+algae%22[porgn:__txid2870]+NOT+%22euglenoids%22[porgn:__txid3035]+NOT+%22red+algae%22[porgn:__txid2763]+NOT+%22trichomonads%22[porgn:__txid37104]+NOT+%22cryptomonads%22[porgn:__txid3027]+NOT+%22haptophytes%22[porgn:__txid2830]+NOT+%22diatoms%22[porgn:__txid2836]+NOT+%22microsporidians%22[porgn:__txid6029]+NOT+%22ascomycetes%22[porgn:__txid4890]+NOT+%22fungi%22[porgn:__txid4751]+NOT+%22green+algae%22[porgn:__txid3041]+NOT+%22vascular+plants%22[porgn:__txid58023]+NOT+%22land+plants%22[porgn:__txid3193]+NOT+%22green+plants%22[porgn:__txid33090])+AND+%22forams%22[porgn:__txid29178]'\n",
    "search = \"esearch.fcgi?db={}&term={}&retmax=100000\".format(db, search_term)"
   ]
  },
  {
   "cell_type": "code",
   "execution_count": 18,
   "id": "71361b9a",
   "metadata": {},
   "outputs": [
    {
     "data": {
      "text/plain": [
       "40"
      ]
     },
     "execution_count": 18,
     "metadata": {},
     "output_type": "execute_result"
    }
   ],
   "source": [
    "esearch_response = requests.get(base_url.format(search))\n",
    "esearch_dict = xmltodict.parse(esearch_response.content)\n",
    "IdList = esearch_dict['eSearchResult']['IdList']['Id']\n",
    "len(IdList)"
   ]
  },
  {
   "cell_type": "code",
   "execution_count": 19,
   "id": "3d6b883d",
   "metadata": {},
   "outputs": [],
   "source": [
    "algae_nc_list = []\n",
    "\n",
    "def get_locus(taxon_id):\n",
    "    try:\n",
    "        search = \"efetch.fcgi?db={}&id={}&rettype=acc\".format(db, taxon_id)\n",
    "        locus_id = requests.get(base_url.format(search)).text\n",
    "        locus_id = locus_id.split('.')\n",
    "        locus_id = locus_id[0]\n",
    "        algae_nc_list.append(locus_id)\n",
    "        \n",
    "    except:\n",
    "        print (locus_id, \"NULL\")\n",
    "        pass"
   ]
  },
  {
   "cell_type": "code",
   "execution_count": 20,
   "id": "d0807d47",
   "metadata": {},
   "outputs": [
    {
     "name": "stdout",
     "output_type": "stream",
     "text": [
      "CPU times: user 1.05 s, sys: 43.9 ms, total: 1.09 s\n",
      "Wall time: 37 s\n"
     ]
    }
   ],
   "source": [
    "%%time\n",
    "for taxon_id in IdList:\n",
    "    get_locus(taxon_id)"
   ]
  },
  {
   "cell_type": "code",
   "execution_count": 21,
   "id": "d5a8f76e",
   "metadata": {},
   "outputs": [
    {
     "data": {
      "text/plain": [
       "40"
      ]
     },
     "execution_count": 21,
     "metadata": {},
     "output_type": "execute_result"
    }
   ],
   "source": [
    "len(algae_nc_list)"
   ]
  },
  {
   "cell_type": "code",
   "execution_count": 22,
   "id": "f15dc9bc",
   "metadata": {},
   "outputs": [],
   "source": [
    "def get_fasta(nuc_id):\n",
    "    try:\n",
    "        fasta = \"efetch.fcgi?db=nuccore&id={}.1&rettype=fasta\".format(nuc_id)\n",
    "        download_fasta = requests.get(base_url.format(fasta))\n",
    "        file = open(\"16S_marker_NCBI/16S_Forams/\" + \"{}.fasta\".format(nuc_id), \"w\")\n",
    "        file.write(download_fasta.text)\n",
    "        file.close()\n",
    "        time.sleep(1)\n",
    "    except:\n",
    "        print (nuc_id, \"Not Found\")\n",
    "        time.sleep(1)\n",
    "        pass"
   ]
  },
  {
   "cell_type": "code",
   "execution_count": 23,
   "id": "1afba788",
   "metadata": {},
   "outputs": [
    {
     "name": "stdout",
     "output_type": "stream",
     "text": [
      "CPU times: user 1.07 s, sys: 43.2 ms, total: 1.11 s\n",
      "Wall time: 1min 11s\n"
     ]
    }
   ],
   "source": [
    "%%time\n",
    "for locus_id in algae_nc_list:\n",
    "    get_fasta(locus_id)"
   ]
  },
  {
   "cell_type": "markdown",
   "id": "56ba99b0",
   "metadata": {},
   "source": [
    "# Get 16s 'oomycetes' (36) from Nucleotide database of NCBI¶"
   ]
  },
  {
   "cell_type": "code",
   "execution_count": 24,
   "id": "0d9a53b2",
   "metadata": {},
   "outputs": [],
   "source": [
    "base_url = \"https://eutils.ncbi.nlm.nih.gov/entrez/eutils/{}\"\n",
    "db = \"nuccore\"\n",
    "search_term = '(((16s)+AND+%22eukaryotes%22[porgn:__txid2759]+NOT+%22animals%22[porgn:__txid33208])+AND+%22eukaryotes%22[porgn:__txid2759]+NOT+%22ciliates%22[porgn:__txid5878]+NOT+%22dinoflagellates%22[porgn:__txid2864]+NOT+%22golden+algae%22[porgn:__txid2825]+NOT+%22apicomplexans%22[porgn:__txid5794]+NOT+%22pelagophytes%22[porgn:__txid35675]+NOT+%22brown+algae%22[porgn:__txid2870]+NOT+%22euglenoids%22[porgn:__txid3035]+NOT+%22red+algae%22[porgn:__txid2763]+NOT+%22trichomonads%22[porgn:__txid37104]+NOT+%22cryptomonads%22[porgn:__txid3027]+NOT+%22haptophytes%22[porgn:__txid2830]+NOT+%22diatoms%22[porgn:__txid2836]+NOT+%22microsporidians%22[porgn:__txid6029]+NOT+%22ascomycetes%22[porgn:__txid4890]+NOT+%22fungi%22[porgn:__txid4751]+NOT+%22green+algae%22[porgn:__txid3041]+NOT+%22vascular+plants%22[porgn:__txid58023]+NOT+%22land+plants%22[porgn:__txid3193]+NOT+%22green+plants%22[porgn:__txid33090])+AND+%22oomycetes%22[porgn:__txid4762]'\n",
    "search = \"esearch.fcgi?db={}&term={}&retmax=100000\".format(db, search_term)"
   ]
  },
  {
   "cell_type": "code",
   "execution_count": 25,
   "id": "6637fd2d",
   "metadata": {},
   "outputs": [
    {
     "data": {
      "text/plain": [
       "36"
      ]
     },
     "execution_count": 25,
     "metadata": {},
     "output_type": "execute_result"
    }
   ],
   "source": [
    "esearch_response = requests.get(base_url.format(search))\n",
    "esearch_dict = xmltodict.parse(esearch_response.content)\n",
    "IdList = esearch_dict['eSearchResult']['IdList']['Id']\n",
    "len(IdList)"
   ]
  },
  {
   "cell_type": "code",
   "execution_count": 26,
   "id": "684379ab",
   "metadata": {},
   "outputs": [],
   "source": [
    "algae_nc_list = []\n",
    "\n",
    "def get_locus(taxon_id):\n",
    "    try:\n",
    "        search = \"efetch.fcgi?db={}&id={}&rettype=acc\".format(db, taxon_id)\n",
    "        locus_id = requests.get(base_url.format(search)).text\n",
    "        locus_id = locus_id.split('.')\n",
    "        locus_id = locus_id[0]\n",
    "        algae_nc_list.append(locus_id)\n",
    "        \n",
    "    except:\n",
    "        print (locus_id, \"NULL\")\n",
    "        pass"
   ]
  },
  {
   "cell_type": "code",
   "execution_count": 27,
   "id": "5c223eda",
   "metadata": {},
   "outputs": [
    {
     "name": "stdout",
     "output_type": "stream",
     "text": [
      "CPU times: user 923 ms, sys: 56.8 ms, total: 980 ms\n",
      "Wall time: 23.8 s\n"
     ]
    }
   ],
   "source": [
    "%%time\n",
    "for taxon_id in IdList:\n",
    "    get_locus(taxon_id)"
   ]
  },
  {
   "cell_type": "code",
   "execution_count": 28,
   "id": "7efd75a3",
   "metadata": {},
   "outputs": [
    {
     "data": {
      "text/plain": [
       "36"
      ]
     },
     "execution_count": 28,
     "metadata": {},
     "output_type": "execute_result"
    }
   ],
   "source": [
    "len(algae_nc_list)"
   ]
  },
  {
   "cell_type": "code",
   "execution_count": 29,
   "id": "6e375e27",
   "metadata": {},
   "outputs": [],
   "source": [
    "def get_fasta(nuc_id):\n",
    "    try:\n",
    "        fasta = \"efetch.fcgi?db=nuccore&id={}.1&rettype=fasta\".format(nuc_id)\n",
    "        download_fasta = requests.get(base_url.format(fasta))\n",
    "        file = open(\"16S_marker_NCBI/16S_Oomycetes/\" + \"{}.fasta\".format(nuc_id), \"w\")\n",
    "        file.write(download_fasta.text)\n",
    "        file.close()\n",
    "        time.sleep(1)\n",
    "    except:\n",
    "        print (nuc_id, \"Not Found\")\n",
    "        time.sleep(1)\n",
    "        pass"
   ]
  },
  {
   "cell_type": "code",
   "execution_count": 30,
   "id": "c5369b11",
   "metadata": {},
   "outputs": [
    {
     "name": "stdout",
     "output_type": "stream",
     "text": [
      "CPU times: user 1.65 s, sys: 131 ms, total: 1.78 s\n",
      "Wall time: 1min 18s\n"
     ]
    }
   ],
   "source": [
    "%%time\n",
    "for locus_id in algae_nc_list:\n",
    "    get_fasta(locus_id)"
   ]
  },
  {
   "cell_type": "markdown",
   "id": "ec52a0d9",
   "metadata": {},
   "source": [
    "# Get 16s 'plasmodial slime molds' (13) from Nucleotide database of NCBI"
   ]
  },
  {
   "cell_type": "code",
   "execution_count": 31,
   "id": "ffdbb4e4",
   "metadata": {},
   "outputs": [],
   "source": [
    "base_url = \"https://eutils.ncbi.nlm.nih.gov/entrez/eutils/{}\"\n",
    "db = \"nuccore\"\n",
    "search_term = '(((16s)+AND+%22eukaryotes%22[porgn:__txid2759]+NOT+%22animals%22[porgn:__txid33208])+AND+%22eukaryotes%22[porgn:__txid2759]+NOT+%22ciliates%22[porgn:__txid5878]+NOT+%22dinoflagellates%22[porgn:__txid2864]+NOT+%22golden+algae%22[porgn:__txid2825]+NOT+%22apicomplexans%22[porgn:__txid5794]+NOT+%22pelagophytes%22[porgn:__txid35675]+NOT+%22brown+algae%22[porgn:__txid2870]+NOT+%22euglenoids%22[porgn:__txid3035]+NOT+%22red+algae%22[porgn:__txid2763]+NOT+%22trichomonads%22[porgn:__txid37104]+NOT+%22cryptomonads%22[porgn:__txid3027]+NOT+%22haptophytes%22[porgn:__txid2830]+NOT+%22diatoms%22[porgn:__txid2836]+NOT+%22microsporidians%22[porgn:__txid6029]+NOT+%22ascomycetes%22[porgn:__txid4890]+NOT+%22fungi%22[porgn:__txid4751]+NOT+%22green+algae%22[porgn:__txid3041]+NOT+%22vascular+plants%22[porgn:__txid58023]+NOT+%22land+plants%22[porgn:__txid3193]+NOT+%22green+plants%22[porgn:__txid33090])+AND+%22plasmodial+slime+molds%22[porgn:__txid33680]'\n",
    "search = \"esearch.fcgi?db={}&term={}&retmax=100000\".format(db, search_term)"
   ]
  },
  {
   "cell_type": "code",
   "execution_count": 32,
   "id": "d747f17d",
   "metadata": {},
   "outputs": [
    {
     "data": {
      "text/plain": [
       "13"
      ]
     },
     "execution_count": 32,
     "metadata": {},
     "output_type": "execute_result"
    }
   ],
   "source": [
    "esearch_response = requests.get(base_url.format(search))\n",
    "esearch_dict = xmltodict.parse(esearch_response.content)\n",
    "IdList = esearch_dict['eSearchResult']['IdList']['Id']\n",
    "len(IdList)"
   ]
  },
  {
   "cell_type": "code",
   "execution_count": 33,
   "id": "709aac2d",
   "metadata": {},
   "outputs": [],
   "source": [
    "algae_nc_list = []\n",
    "\n",
    "def get_locus(taxon_id):\n",
    "    try:\n",
    "        search = \"efetch.fcgi?db={}&id={}&rettype=acc\".format(db, taxon_id)\n",
    "        locus_id = requests.get(base_url.format(search)).text\n",
    "        locus_id = locus_id.split('.')\n",
    "        locus_id = locus_id[0]\n",
    "        algae_nc_list.append(locus_id)\n",
    "        \n",
    "    except:\n",
    "        print (locus_id, \"NULL\")\n",
    "        pass"
   ]
  },
  {
   "cell_type": "code",
   "execution_count": 34,
   "id": "c36694b8",
   "metadata": {},
   "outputs": [
    {
     "name": "stdout",
     "output_type": "stream",
     "text": [
      "CPU times: user 327 ms, sys: 33.4 ms, total: 360 ms\n",
      "Wall time: 8.2 s\n"
     ]
    }
   ],
   "source": [
    "%%time\n",
    "for taxon_id in IdList:\n",
    "    get_locus(taxon_id)"
   ]
  },
  {
   "cell_type": "code",
   "execution_count": 35,
   "id": "5d5e07fc",
   "metadata": {},
   "outputs": [
    {
     "data": {
      "text/plain": [
       "13"
      ]
     },
     "execution_count": 35,
     "metadata": {},
     "output_type": "execute_result"
    }
   ],
   "source": [
    "len(algae_nc_list)"
   ]
  },
  {
   "cell_type": "code",
   "execution_count": 36,
   "id": "824ae992",
   "metadata": {},
   "outputs": [],
   "source": [
    "def get_fasta(nuc_id):\n",
    "    try:\n",
    "        fasta = \"efetch.fcgi?db=nuccore&id={}.1&rettype=fasta\".format(nuc_id)\n",
    "        download_fasta = requests.get(base_url.format(fasta))\n",
    "        file = open(\"16S_marker_NCBI/16S_Plasm-Slime-Molds/\" + \"{}.fasta\".format(nuc_id), \"w\")\n",
    "        file.write(download_fasta.text)\n",
    "        file.close()\n",
    "        time.sleep(1)\n",
    "    except:\n",
    "        print (nuc_id, \"Not Found\")\n",
    "        time.sleep(1)\n",
    "        pass"
   ]
  },
  {
   "cell_type": "code",
   "execution_count": 37,
   "id": "6218ef50",
   "metadata": {},
   "outputs": [
    {
     "name": "stdout",
     "output_type": "stream",
     "text": [
      "CPU times: user 335 ms, sys: 23.6 ms, total: 358 ms\n",
      "Wall time: 22.3 s\n"
     ]
    }
   ],
   "source": [
    "%%time\n",
    "for locus_id in algae_nc_list:\n",
    "    get_fasta(locus_id)"
   ]
  },
  {
   "cell_type": "markdown",
   "id": "1a4e0972",
   "metadata": {},
   "source": [
    "# Get 16s 'cellular slime molds' (5) from Nucleotide database of NCBI"
   ]
  },
  {
   "cell_type": "code",
   "execution_count": 38,
   "id": "e97c4aec",
   "metadata": {},
   "outputs": [],
   "source": [
    "base_url = \"https://eutils.ncbi.nlm.nih.gov/entrez/eutils/{}\"\n",
    "db = \"nuccore\"\n",
    "search_term = '(((16s)+AND+%22eukaryotes%22[porgn:__txid2759]+NOT+%22animals%22[porgn:__txid33208])+AND+%22eukaryotes%22[porgn:__txid2759]+NOT+%22ciliates%22[porgn:__txid5878]+NOT+%22dinoflagellates%22[porgn:__txid2864]+NOT+%22golden+algae%22[porgn:__txid2825]+NOT+%22apicomplexans%22[porgn:__txid5794]+NOT+%22pelagophytes%22[porgn:__txid35675]+NOT+%22brown+algae%22[porgn:__txid2870]+NOT+%22euglenoids%22[porgn:__txid3035]+NOT+%22red+algae%22[porgn:__txid2763]+NOT+%22trichomonads%22[porgn:__txid37104]+NOT+%22cryptomonads%22[porgn:__txid3027]+NOT+%22haptophytes%22[porgn:__txid2830]+NOT+%22diatoms%22[porgn:__txid2836]+NOT+%22microsporidians%22[porgn:__txid6029]+NOT+%22ascomycetes%22[porgn:__txid4890]+NOT+%22fungi%22[porgn:__txid4751]+NOT+%22green+algae%22[porgn:__txid3041]+NOT+%22vascular+plants%22[porgn:__txid58023]+NOT+%22land+plants%22[porgn:__txid3193]+NOT+%22green+plants%22[porgn:__txid33090])+AND+%22cellular+slime+molds%22[porgn:__txid33083]'\n",
    "search = \"esearch.fcgi?db={}&term={}&retmax=100000\".format(db, search_term)"
   ]
  },
  {
   "cell_type": "code",
   "execution_count": 39,
   "id": "afef3c00",
   "metadata": {},
   "outputs": [
    {
     "data": {
      "text/plain": [
       "5"
      ]
     },
     "execution_count": 39,
     "metadata": {},
     "output_type": "execute_result"
    }
   ],
   "source": [
    "esearch_response = requests.get(base_url.format(search))\n",
    "esearch_dict = xmltodict.parse(esearch_response.content)\n",
    "IdList = esearch_dict['eSearchResult']['IdList']['Id']\n",
    "len(IdList)"
   ]
  },
  {
   "cell_type": "code",
   "execution_count": 40,
   "id": "8eac83ce",
   "metadata": {},
   "outputs": [],
   "source": [
    "algae_nc_list = []\n",
    "\n",
    "def get_locus(taxon_id):\n",
    "    try:\n",
    "        search = \"efetch.fcgi?db={}&id={}&rettype=acc\".format(db, taxon_id)\n",
    "        locus_id = requests.get(base_url.format(search)).text\n",
    "        locus_id = locus_id.split('.')\n",
    "        locus_id = locus_id[0]\n",
    "        algae_nc_list.append(locus_id)\n",
    "        \n",
    "    except:\n",
    "        print (locus_id, \"NULL\")\n",
    "        pass"
   ]
  },
  {
   "cell_type": "code",
   "execution_count": 41,
   "id": "32cb35d6",
   "metadata": {},
   "outputs": [
    {
     "name": "stdout",
     "output_type": "stream",
     "text": [
      "CPU times: user 122 ms, sys: 17.1 ms, total: 139 ms\n",
      "Wall time: 7.28 s\n"
     ]
    }
   ],
   "source": [
    "%%time\n",
    "for taxon_id in IdList:\n",
    "    get_locus(taxon_id)"
   ]
  },
  {
   "cell_type": "code",
   "execution_count": 42,
   "id": "f7267990",
   "metadata": {},
   "outputs": [
    {
     "data": {
      "text/plain": [
       "5"
      ]
     },
     "execution_count": 42,
     "metadata": {},
     "output_type": "execute_result"
    }
   ],
   "source": [
    "len(algae_nc_list)"
   ]
  },
  {
   "cell_type": "code",
   "execution_count": 43,
   "id": "6d4674c8",
   "metadata": {},
   "outputs": [],
   "source": [
    "def get_fasta(nuc_id):\n",
    "    try:\n",
    "        fasta = \"efetch.fcgi?db=nuccore&id={}.1&rettype=fasta\".format(nuc_id)\n",
    "        download_fasta = requests.get(base_url.format(fasta))\n",
    "        file = open(\"16S_marker_NCBI/16S_Cell-Slime-Molds/\" + \"{}.fasta\".format(nuc_id), \"w\")\n",
    "        file.write(download_fasta.text)\n",
    "        file.close()\n",
    "        time.sleep(1)\n",
    "    except:\n",
    "        print (nuc_id, \"Not Found\")\n",
    "        time.sleep(1)\n",
    "        pass"
   ]
  },
  {
   "cell_type": "code",
   "execution_count": 44,
   "id": "397eee38",
   "metadata": {},
   "outputs": [
    {
     "name": "stdout",
     "output_type": "stream",
     "text": [
      "CPU times: user 527 ms, sys: 97.3 ms, total: 624 ms\n",
      "Wall time: 16 s\n"
     ]
    }
   ],
   "source": [
    "%%time\n",
    "for locus_id in algae_nc_list:\n",
    "    get_fasta(locus_id)"
   ]
  },
  {
   "cell_type": "markdown",
   "id": "e1ba8fd7",
   "metadata": {},
   "source": [
    "# Get 16s 'slime nets' (5) from Nucleotide database of NCBI"
   ]
  },
  {
   "cell_type": "code",
   "execution_count": 45,
   "id": "0603201d",
   "metadata": {},
   "outputs": [],
   "source": [
    "base_url = \"https://eutils.ncbi.nlm.nih.gov/entrez/eutils/{}\"\n",
    "db = \"nuccore\"\n",
    "search_term = '((((16s)+AND+%22eukaryotes%22[porgn:__txid2759]+NOT+%22animals%22[porgn:__txid33208])+AND+%22eukaryotes%22[porgn:__txid2759]+NOT+%22ciliates%22[porgn:__txid5878]+NOT+%22dinoflagellates%22[porgn:__txid2864]+NOT+%22golden+algae%22[porgn:__txid2825]+NOT+%22apicomplexans%22[porgn:__txid5794]+NOT+%22pelagophytes%22[porgn:__txid35675]+NOT+%22brown+algae%22[porgn:__txid2870]+NOT+%22euglenoids%22[porgn:__txid3035]+NOT+%22red+algae%22[porgn:__txid2763]+NOT+%22trichomonads%22[porgn:__txid37104]+NOT+%22cryptomonads%22[porgn:__txid3027]+NOT+%22haptophytes%22[porgn:__txid2830]+NOT+%22diatoms%22[porgn:__txid2836]+NOT+%22microsporidians%22[porgn:__txid6029]+NOT+%22ascomycetes%22[porgn:__txid4890]+NOT+%22fungi%22[porgn:__txid4751]+NOT+%22green+algae%22[porgn:__txid3041]+NOT+%22vascular+plants%22[porgn:__txid58023]+NOT+%22land+plants%22[porgn:__txid3193]+NOT+%22green+plants%22[porgn:__txid33090])+AND+%22slime+nets%22[porgn:__txid35131])+AND+%22slime+nets%22[porgn:__txid35131]'\n",
    "search = \"esearch.fcgi?db={}&term={}&retmax=100000\".format(db, search_term)"
   ]
  },
  {
   "cell_type": "code",
   "execution_count": 46,
   "id": "17209148",
   "metadata": {},
   "outputs": [
    {
     "data": {
      "text/plain": [
       "5"
      ]
     },
     "execution_count": 46,
     "metadata": {},
     "output_type": "execute_result"
    }
   ],
   "source": [
    "esearch_response = requests.get(base_url.format(search))\n",
    "esearch_dict = xmltodict.parse(esearch_response.content)\n",
    "IdList = esearch_dict['eSearchResult']['IdList']['Id']\n",
    "len(IdList)"
   ]
  },
  {
   "cell_type": "code",
   "execution_count": 47,
   "id": "e957d508",
   "metadata": {},
   "outputs": [],
   "source": [
    "algae_nc_list = []\n",
    "\n",
    "def get_locus(taxon_id):\n",
    "    try:\n",
    "        search = \"efetch.fcgi?db={}&id={}&rettype=acc\".format(db, taxon_id)\n",
    "        locus_id = requests.get(base_url.format(search)).text\n",
    "        locus_id = locus_id.split('.')\n",
    "        locus_id = locus_id[0]\n",
    "        algae_nc_list.append(locus_id)\n",
    "        \n",
    "    except:\n",
    "        print (locus_id, \"NULL\")\n",
    "        pass"
   ]
  },
  {
   "cell_type": "code",
   "execution_count": 48,
   "id": "39b14e7a",
   "metadata": {},
   "outputs": [
    {
     "name": "stdout",
     "output_type": "stream",
     "text": [
      "CPU times: user 137 ms, sys: 4.1 ms, total: 141 ms\n",
      "Wall time: 3.58 s\n"
     ]
    }
   ],
   "source": [
    "%%time\n",
    "for taxon_id in IdList:\n",
    "    get_locus(taxon_id)"
   ]
  },
  {
   "cell_type": "code",
   "execution_count": 49,
   "id": "388e7170",
   "metadata": {},
   "outputs": [
    {
     "data": {
      "text/plain": [
       "5"
      ]
     },
     "execution_count": 49,
     "metadata": {},
     "output_type": "execute_result"
    }
   ],
   "source": [
    "len(algae_nc_list)"
   ]
  },
  {
   "cell_type": "code",
   "execution_count": 50,
   "id": "80cd2db2",
   "metadata": {},
   "outputs": [],
   "source": [
    "def get_fasta(nuc_id):\n",
    "    try:\n",
    "        fasta = \"efetch.fcgi?db=nuccore&id={}.1&rettype=fasta\".format(nuc_id)\n",
    "        download_fasta = requests.get(base_url.format(fasta))\n",
    "        file = open(\"16S_marker_NCBI/16S_Slime-Nets/\" + \"{}.fasta\".format(nuc_id), \"w\")\n",
    "        file.write(download_fasta.text)\n",
    "        file.close()\n",
    "        time.sleep(1)\n",
    "    except:\n",
    "        print (nuc_id, \"Not Found\")\n",
    "        time.sleep(1)\n",
    "        pass"
   ]
  },
  {
   "cell_type": "code",
   "execution_count": 51,
   "id": "4f229e27",
   "metadata": {},
   "outputs": [
    {
     "name": "stdout",
     "output_type": "stream",
     "text": [
      "CPU times: user 142 ms, sys: 579 µs, total: 142 ms\n",
      "Wall time: 8.96 s\n"
     ]
    }
   ],
   "source": [
    "%%time\n",
    "for locus_id in algae_nc_list:\n",
    "    get_fasta(locus_id)"
   ]
  },
  {
   "cell_type": "markdown",
   "id": "349580ec",
   "metadata": {},
   "source": [
    "# Get 16s 'uncultured phototrophic eukaryote' (1873) from Nucleotide database of NCBI"
   ]
  },
  {
   "cell_type": "code",
   "execution_count": 2,
   "id": "f0bab8e1",
   "metadata": {},
   "outputs": [],
   "source": [
    "base_url = \"https://eutils.ncbi.nlm.nih.gov/entrez/eutils/{}\"\n",
    "db = \"nuccore\"\n",
    "search_term = '(((16s[All+Fields]+AND+%22eukaryotes%22[porgn]+NOT+%22animals%22[porgn])+AND+%22eukaryotes%22[porgn]+NOT+%22ciliates%22[porgn]+NOT+%22dinoflagellates%22[porgn]+NOT+%22golden+algae%22[porgn]+NOT+%22apicomplexans%22[porgn]+NOT+%22pelagophytes%22[porgn]+NOT+%22brown+algae%22[porgn]+NOT+%22euglenoids%22[porgn]+NOT+%22red+algae%22[porgn]+NOT+%22trichomonads%22[porgn]+NOT+%22cryptomonads%22[porgn]+NOT+%22haptophytes%22[porgn]+NOT+%22diatoms%22[porgn]+NOT+%22microsporidians%22[porgn]+NOT+%22ascomycetes%22[porgn]+NOT+%22fungi%22[porgn]+NOT+%22green+algae%22[porgn]+NOT+%22vascular+plants%22[porgn]+NOT+%22land+plants%22[porgn]+NOT+%22green+plants%22[porgn])+AND+%22eukaryotes%22[porgn]+NOT+%22slime+nets%22[porgn]+NOT+%22yellow-green+algae%22[porgn]+NOT+%22cellular+slime+molds%22[porgn]+NOT+%22plasmodial+slime+molds%22[porgn]+NOT+%22cercozoans%22[porgn]+NOT+%22oomycetes%22[porgn]+NOT+%22forams%22[porgn]+NOT+%22kinetoplastids%22[porgn]+NOT+%22diplomonads%22[porgn])+AND+%22uncultured+phototrophic+eukaryote%22[porgn]'\n",
    "search = \"esearch.fcgi?db={}&term={}&retmax=100000\".format(db, search_term)"
   ]
  },
  {
   "cell_type": "code",
   "execution_count": 3,
   "id": "9df8ff4a",
   "metadata": {},
   "outputs": [
    {
     "data": {
      "text/plain": [
       "1873"
      ]
     },
     "execution_count": 3,
     "metadata": {},
     "output_type": "execute_result"
    }
   ],
   "source": [
    "esearch_response = requests.get(base_url.format(search))\n",
    "esearch_dict = xmltodict.parse(esearch_response.content)\n",
    "IdList = esearch_dict['eSearchResult']['IdList']['Id']\n",
    "len(IdList)"
   ]
  },
  {
   "cell_type": "code",
   "execution_count": 4,
   "id": "1a84f44a",
   "metadata": {},
   "outputs": [],
   "source": [
    "algae_nc_list = []\n",
    "\n",
    "def get_locus(taxon_id):\n",
    "    try:\n",
    "        search = \"efetch.fcgi?db={}&id={}&rettype=acc\".format(db, taxon_id)\n",
    "        locus_id = requests.get(base_url.format(search)).text\n",
    "        locus_id = locus_id.split('.')\n",
    "        locus_id = locus_id[0]\n",
    "        algae_nc_list.append(locus_id)\n",
    "        \n",
    "    except:\n",
    "        print (locus_id, \"NULL\")\n",
    "        pass"
   ]
  },
  {
   "cell_type": "code",
   "execution_count": 5,
   "id": "a8aed6d2",
   "metadata": {},
   "outputs": [
    {
     "name": "stdout",
     "output_type": "stream",
     "text": [
      "CPU times: user 46.1 s, sys: 1.89 s, total: 48 s\n",
      "Wall time: 18min 16s\n"
     ]
    }
   ],
   "source": [
    "%%time\n",
    "for taxon_id in IdList:\n",
    "    get_locus(taxon_id)"
   ]
  },
  {
   "cell_type": "code",
   "execution_count": 6,
   "id": "3cdf3625",
   "metadata": {},
   "outputs": [
    {
     "data": {
      "text/plain": [
       "1873"
      ]
     },
     "execution_count": 6,
     "metadata": {},
     "output_type": "execute_result"
    }
   ],
   "source": [
    "len(algae_nc_list)"
   ]
  },
  {
   "cell_type": "code",
   "execution_count": 7,
   "id": "cbb38e7f",
   "metadata": {},
   "outputs": [],
   "source": [
    "def get_fasta(nuc_id):\n",
    "    try:\n",
    "        fasta = \"efetch.fcgi?db=nuccore&id={}.1&rettype=fasta\".format(nuc_id)\n",
    "        download_fasta = requests.get(base_url.format(fasta))\n",
    "        file = open(\"16S_UnCul-Phototroph-Euk/\" + \"{}.fasta\".format(nuc_id), \"w\")\n",
    "        file.write(download_fasta.text)\n",
    "        file.close()\n",
    "        time.sleep(1)\n",
    "    except:\n",
    "        print (nuc_id, \"Not Found\")\n",
    "        time.sleep(1)\n",
    "        pass"
   ]
  },
  {
   "cell_type": "code",
   "execution_count": 8,
   "id": "99fe6552",
   "metadata": {},
   "outputs": [
    {
     "name": "stdout",
     "output_type": "stream",
     "text": [
      "CPU times: user 47.5 s, sys: 2.55 s, total: 50 s\n",
      "Wall time: 54min 51s\n"
     ]
    }
   ],
   "source": [
    "%%time\n",
    "for locus_id in algae_nc_list:\n",
    "    get_fasta(locus_id)"
   ]
  },
  {
   "cell_type": "markdown",
   "id": "4aaa1635",
   "metadata": {},
   "source": [
    "# Get 16s 'uncultured eukaryotic phytoplankton' (183) from Nucleotide database of NCBI"
   ]
  },
  {
   "cell_type": "code",
   "execution_count": 19,
   "id": "c9c03c2c",
   "metadata": {},
   "outputs": [],
   "source": [
    "base_url = \"https://eutils.ncbi.nlm.nih.gov/entrez/eutils/{}\"\n",
    "db = \"nuccore\"\n",
    "search_term = '(((((16s)+AND+%22eukaryotes%22[porgn:__txid2759]+NOT+%22animals%22[porgn:__txid33208])+AND+%22eukaryotes%22[porgn:__txid2759]+NOT+%22ciliates%22[porgn:__txid5878]+NOT+%22dinoflagellates%22[porgn:__txid2864]+NOT+%22golden+algae%22[porgn:__txid2825]+NOT+%22apicomplexans%22[porgn:__txid5794]+NOT+%22pelagophytes%22[porgn:__txid35675]+NOT+%22brown+algae%22[porgn:__txid2870]+NOT+%22euglenoids%22[porgn:__txid3035]+NOT+%22red+algae%22[porgn:__txid2763]+NOT+%22trichomonads%22[porgn:__txid37104]+NOT+%22cryptomonads%22[porgn:__txid3027]+NOT+%22haptophytes%22[porgn:__txid2830]+NOT+%22diatoms%22[porgn:__txid2836]+NOT+%22microsporidians%22[porgn:__txid6029]+NOT+%22ascomycetes%22[porgn:__txid4890]+NOT+%22fungi%22[porgn:__txid4751]+NOT+%22green+algae%22[porgn:__txid3041]+NOT+%22vascular+plants%22[porgn:__txid58023]+NOT+%22land+plants%22[porgn:__txid3193]+NOT+%22green+plants%22[porgn:__txid33090])+AND+%22eukaryotes%22[porgn:__txid2759]+NOT+%22slime+nets%22[porgn:__txid35131]+NOT+%22yellow-green+algae%22[porgn:__txid2833]+NOT+%22cellular+slime+molds%22[porgn:__txid33083]+NOT+%22plasmodial+slime+molds%22[porgn:__txid33680]+NOT+%22cercozoans%22[porgn:__txid136419]+NOT+%22oomycetes%22[porgn:__txid4762]+NOT+%22forams%22[porgn:__txid29178]+NOT+%22kinetoplastids%22[porgn:__txid5653]+NOT+%22diplomonads%22[porgn:__txid5738])+AND+%22eukaryotes%22[porgn:__txid2759])+AND+%22uncultured+eukaryotic+phytoplankton%22[porgn:__txid1737140]'\n",
    "search = \"esearch.fcgi?db={}&term={}&retmax=100000\".format(db, search_term)"
   ]
  },
  {
   "cell_type": "code",
   "execution_count": 20,
   "id": "fe5b9fc5",
   "metadata": {},
   "outputs": [
    {
     "data": {
      "text/plain": [
       "183"
      ]
     },
     "execution_count": 20,
     "metadata": {},
     "output_type": "execute_result"
    }
   ],
   "source": [
    "esearch_response = requests.get(base_url.format(search))\n",
    "esearch_dict = xmltodict.parse(esearch_response.content)\n",
    "IdList = esearch_dict['eSearchResult']['IdList']['Id']\n",
    "len(IdList)"
   ]
  },
  {
   "cell_type": "code",
   "execution_count": 21,
   "id": "af4d5f12",
   "metadata": {},
   "outputs": [],
   "source": [
    "algae_nc_list = []\n",
    "\n",
    "def get_locus(taxon_id):\n",
    "    try:\n",
    "        search = \"efetch.fcgi?db={}&id={}&rettype=acc\".format(db, taxon_id)\n",
    "        locus_id = requests.get(base_url.format(search)).text\n",
    "        locus_id = locus_id.split('.')\n",
    "        locus_id = locus_id[0]\n",
    "        algae_nc_list.append(locus_id)\n",
    "        \n",
    "    except:\n",
    "        print (locus_id, \"NULL\")\n",
    "        pass"
   ]
  },
  {
   "cell_type": "code",
   "execution_count": 22,
   "id": "f64b4a9b",
   "metadata": {},
   "outputs": [
    {
     "name": "stdout",
     "output_type": "stream",
     "text": [
      "CPU times: user 4.55 s, sys: 168 ms, total: 4.72 s\n",
      "Wall time: 1min 40s\n"
     ]
    }
   ],
   "source": [
    "%%time\n",
    "for taxon_id in IdList:\n",
    "    get_locus(taxon_id)"
   ]
  },
  {
   "cell_type": "code",
   "execution_count": 23,
   "id": "3ad244a7",
   "metadata": {},
   "outputs": [
    {
     "data": {
      "text/plain": [
       "183"
      ]
     },
     "execution_count": 23,
     "metadata": {},
     "output_type": "execute_result"
    }
   ],
   "source": [
    "len(algae_nc_list)"
   ]
  },
  {
   "cell_type": "code",
   "execution_count": 24,
   "id": "43f659a6",
   "metadata": {},
   "outputs": [],
   "source": [
    "def get_fasta(nuc_id):\n",
    "    try:\n",
    "        fasta = \"efetch.fcgi?db=nuccore&id={}.1&rettype=fasta\".format(nuc_id)\n",
    "        download_fasta = requests.get(base_url.format(fasta))\n",
    "        file = open(\"16S_UnCul-Euk-Phytoplank/\" + \"{}.fasta\".format(nuc_id), \"w\")\n",
    "        file.write(download_fasta.text)\n",
    "        file.close()\n",
    "        time.sleep(1)\n",
    "    except:\n",
    "        print (nuc_id, \"Not Found\")\n",
    "        time.sleep(1)\n",
    "        pass"
   ]
  },
  {
   "cell_type": "code",
   "execution_count": 25,
   "id": "941f0fcd",
   "metadata": {},
   "outputs": [
    {
     "name": "stdout",
     "output_type": "stream",
     "text": [
      "CPU times: user 4.63 s, sys: 244 ms, total: 4.88 s\n",
      "Wall time: 5min 21s\n"
     ]
    }
   ],
   "source": [
    "%%time\n",
    "for locus_id in algae_nc_list:\n",
    "    get_fasta(locus_id)"
   ]
  },
  {
   "cell_type": "markdown",
   "id": "7e2bb706",
   "metadata": {},
   "source": [
    "# Get 16s 'uncultured protist' (117) from Nucleotide database of NCBI"
   ]
  },
  {
   "cell_type": "code",
   "execution_count": 52,
   "id": "3b47cc8a",
   "metadata": {},
   "outputs": [],
   "source": [
    "base_url = \"https://eutils.ncbi.nlm.nih.gov/entrez/eutils/{}\"\n",
    "db = \"nuccore\"\n",
    "search_term = '((((16s)+AND+%22eukaryotes%22[porgn:__txid2759]+NOT+%22animals%22[porgn:__txid33208])+AND+%22eukaryotes%22[porgn:__txid2759]+NOT+%22ciliates%22[porgn:__txid5878]+NOT+%22dinoflagellates%22[porgn:__txid2864]+NOT+%22golden+algae%22[porgn:__txid2825]+NOT+%22apicomplexans%22[porgn:__txid5794]+NOT+%22pelagophytes%22[porgn:__txid35675]+NOT+%22brown+algae%22[porgn:__txid2870]+NOT+%22euglenoids%22[porgn:__txid3035]+NOT+%22red+algae%22[porgn:__txid2763]+NOT+%22trichomonads%22[porgn:__txid37104]+NOT+%22cryptomonads%22[porgn:__txid3027]+NOT+%22haptophytes%22[porgn:__txid2830]+NOT+%22diatoms%22[porgn:__txid2836]+NOT+%22microsporidians%22[porgn:__txid6029]+NOT+%22ascomycetes%22[porgn:__txid4890]+NOT+%22fungi%22[porgn:__txid4751]+NOT+%22green+algae%22[porgn:__txid3041]+NOT+%22vascular+plants%22[porgn:__txid58023]+NOT+%22land+plants%22[porgn:__txid3193]+NOT+%22green+plants%22[porgn:__txid33090])+AND+%22eukaryotes%22[porgn:__txid2759]+NOT+%22slime+nets%22[porgn:__txid35131]+NOT+%22yellow-green+algae%22[porgn:__txid2833]+NOT+%22cellular+slime+molds%22[porgn:__txid33083]+NOT+%22plasmodial+slime+molds%22[porgn:__txid33680]+NOT+%22cercozoans%22[porgn:__txid136419]+NOT+%22oomycetes%22[porgn:__txid4762]+NOT+%22forams%22[porgn:__txid29178]+NOT+%22kinetoplastids%22[porgn:__txid5653]+NOT+%22diplomonads%22[porgn:__txid5738])+AND+%22uncultured+protist%22[porgn:__txid1295078]'\n",
    "search = \"esearch.fcgi?db={}&term={}&retmax=100000\".format(db, search_term)"
   ]
  },
  {
   "cell_type": "code",
   "execution_count": 53,
   "id": "71a7f0cd",
   "metadata": {},
   "outputs": [
    {
     "data": {
      "text/plain": [
       "117"
      ]
     },
     "execution_count": 53,
     "metadata": {},
     "output_type": "execute_result"
    }
   ],
   "source": [
    "esearch_response = requests.get(base_url.format(search))\n",
    "esearch_dict = xmltodict.parse(esearch_response.content)\n",
    "IdList = esearch_dict['eSearchResult']['IdList']['Id']\n",
    "len(IdList)"
   ]
  },
  {
   "cell_type": "code",
   "execution_count": 54,
   "id": "b3ea3cf3",
   "metadata": {},
   "outputs": [],
   "source": [
    "algae_nc_list = []\n",
    "\n",
    "def get_locus(taxon_id):\n",
    "    try:\n",
    "        search = \"efetch.fcgi?db={}&id={}&rettype=acc\".format(db, taxon_id)\n",
    "        locus_id = requests.get(base_url.format(search)).text\n",
    "        locus_id = locus_id.split('.')\n",
    "        locus_id = locus_id[0]\n",
    "        algae_nc_list.append(locus_id)\n",
    "        \n",
    "    except:\n",
    "        print (locus_id, \"NULL\")\n",
    "        pass"
   ]
  },
  {
   "cell_type": "code",
   "execution_count": 55,
   "id": "9a89a3b8",
   "metadata": {},
   "outputs": [
    {
     "name": "stdout",
     "output_type": "stream",
     "text": [
      "CPU times: user 3.04 s, sys: 143 ms, total: 3.18 s\n",
      "Wall time: 1min 16s\n"
     ]
    }
   ],
   "source": [
    "%%time\n",
    "for taxon_id in IdList:\n",
    "    get_locus(taxon_id)"
   ]
  },
  {
   "cell_type": "code",
   "execution_count": 57,
   "id": "cc914b4f",
   "metadata": {},
   "outputs": [
    {
     "data": {
      "text/plain": [
       "117"
      ]
     },
     "execution_count": 57,
     "metadata": {},
     "output_type": "execute_result"
    }
   ],
   "source": [
    "len(algae_nc_list)"
   ]
  },
  {
   "cell_type": "code",
   "execution_count": 58,
   "id": "4a1014e3",
   "metadata": {},
   "outputs": [],
   "source": [
    "def get_fasta(nuc_id):\n",
    "    try:\n",
    "        fasta = \"efetch.fcgi?db=nuccore&id={}.1&rettype=fasta\".format(nuc_id)\n",
    "        download_fasta = requests.get(base_url.format(fasta))\n",
    "        file = open(\"16S_marker_NCBI/16S_Uncult-Protist/\" + \"{}.fasta\".format(nuc_id), \"w\")\n",
    "        file.write(download_fasta.text)\n",
    "        file.close()\n",
    "        time.sleep(1)\n",
    "    except:\n",
    "        print (nuc_id, \"Not Found\")\n",
    "        time.sleep(1)\n",
    "        pass"
   ]
  },
  {
   "cell_type": "code",
   "execution_count": 59,
   "id": "267538eb",
   "metadata": {},
   "outputs": [
    {
     "name": "stdout",
     "output_type": "stream",
     "text": [
      "CPU times: user 3.05 s, sys: 200 ms, total: 3.25 s\n",
      "Wall time: 3min 41s\n"
     ]
    }
   ],
   "source": [
    "%%time\n",
    "for locus_id in algae_nc_list:\n",
    "    get_fasta(locus_id)"
   ]
  },
  {
   "cell_type": "markdown",
   "id": "49556e0f",
   "metadata": {},
   "source": [
    "# Get 16s 'Nannochloropsis oceanica' (150) from Nucleotide database of NCBI"
   ]
  },
  {
   "cell_type": "code",
   "execution_count": 98,
   "id": "bf63e958",
   "metadata": {},
   "outputs": [],
   "source": [
    "base_url = \"https://eutils.ncbi.nlm.nih.gov/entrez/eutils/{}\"\n",
    "db = \"nuccore\"\n",
    "search_term = '(((((16s)+AND+%22eukaryotes%22[porgn:__txid2759]+NOT+%22animals%22[porgn:__txid33208])+AND+%22eukaryotes%22[porgn:__txid2759]+NOT+%22ciliates%22[porgn:__txid5878]+NOT+%22dinoflagellates%22[porgn:__txid2864]+NOT+%22golden+algae%22[porgn:__txid2825]+NOT+%22apicomplexans%22[porgn:__txid5794]+NOT+%22pelagophytes%22[porgn:__txid35675]+NOT+%22brown+algae%22[porgn:__txid2870]+NOT+%22euglenoids%22[porgn:__txid3035]+NOT+%22red+algae%22[porgn:__txid2763]+NOT+%22trichomonads%22[porgn:__txid37104]+NOT+%22cryptomonads%22[porgn:__txid3027]+NOT+%22haptophytes%22[porgn:__txid2830]+NOT+%22diatoms%22[porgn:__txid2836]+NOT+%22microsporidians%22[porgn:__txid6029]+NOT+%22ascomycetes%22[porgn:__txid4890]+NOT+%22fungi%22[porgn:__txid4751]+NOT+%22green+algae%22[porgn:__txid3041]+NOT+%22vascular+plants%22[porgn:__txid58023]+NOT+%22land+plants%22[porgn:__txid3193]+NOT+%22green+plants%22[porgn:__txid33090])+AND+%22eukaryotes%22[porgn:__txid2759]+NOT+%22slime+nets%22[porgn:__txid35131]+NOT+%22yellow-green+algae%22[porgn:__txid2833]+NOT+%22cellular+slime+molds%22[porgn:__txid33083]+NOT+%22plasmodial+slime+molds%22[porgn:__txid33680]+NOT+%22cercozoans%22[porgn:__txid136419]+NOT+%22oomycetes%22[porgn:__txid4762]+NOT+%22forams%22[porgn:__txid29178]+NOT+%22kinetoplastids%22[porgn:__txid5653]+NOT+%22diplomonads%22[porgn:__txid5738])+AND+%22eukaryotes%22[porgn:__txid2759])+AND+%22Nannochloropsis+oceanica%22[porgn:__txid145522]'\n",
    "search = \"esearch.fcgi?db={}&term={}&retmax=100000\".format(db, search_term)"
   ]
  },
  {
   "cell_type": "code",
   "execution_count": 99,
   "id": "53d20710",
   "metadata": {},
   "outputs": [
    {
     "data": {
      "text/plain": [
       "150"
      ]
     },
     "execution_count": 99,
     "metadata": {},
     "output_type": "execute_result"
    }
   ],
   "source": [
    "esearch_response = requests.get(base_url.format(search))\n",
    "esearch_dict = xmltodict.parse(esearch_response.content)\n",
    "IdList = esearch_dict['eSearchResult']['IdList']['Id']\n",
    "len(IdList)"
   ]
  },
  {
   "cell_type": "code",
   "execution_count": 100,
   "id": "40359072",
   "metadata": {},
   "outputs": [],
   "source": [
    "algae_nc_list = []\n",
    "\n",
    "def get_locus(taxon_id):\n",
    "    try:\n",
    "        search = \"efetch.fcgi?db={}&id={}&rettype=acc\".format(db, taxon_id)\n",
    "        locus_id = requests.get(base_url.format(search)).text\n",
    "        locus_id = locus_id.split('.')\n",
    "        locus_id = locus_id[0]\n",
    "        algae_nc_list.append(locus_id)\n",
    "        \n",
    "    except:\n",
    "        print (locus_id, \"NULL\")\n",
    "        pass"
   ]
  },
  {
   "cell_type": "code",
   "execution_count": 101,
   "id": "f5dec64e",
   "metadata": {},
   "outputs": [
    {
     "name": "stdout",
     "output_type": "stream",
     "text": [
      "CPU times: user 3.73 s, sys: 163 ms, total: 3.9 s\n",
      "Wall time: 1min 24s\n"
     ]
    }
   ],
   "source": [
    "%%time\n",
    "for taxon_id in IdList:\n",
    "    get_locus(taxon_id)"
   ]
  },
  {
   "cell_type": "code",
   "execution_count": 102,
   "id": "c4959357",
   "metadata": {},
   "outputs": [
    {
     "data": {
      "text/plain": [
       "150"
      ]
     },
     "execution_count": 102,
     "metadata": {},
     "output_type": "execute_result"
    }
   ],
   "source": [
    "len(algae_nc_list)"
   ]
  },
  {
   "cell_type": "code",
   "execution_count": 103,
   "id": "91ccbd55",
   "metadata": {},
   "outputs": [],
   "source": [
    "def get_fasta(nuc_id):\n",
    "    try:\n",
    "        fasta = \"efetch.fcgi?db=nuccore&id={}.1&rettype=fasta\".format(nuc_id)\n",
    "        download_fasta = requests.get(base_url.format(fasta))\n",
    "        file = open(\"16S_Nannochloropsis-oceanica/\" + \"{}.fasta\".format(nuc_id), \"w\")\n",
    "        file.write(download_fasta.text)\n",
    "        file.close()\n",
    "        time.sleep(1)\n",
    "    except:\n",
    "        print (nuc_id, \"Not Found\")\n",
    "        time.sleep(1)\n",
    "        pass"
   ]
  },
  {
   "cell_type": "code",
   "execution_count": 104,
   "id": "3484c468",
   "metadata": {},
   "outputs": [
    {
     "name": "stdout",
     "output_type": "stream",
     "text": [
      "CPU times: user 3.8 s, sys: 236 ms, total: 4.04 s\n",
      "Wall time: 4min 25s\n"
     ]
    }
   ],
   "source": [
    "%%time\n",
    "for locus_id in algae_nc_list:\n",
    "    get_fasta(locus_id)"
   ]
  },
  {
   "cell_type": "markdown",
   "id": "403fb747",
   "metadata": {},
   "source": [
    "# Get 16s 'uncultured algae' (69) from Nucleotide database of NCBI"
   ]
  },
  {
   "cell_type": "code",
   "execution_count": 91,
   "id": "9fe460eb",
   "metadata": {},
   "outputs": [],
   "source": [
    "base_url = \"https://eutils.ncbi.nlm.nih.gov/entrez/eutils/{}\"\n",
    "db = \"nuccore\"\n",
    "search_term = '(((((16s)+AND+%22eukaryotes%22[porgn:__txid2759]+NOT+%22animals%22[porgn:__txid33208])+AND+%22eukaryotes%22[porgn:__txid2759]+NOT+%22ciliates%22[porgn:__txid5878]+NOT+%22dinoflagellates%22[porgn:__txid2864]+NOT+%22golden+algae%22[porgn:__txid2825]+NOT+%22apicomplexans%22[porgn:__txid5794]+NOT+%22pelagophytes%22[porgn:__txid35675]+NOT+%22brown+algae%22[porgn:__txid2870]+NOT+%22euglenoids%22[porgn:__txid3035]+NOT+%22red+algae%22[porgn:__txid2763]+NOT+%22trichomonads%22[porgn:__txid37104]+NOT+%22cryptomonads%22[porgn:__txid3027]+NOT+%22haptophytes%22[porgn:__txid2830]+NOT+%22diatoms%22[porgn:__txid2836]+NOT+%22microsporidians%22[porgn:__txid6029]+NOT+%22ascomycetes%22[porgn:__txid4890]+NOT+%22fungi%22[porgn:__txid4751]+NOT+%22green+algae%22[porgn:__txid3041]+NOT+%22vascular+plants%22[porgn:__txid58023]+NOT+%22land+plants%22[porgn:__txid3193]+NOT+%22green+plants%22[porgn:__txid33090])+AND+%22eukaryotes%22[porgn:__txid2759]+NOT+%22slime+nets%22[porgn:__txid35131]+NOT+%22yellow-green+algae%22[porgn:__txid2833]+NOT+%22cellular+slime+molds%22[porgn:__txid33083]+NOT+%22plasmodial+slime+molds%22[porgn:__txid33680]+NOT+%22cercozoans%22[porgn:__txid136419]+NOT+%22oomycetes%22[porgn:__txid4762]+NOT+%22forams%22[porgn:__txid29178]+NOT+%22kinetoplastids%22[porgn:__txid5653]+NOT+%22diplomonads%22[porgn:__txid5738])+AND+%22eukaryotes%22[porgn:__txid2759])+AND+%22uncultured+alga%22[porgn:__txid171248]'\n",
    "search = \"esearch.fcgi?db={}&term={}&retmax=100000\".format(db, search_term)"
   ]
  },
  {
   "cell_type": "code",
   "execution_count": 92,
   "id": "7afca7c7",
   "metadata": {},
   "outputs": [
    {
     "data": {
      "text/plain": [
       "69"
      ]
     },
     "execution_count": 92,
     "metadata": {},
     "output_type": "execute_result"
    }
   ],
   "source": [
    "esearch_response = requests.get(base_url.format(search))\n",
    "esearch_dict = xmltodict.parse(esearch_response.content)\n",
    "IdList = esearch_dict['eSearchResult']['IdList']['Id']\n",
    "len(IdList)"
   ]
  },
  {
   "cell_type": "code",
   "execution_count": 93,
   "id": "7510a6cb",
   "metadata": {},
   "outputs": [],
   "source": [
    "algae_nc_list = []\n",
    "\n",
    "def get_locus(taxon_id):\n",
    "    try:\n",
    "        search = \"efetch.fcgi?db={}&id={}&rettype=acc\".format(db, taxon_id)\n",
    "        locus_id = requests.get(base_url.format(search)).text\n",
    "        locus_id = locus_id.split('.')\n",
    "        locus_id = locus_id[0]\n",
    "        algae_nc_list.append(locus_id)\n",
    "        \n",
    "    except:\n",
    "        print (locus_id, \"NULL\")\n",
    "        pass"
   ]
  },
  {
   "cell_type": "code",
   "execution_count": 94,
   "id": "017f7779",
   "metadata": {},
   "outputs": [
    {
     "name": "stdout",
     "output_type": "stream",
     "text": [
      "CPU times: user 1.76 s, sys: 55.4 ms, total: 1.81 s\n",
      "Wall time: 38.2 s\n"
     ]
    }
   ],
   "source": [
    "%%time\n",
    "for taxon_id in IdList:\n",
    "    get_locus(taxon_id)"
   ]
  },
  {
   "cell_type": "code",
   "execution_count": 95,
   "id": "ca8ee429",
   "metadata": {},
   "outputs": [
    {
     "data": {
      "text/plain": [
       "69"
      ]
     },
     "execution_count": 95,
     "metadata": {},
     "output_type": "execute_result"
    }
   ],
   "source": [
    "len(algae_nc_list)"
   ]
  },
  {
   "cell_type": "code",
   "execution_count": 96,
   "id": "88843cb3",
   "metadata": {},
   "outputs": [],
   "source": [
    "def get_fasta(nuc_id):\n",
    "    try:\n",
    "        fasta = \"efetch.fcgi?db=nuccore&id={}.1&rettype=fasta\".format(nuc_id)\n",
    "        download_fasta = requests.get(base_url.format(fasta))\n",
    "        file = open(\"16S_Uncul-Algae/\" + \"{}.fasta\".format(nuc_id), \"w\")\n",
    "        file.write(download_fasta.text)\n",
    "        file.close()\n",
    "        time.sleep(1)\n",
    "    except:\n",
    "        print (nuc_id, \"Not Found\")\n",
    "        time.sleep(1)\n",
    "        pass"
   ]
  },
  {
   "cell_type": "code",
   "execution_count": 97,
   "id": "9c0ba471",
   "metadata": {},
   "outputs": [
    {
     "name": "stdout",
     "output_type": "stream",
     "text": [
      "CPU times: user 1.74 s, sys: 119 ms, total: 1.86 s\n",
      "Wall time: 1min 59s\n"
     ]
    }
   ],
   "source": [
    "%%time\n",
    "for locus_id in algae_nc_list:\n",
    "    get_fasta(locus_id)"
   ]
  },
  {
   "cell_type": "markdown",
   "id": "11025df9",
   "metadata": {},
   "source": [
    "# Get 16s 'uncultured marine phototrophic eukaryote' (51) from Nucleotide database of NCBI"
   ]
  },
  {
   "cell_type": "code",
   "execution_count": 42,
   "id": "1627fad9",
   "metadata": {},
   "outputs": [],
   "source": [
    "base_url = \"https://eutils.ncbi.nlm.nih.gov/entrez/eutils/{}\"\n",
    "db = \"nuccore\"\n",
    "search_term = '((((16s)+AND+%22eukaryotes%22[porgn:__txid2759]+NOT+%22animals%22[porgn:__txid33208])+AND+%22eukaryotes%22[porgn:__txid2759]+NOT+%22ciliates%22[porgn:__txid5878]+NOT+%22dinoflagellates%22[porgn:__txid2864]+NOT+%22golden+algae%22[porgn:__txid2825]+NOT+%22apicomplexans%22[porgn:__txid5794]+NOT+%22pelagophytes%22[porgn:__txid35675]+NOT+%22brown+algae%22[porgn:__txid2870]+NOT+%22euglenoids%22[porgn:__txid3035]+NOT+%22red+algae%22[porgn:__txid2763]+NOT+%22trichomonads%22[porgn:__txid37104]+NOT+%22cryptomonads%22[porgn:__txid3027]+NOT+%22haptophytes%22[porgn:__txid2830]+NOT+%22diatoms%22[porgn:__txid2836]+NOT+%22microsporidians%22[porgn:__txid6029]+NOT+%22ascomycetes%22[porgn:__txid4890]+NOT+%22fungi%22[porgn:__txid4751]+NOT+%22green+algae%22[porgn:__txid3041]+NOT+%22vascular+plants%22[porgn:__txid58023]+NOT+%22land+plants%22[porgn:__txid3193]+NOT+%22green+plants%22[porgn:__txid33090])+AND+%22eukaryotes%22[porgn:__txid2759]+NOT+%22slime+nets%22[porgn:__txid35131]+NOT+%22yellow-green+algae%22[porgn:__txid2833]+NOT+%22cellular+slime+molds%22[porgn:__txid33083]+NOT+%22plasmodial+slime+molds%22[porgn:__txid33680]+NOT+%22cercozoans%22[porgn:__txid136419]+NOT+%22oomycetes%22[porgn:__txid4762]+NOT+%22forams%22[porgn:__txid29178]+NOT+%22kinetoplastids%22[porgn:__txid5653]+NOT+%22diplomonads%22[porgn:__txid5738])+AND+%22uncultured+marine+phototrophic+eukaryote%22[porgn:__txid544549]'\n",
    "search = \"esearch.fcgi?db={}&term={}&retmax=100000\".format(db, search_term)"
   ]
  },
  {
   "cell_type": "code",
   "execution_count": 43,
   "id": "89672db7",
   "metadata": {},
   "outputs": [
    {
     "data": {
      "text/plain": [
       "51"
      ]
     },
     "execution_count": 43,
     "metadata": {},
     "output_type": "execute_result"
    }
   ],
   "source": [
    "esearch_response = requests.get(base_url.format(search))\n",
    "esearch_dict = xmltodict.parse(esearch_response.content)\n",
    "IdList = esearch_dict['eSearchResult']['IdList']['Id']\n",
    "len(IdList)"
   ]
  },
  {
   "cell_type": "code",
   "execution_count": 44,
   "id": "06df2bd5",
   "metadata": {},
   "outputs": [],
   "source": [
    "algae_nc_list = []\n",
    "\n",
    "def get_locus(taxon_id):\n",
    "    try:\n",
    "        search = \"efetch.fcgi?db={}&id={}&rettype=acc\".format(db, taxon_id)\n",
    "        locus_id = requests.get(base_url.format(search)).text\n",
    "        locus_id = locus_id.split('.')\n",
    "        locus_id = locus_id[0]\n",
    "        algae_nc_list.append(locus_id)\n",
    "        \n",
    "    except:\n",
    "        print (locus_id, \"NULL\")\n",
    "        pass"
   ]
  },
  {
   "cell_type": "code",
   "execution_count": 45,
   "id": "b0f0a818",
   "metadata": {},
   "outputs": [
    {
     "name": "stdout",
     "output_type": "stream",
     "text": [
      "CPU times: user 1.3 s, sys: 43.8 ms, total: 1.34 s\n",
      "Wall time: 1min 48s\n"
     ]
    }
   ],
   "source": [
    "%%time\n",
    "for taxon_id in IdList:\n",
    "    get_locus(taxon_id)"
   ]
  },
  {
   "cell_type": "code",
   "execution_count": 46,
   "id": "a08644fd",
   "metadata": {},
   "outputs": [
    {
     "data": {
      "text/plain": [
       "51"
      ]
     },
     "execution_count": 46,
     "metadata": {},
     "output_type": "execute_result"
    }
   ],
   "source": [
    "len(algae_nc_list)"
   ]
  },
  {
   "cell_type": "code",
   "execution_count": 47,
   "id": "5e66334f",
   "metadata": {},
   "outputs": [],
   "source": [
    "def get_fasta(nuc_id):\n",
    "    try:\n",
    "        fasta = \"efetch.fcgi?db=nuccore&id={}.1&rettype=fasta\".format(nuc_id)\n",
    "        download_fasta = requests.get(base_url.format(fasta))\n",
    "        file = open(\"16S_Uncul-Marine-Phototroph-Euk/\" + \"{}.fasta\".format(nuc_id), \"w\")\n",
    "        file.write(download_fasta.text)\n",
    "        file.close()\n",
    "        time.sleep(1)\n",
    "    except:\n",
    "        print (nuc_id, \"Not Found\")\n",
    "        time.sleep(1)\n",
    "        pass"
   ]
  },
  {
   "cell_type": "code",
   "execution_count": 48,
   "id": "7d1cc022",
   "metadata": {},
   "outputs": [
    {
     "name": "stdout",
     "output_type": "stream",
     "text": [
      "CPU times: user 1.31 s, sys: 62.8 ms, total: 1.37 s\n",
      "Wall time: 1min 59s\n"
     ]
    }
   ],
   "source": [
    "%%time\n",
    "for locus_id in algae_nc_list:\n",
    "    get_fasta(locus_id)"
   ]
  },
  {
   "cell_type": "markdown",
   "id": "f164f3ee",
   "metadata": {},
   "source": [
    "# Get 16s 'All Other Taxa' (865) from Nucleotide database of NCBI# "
   ]
  },
  {
   "cell_type": "code",
   "execution_count": 2,
   "id": "7bcb8631",
   "metadata": {},
   "outputs": [],
   "source": [
    "base_url = \"https://eutils.ncbi.nlm.nih.gov/entrez/eutils/{}\"\n",
    "db = \"nuccore\"\n",
    "search_term = '((((((16s)+AND+%22eukaryotes%22[porgn:__txid2759]+NOT+%22animals%22[porgn:__txid33208])+AND+%22eukaryotes%22[porgn:__txid2759]+NOT+%22ciliates%22[porgn:__txid5878]+NOT+%22dinoflagellates%22[porgn:__txid2864]+NOT+%22golden+algae%22[porgn:__txid2825]+NOT+%22apicomplexans%22[porgn:__txid5794]+NOT+%22pelagophytes%22[porgn:__txid35675]+NOT+%22brown+algae%22[porgn:__txid2870]+NOT+%22euglenoids%22[porgn:__txid3035]+NOT+%22red+algae%22[porgn:__txid2763]+NOT+%22trichomonads%22[porgn:__txid37104]+NOT+%22cryptomonads%22[porgn:__txid3027]+NOT+%22haptophytes%22[porgn:__txid2830]+NOT+%22diatoms%22[porgn:__txid2836]+NOT+%22microsporidians%22[porgn:__txid6029]+NOT+%22ascomycetes%22[porgn:__txid4890]+NOT+%22fungi%22[porgn:__txid4751]+NOT+%22green+algae%22[porgn:__txid3041]+NOT+%22vascular+plants%22[porgn:__txid58023]+NOT+%22land+plants%22[porgn:__txid3193]+NOT+%22green+plants%22[porgn:__txid33090])+AND+%22eukaryotes%22[porgn:__txid2759]+NOT+%22slime+nets%22[porgn:__txid35131]+NOT+%22yellow-green+algae%22[porgn:__txid2833]+NOT+%22cellular+slime+molds%22[porgn:__txid33083]+NOT+%22plasmodial+slime+molds%22[porgn:__txid33680]+NOT+%22cercozoans%22[porgn:__txid136419]+NOT+%22oomycetes%22[porgn:__txid4762]+NOT+%22forams%22[porgn:__txid29178]+NOT+%22kinetoplastids%22[porgn:__txid5653]+NOT+%22diplomonads%22[porgn:__txid5738])+AND+%22eukaryotes%22[porgn:__txid2759])+NOT+%22uncultured+eukaryotic+phytoplankton%22[porgn:__txid1737140]+NOT+%22uncultured+picoeukaryote%22[porgn:__txid1141622]+NOT+%22uncultured+marine+eukaryote%22[porgn:__txid203449]+NOT+%22uncultured+phototrophic+eukaryote%22[porgn:__txid172788]+NOT+%22uncultured+eukaryote%22[porgn:__txid100272])+NOT+%22uncultured+marine+phototrophic+eukaryote%22[porgn:__txid544549]+NOT+%22uncultured+marine+rappemonad%22[porgn:__txid884108]+NOT+%22uncultured+alga%22[porgn:__txid171248]+NOT+%22uncultured+protist%22[porgn:__txid1295078]+NOT+%22Nannochloropsis+oceanica%22[porgn:__txid145522]'\n",
    "search = \"esearch.fcgi?db={}&term={}&retmax=100000\".format(db, search_term)"
   ]
  },
  {
   "cell_type": "code",
   "execution_count": 3,
   "id": "274987c4",
   "metadata": {},
   "outputs": [
    {
     "data": {
      "text/plain": [
       "865"
      ]
     },
     "execution_count": 3,
     "metadata": {},
     "output_type": "execute_result"
    }
   ],
   "source": [
    "esearch_response = requests.get(base_url.format(search))\n",
    "esearch_dict = xmltodict.parse(esearch_response.content)\n",
    "IdList = esearch_dict['eSearchResult']['IdList']['Id']\n",
    "len(IdList)"
   ]
  },
  {
   "cell_type": "code",
   "execution_count": 4,
   "id": "5bc2cf28",
   "metadata": {},
   "outputs": [],
   "source": [
    "algae_nc_list = []\n",
    "\n",
    "def get_locus(taxon_id):\n",
    "    try:\n",
    "        search = \"efetch.fcgi?db={}&id={}&rettype=acc\".format(db, taxon_id)\n",
    "        locus_id = requests.get(base_url.format(search)).text\n",
    "        locus_id = locus_id.split('.')\n",
    "        locus_id = locus_id[0]\n",
    "        algae_nc_list.append(locus_id)\n",
    "        \n",
    "    except:\n",
    "        print (locus_id, \"NULL\")\n",
    "        pass"
   ]
  },
  {
   "cell_type": "code",
   "execution_count": 5,
   "id": "28456159",
   "metadata": {},
   "outputs": [
    {
     "name": "stdout",
     "output_type": "stream",
     "text": [
      "CPU times: user 22.2 s, sys: 953 ms, total: 23.1 s\n",
      "Wall time: 8min 30s\n"
     ]
    }
   ],
   "source": [
    "%%time\n",
    "for taxon_id in IdList:\n",
    "    get_locus(taxon_id)"
   ]
  },
  {
   "cell_type": "code",
   "execution_count": 6,
   "id": "2a0661ba",
   "metadata": {},
   "outputs": [
    {
     "data": {
      "text/plain": [
       "865"
      ]
     },
     "execution_count": 6,
     "metadata": {},
     "output_type": "execute_result"
    }
   ],
   "source": [
    "len(algae_nc_list)"
   ]
  },
  {
   "cell_type": "code",
   "execution_count": 7,
   "id": "cefd18db",
   "metadata": {},
   "outputs": [],
   "source": [
    "def get_fasta(nuc_id):\n",
    "    try:\n",
    "        fasta = \"efetch.fcgi?db=nuccore&id={}.1&rettype=fasta\".format(nuc_id)\n",
    "        download_fasta = requests.get(base_url.format(fasta))\n",
    "        file = open(\"16S_marker_NCBI/16S_All-other-taxa_865/\" + \"{}.fasta\".format(nuc_id), \"w\")\n",
    "        file.write(download_fasta.text)\n",
    "        file.close()\n",
    "        time.sleep(1)\n",
    "    except:\n",
    "        print (nuc_id, \"Not Found\")\n",
    "        time.sleep(1)\n",
    "        pass"
   ]
  },
  {
   "cell_type": "code",
   "execution_count": 8,
   "id": "93361bd9",
   "metadata": {},
   "outputs": [
    {
     "name": "stdout",
     "output_type": "stream",
     "text": [
      "CPU times: user 24.1 s, sys: 1.5 s, total: 25.6 s\n",
      "Wall time: 26min 6s\n"
     ]
    }
   ],
   "source": [
    "%%time\n",
    "for locus_id in algae_nc_list:\n",
    "    get_fasta(locus_id)"
   ]
  }
 ],
 "metadata": {
  "kernelspec": {
   "display_name": "Python 3 (ipykernel)",
   "language": "python",
   "name": "python3"
  },
  "language_info": {
   "codemirror_mode": {
    "name": "ipython",
    "version": 3
   },
   "file_extension": ".py",
   "mimetype": "text/x-python",
   "name": "python",
   "nbconvert_exporter": "python",
   "pygments_lexer": "ipython3",
   "version": "3.8.10"
  }
 },
 "nbformat": 4,
 "nbformat_minor": 5
}
