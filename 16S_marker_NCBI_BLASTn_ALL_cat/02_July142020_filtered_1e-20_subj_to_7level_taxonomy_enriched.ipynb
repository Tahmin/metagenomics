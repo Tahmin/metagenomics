{
 "cells": [
  {
   "cell_type": "code",
   "execution_count": 60,
   "id": "a997ba10",
   "metadata": {},
   "outputs": [],
   "source": [
    "# Show plots as part of the notebook (this is a Jupyter-specific operation)\n",
    "%matplotlib inline\n",
    "import time\n",
    "import matplotlib.pyplot as plt\n",
    "import requests\n",
    "import xmltodict\n",
    "# Standard library packages\n",
    "import os\n",
    "\n",
    "# Import Pandas and Seaborn\n",
    "import pandas as pd\n",
    "import seaborn as sns\n",
    "import numpy as np\n",
    "\n",
    "# Import Biopython tools for running local BLASTX\n",
    "from Bio.Blast.Applications import NcbiblastxCommandline\n",
    "from Bio.Blast.Applications import NcbiblastnCommandline\n",
    "\n",
    "#For execution time tracking\n",
    "from datetime import datetime\n",
    "from pytz import timezone"
   ]
  },
  {
   "cell_type": "code",
   "execution_count": 2,
   "id": "65996faa",
   "metadata": {},
   "outputs": [
    {
     "name": "stdout",
     "output_type": "stream",
     "text": [
      "11:18:40 AM\n"
     ]
    }
   ],
   "source": [
    "now_time = datetime.now(timezone('America/Chicago'))\n",
    "print(now_time.strftime('%I:%M:%S %p'))"
   ]
  },
  {
   "cell_type": "code",
   "execution_count": 48,
   "id": "5a358627",
   "metadata": {},
   "outputs": [
    {
     "name": "stdout",
     "output_type": "stream",
     "text": [
      "CPU times: user 16.9 s, sys: 2.97 s, total: 19.8 s\n",
      "Wall time: 19.8 s\n"
     ]
    }
   ],
   "source": [
    "%%time\n",
    "df = pd.read_csv('01_db_blastn_July142020_filtered_1e-20_subj.csv')"
   ]
  },
  {
   "cell_type": "code",
   "execution_count": 49,
   "id": "ef4084bd",
   "metadata": {},
   "outputs": [
    {
     "data": {
      "text/plain": [
       "10033"
      ]
     },
     "execution_count": 49,
     "metadata": {},
     "output_type": "execute_result"
    }
   ],
   "source": [
    "df['subject'].nunique()"
   ]
  },
  {
   "cell_type": "code",
   "execution_count": 50,
   "id": "e013ff5f",
   "metadata": {},
   "outputs": [
    {
     "data": {
      "text/plain": [
       "JAGRRH010000013.1    74211\n",
       "LR877147.1           44319\n",
       "LR877155.1           36624\n",
       "KM198929.1           32369\n",
       "NC_038215.1          32052\n",
       "                     ...  \n",
       "DQ911828.1               1\n",
       "DQ911807.1               1\n",
       "FM992003.1               1\n",
       "LN735273.1               1\n",
       "AY544249.1               1\n",
       "Name: subject, Length: 10033, dtype: int64"
      ]
     },
     "execution_count": 50,
     "metadata": {},
     "output_type": "execute_result"
    }
   ],
   "source": [
    "df = df['subject'].value_counts()\n",
    "df = pd.Series(df)\n",
    "df"
   ]
  },
  {
   "cell_type": "code",
   "execution_count": 51,
   "id": "5139da65",
   "metadata": {},
   "outputs": [],
   "source": [
    "df.to_csv('01_1_db_blastn_July142020_filtered_1e-20_subj_to_7level_taxonomy.csv')"
   ]
  },
  {
   "cell_type": "code",
   "execution_count": 52,
   "id": "cca8bd99",
   "metadata": {},
   "outputs": [],
   "source": [
    "df = pd.read_csv('01_1_db_blastn_July142020_filtered_1e-20_subj_to_7level_taxonomy.csv')"
   ]
  },
  {
   "cell_type": "code",
   "execution_count": 53,
   "id": "52776f0b",
   "metadata": {},
   "outputs": [
    {
     "data": {
      "text/html": [
       "<div>\n",
       "<style scoped>\n",
       "    .dataframe tbody tr th:only-of-type {\n",
       "        vertical-align: middle;\n",
       "    }\n",
       "\n",
       "    .dataframe tbody tr th {\n",
       "        vertical-align: top;\n",
       "    }\n",
       "\n",
       "    .dataframe thead th {\n",
       "        text-align: right;\n",
       "    }\n",
       "</style>\n",
       "<table border=\"1\" class=\"dataframe\">\n",
       "  <thead>\n",
       "    <tr style=\"text-align: right;\">\n",
       "      <th></th>\n",
       "      <th>Unnamed: 0</th>\n",
       "      <th>subject</th>\n",
       "    </tr>\n",
       "  </thead>\n",
       "  <tbody>\n",
       "    <tr>\n",
       "      <th>0</th>\n",
       "      <td>JAGRRH010000013.1</td>\n",
       "      <td>74211</td>\n",
       "    </tr>\n",
       "    <tr>\n",
       "      <th>1</th>\n",
       "      <td>LR877147.1</td>\n",
       "      <td>44319</td>\n",
       "    </tr>\n",
       "    <tr>\n",
       "      <th>2</th>\n",
       "      <td>LR877155.1</td>\n",
       "      <td>36624</td>\n",
       "    </tr>\n",
       "    <tr>\n",
       "      <th>3</th>\n",
       "      <td>KM198929.1</td>\n",
       "      <td>32369</td>\n",
       "    </tr>\n",
       "    <tr>\n",
       "      <th>4</th>\n",
       "      <td>NC_038215.1</td>\n",
       "      <td>32052</td>\n",
       "    </tr>\n",
       "  </tbody>\n",
       "</table>\n",
       "</div>"
      ],
      "text/plain": [
       "          Unnamed: 0  subject\n",
       "0  JAGRRH010000013.1    74211\n",
       "1         LR877147.1    44319\n",
       "2         LR877155.1    36624\n",
       "3         KM198929.1    32369\n",
       "4        NC_038215.1    32052"
      ]
     },
     "execution_count": 53,
     "metadata": {},
     "output_type": "execute_result"
    }
   ],
   "source": [
    "df.head()"
   ]
  },
  {
   "cell_type": "code",
   "execution_count": 54,
   "id": "00037ba9",
   "metadata": {},
   "outputs": [],
   "source": [
    "df.columns.values[0] = \"subject\"\n",
    "df.columns.values[1] = \"count\""
   ]
  },
  {
   "cell_type": "code",
   "execution_count": 56,
   "id": "216eeea8",
   "metadata": {},
   "outputs": [],
   "source": [
    "df.to_csv('01_1_db_blastn_July142020_filtered_1e-20_subj_to_7level_taxonomy.csv', index= False)"
   ]
  },
  {
   "cell_type": "code",
   "execution_count": 57,
   "id": "e7d0d3bb",
   "metadata": {},
   "outputs": [],
   "source": [
    "df = pd.read_csv('01_1_db_blastn_July142020_filtered_1e-20_subj_to_7level_taxonomy.csv')"
   ]
  },
  {
   "cell_type": "code",
   "execution_count": 58,
   "id": "19835e1a",
   "metadata": {},
   "outputs": [
    {
     "data": {
      "text/html": [
       "<div>\n",
       "<style scoped>\n",
       "    .dataframe tbody tr th:only-of-type {\n",
       "        vertical-align: middle;\n",
       "    }\n",
       "\n",
       "    .dataframe tbody tr th {\n",
       "        vertical-align: top;\n",
       "    }\n",
       "\n",
       "    .dataframe thead th {\n",
       "        text-align: right;\n",
       "    }\n",
       "</style>\n",
       "<table border=\"1\" class=\"dataframe\">\n",
       "  <thead>\n",
       "    <tr style=\"text-align: right;\">\n",
       "      <th></th>\n",
       "      <th>subject</th>\n",
       "      <th>count</th>\n",
       "    </tr>\n",
       "  </thead>\n",
       "  <tbody>\n",
       "    <tr>\n",
       "      <th>0</th>\n",
       "      <td>JAGRRH010000013.1</td>\n",
       "      <td>74211</td>\n",
       "    </tr>\n",
       "    <tr>\n",
       "      <th>1</th>\n",
       "      <td>LR877147.1</td>\n",
       "      <td>44319</td>\n",
       "    </tr>\n",
       "    <tr>\n",
       "      <th>2</th>\n",
       "      <td>LR877155.1</td>\n",
       "      <td>36624</td>\n",
       "    </tr>\n",
       "    <tr>\n",
       "      <th>3</th>\n",
       "      <td>KM198929.1</td>\n",
       "      <td>32369</td>\n",
       "    </tr>\n",
       "    <tr>\n",
       "      <th>4</th>\n",
       "      <td>NC_038215.1</td>\n",
       "      <td>32052</td>\n",
       "    </tr>\n",
       "  </tbody>\n",
       "</table>\n",
       "</div>"
      ],
      "text/plain": [
       "             subject  count\n",
       "0  JAGRRH010000013.1  74211\n",
       "1         LR877147.1  44319\n",
       "2         LR877155.1  36624\n",
       "3         KM198929.1  32369\n",
       "4        NC_038215.1  32052"
      ]
     },
     "execution_count": 58,
     "metadata": {},
     "output_type": "execute_result"
    }
   ],
   "source": [
    "df.head()"
   ]
  },
  {
   "cell_type": "markdown",
   "id": "1e29ce8c",
   "metadata": {},
   "source": [
    "## Retrieving (efetch) taxonomy heirarchy from NCBI"
   ]
  },
  {
   "cell_type": "code",
   "execution_count": 59,
   "id": "c51a51cb",
   "metadata": {},
   "outputs": [],
   "source": [
    "base_url = \"https://eutils.ncbi.nlm.nih.gov/entrez/eutils/{}\"\n",
    "db = \"nuccore\""
   ]
  },
  {
   "cell_type": "code",
   "execution_count": 60,
   "id": "36151285",
   "metadata": {},
   "outputs": [],
   "source": [
    "def get_taxon_name(tax_id):\n",
    "    try:\n",
    "        efetch = \"efetch.fcgi?db={}&id={}&rettype=json\".format(db, tax_id)\n",
    "        efetch_response = requests.get(base_url.format(efetch))\n",
    "        efetch_dict = xmltodict.parse(efetch_response.content)\n",
    "        Definition = efetch_dict['GBSet']['GBSeq']['GBSeq_definition']\n",
    "        Definition = Definition.split(',')\n",
    "        Definition = Definition[0]\n",
    "        time.sleep(0.5)\n",
    "    except:\n",
    "        Definition = tax_id\n",
    "        pass\n",
    " \n",
    "    return Definition"
   ]
  },
  {
   "cell_type": "code",
   "execution_count": 61,
   "id": "5d7f64e7",
   "metadata": {},
   "outputs": [
    {
     "data": {
      "text/plain": [
       "'Phaeocystis antarctica plastid'"
      ]
     },
     "execution_count": 61,
     "metadata": {},
     "output_type": "execute_result"
    }
   ],
   "source": [
    "get_taxon_name ('NC_016703.1')"
   ]
  },
  {
   "cell_type": "code",
   "execution_count": 62,
   "id": "3c440c0f",
   "metadata": {},
   "outputs": [],
   "source": [
    "def get_7level_taxonomy(tax_id):\n",
    "    try:   \n",
    "        efetch = \"efetch.fcgi?db={}&id={}&rettype=json\".format(db, tax_id)\n",
    "        efetch_response = requests.get(base_url.format(efetch))\n",
    "        efetch_dict = xmltodict.parse(efetch_response.content)\n",
    "        GBSeq_taxonomy = efetch_dict['GBSet']['GBSeq']['GBSeq_taxonomy']\n",
    "#        GBSeq_taxonomy_class = GBSeq_taxonomy.split(\"; \")\n",
    "#        GBSeq_taxonomy_class = GBSeq_taxonomy_class[2]\n",
    "        time.sleep(0.5)\n",
    "    except:\n",
    "        GBSeq_taxonomy = tax_id\n",
    "        pass\n",
    "    \n",
    "    return GBSeq_taxonomy"
   ]
  },
  {
   "cell_type": "code",
   "execution_count": 63,
   "id": "2ea797ce",
   "metadata": {},
   "outputs": [
    {
     "data": {
      "text/plain": [
       "'Eukaryota; Haptophyceae; Phaeocystales; Phaeocystaceae; Phaeocystis'"
      ]
     },
     "execution_count": 63,
     "metadata": {},
     "output_type": "execute_result"
    }
   ],
   "source": [
    "get_7level_taxonomy ('NC_016703.1')"
   ]
  },
  {
   "cell_type": "code",
   "execution_count": 64,
   "id": "d729204c",
   "metadata": {},
   "outputs": [
    {
     "data": {
      "text/html": [
       "<div>\n",
       "<style scoped>\n",
       "    .dataframe tbody tr th:only-of-type {\n",
       "        vertical-align: middle;\n",
       "    }\n",
       "\n",
       "    .dataframe tbody tr th {\n",
       "        vertical-align: top;\n",
       "    }\n",
       "\n",
       "    .dataframe thead th {\n",
       "        text-align: right;\n",
       "    }\n",
       "</style>\n",
       "<table border=\"1\" class=\"dataframe\">\n",
       "  <thead>\n",
       "    <tr style=\"text-align: right;\">\n",
       "      <th></th>\n",
       "      <th>subject</th>\n",
       "      <th>count</th>\n",
       "    </tr>\n",
       "  </thead>\n",
       "  <tbody>\n",
       "    <tr>\n",
       "      <th>0</th>\n",
       "      <td>JAGRRH010000013.1</td>\n",
       "      <td>74211</td>\n",
       "    </tr>\n",
       "    <tr>\n",
       "      <th>1</th>\n",
       "      <td>LR877147.1</td>\n",
       "      <td>44319</td>\n",
       "    </tr>\n",
       "    <tr>\n",
       "      <th>2</th>\n",
       "      <td>LR877155.1</td>\n",
       "      <td>36624</td>\n",
       "    </tr>\n",
       "    <tr>\n",
       "      <th>3</th>\n",
       "      <td>KM198929.1</td>\n",
       "      <td>32369</td>\n",
       "    </tr>\n",
       "    <tr>\n",
       "      <th>4</th>\n",
       "      <td>NC_038215.1</td>\n",
       "      <td>32052</td>\n",
       "    </tr>\n",
       "  </tbody>\n",
       "</table>\n",
       "</div>"
      ],
      "text/plain": [
       "             subject  count\n",
       "0  JAGRRH010000013.1  74211\n",
       "1         LR877147.1  44319\n",
       "2         LR877155.1  36624\n",
       "3         KM198929.1  32369\n",
       "4        NC_038215.1  32052"
      ]
     },
     "execution_count": 64,
     "metadata": {},
     "output_type": "execute_result"
    }
   ],
   "source": [
    "df.head()"
   ]
  },
  {
   "cell_type": "code",
   "execution_count": 65,
   "id": "00ff1eaa",
   "metadata": {},
   "outputs": [
    {
     "data": {
      "text/plain": [
       "0        JAGRRH010000013.1\n",
       "1               LR877147.1\n",
       "2               LR877155.1\n",
       "3               KM198929.1\n",
       "4              NC_038215.1\n",
       "               ...        \n",
       "10028           DQ911828.1\n",
       "10029           DQ911807.1\n",
       "10030           FM992003.1\n",
       "10031           LN735273.1\n",
       "10032           AY544249.1\n",
       "Name: subject, Length: 10033, dtype: object"
      ]
     },
     "execution_count": 65,
     "metadata": {},
     "output_type": "execute_result"
    }
   ],
   "source": [
    "df['subject']"
   ]
  },
  {
   "cell_type": "code",
   "execution_count": 66,
   "id": "e58237ae",
   "metadata": {},
   "outputs": [
    {
     "name": "stdout",
     "output_type": "stream",
     "text": [
      "CPU times: user 10 µs, sys: 2 µs, total: 12 µs\n",
      "Wall time: 23.1 µs\n"
     ]
    }
   ],
   "source": [
    "%%time\n",
    "def enrich_dataset(df):\n",
    "    taxon_value = df['subject']\n",
    "    Seven_Level_Taxonomy = get_7level_taxonomy(taxon_value)\n",
    "    df['7Level_Taxonomy'] = Seven_Level_Taxonomy\n",
    "    return df"
   ]
  },
  {
   "cell_type": "code",
   "execution_count": 67,
   "id": "065749d6",
   "metadata": {},
   "outputs": [
    {
     "name": "stdout",
     "output_type": "stream",
     "text": [
      "CPU times: user 7min 32s, sys: 32 s, total: 8min 4s\n",
      "Wall time: 4h 7min 12s\n"
     ]
    }
   ],
   "source": [
    "%%time\n",
    "df = df.apply(enrich_dataset, axis=1)"
   ]
  },
  {
   "cell_type": "code",
   "execution_count": 68,
   "id": "7972492d",
   "metadata": {},
   "outputs": [],
   "source": [
    "df.to_csv('04_db_blastn_July142020_filtered_1e-20_subj_to_7level_taxonomy_enriched.csv', index= False)"
   ]
  },
  {
   "cell_type": "markdown",
   "id": "a4187486",
   "metadata": {},
   "source": [
    "# Process Taxonomic Levels, Extract Information"
   ]
  },
  {
   "cell_type": "code",
   "execution_count": 201,
   "id": "953ee9cd",
   "metadata": {},
   "outputs": [],
   "source": [
    "df = pd.read_csv('04_db_blastn_July142020_filtered_1e-20_subj_to_7level_taxonomy_enriched.csv')"
   ]
  },
  {
   "cell_type": "code",
   "execution_count": 202,
   "id": "bc37e52a",
   "metadata": {},
   "outputs": [
    {
     "data": {
      "text/plain": [
       "965"
      ]
     },
     "execution_count": 202,
     "metadata": {},
     "output_type": "execute_result"
    }
   ],
   "source": [
    "df['7Level_Taxonomy'].nunique()"
   ]
  },
  {
   "cell_type": "code",
   "execution_count": 203,
   "id": "0ffb5023",
   "metadata": {},
   "outputs": [
    {
     "data": {
      "text/html": [
       "<div>\n",
       "<style scoped>\n",
       "    .dataframe tbody tr th:only-of-type {\n",
       "        vertical-align: middle;\n",
       "    }\n",
       "\n",
       "    .dataframe tbody tr th {\n",
       "        vertical-align: top;\n",
       "    }\n",
       "\n",
       "    .dataframe thead th {\n",
       "        text-align: right;\n",
       "    }\n",
       "</style>\n",
       "<table border=\"1\" class=\"dataframe\">\n",
       "  <thead>\n",
       "    <tr style=\"text-align: right;\">\n",
       "      <th></th>\n",
       "      <th>subject</th>\n",
       "      <th>count</th>\n",
       "      <th>7Level_Taxonomy</th>\n",
       "    </tr>\n",
       "  </thead>\n",
       "  <tbody>\n",
       "    <tr>\n",
       "      <th>0</th>\n",
       "      <td>JAGRRH010000013.1</td>\n",
       "      <td>74211</td>\n",
       "      <td>Eukaryota; Sar; Stramenopiles; Ochrophyta; Bac...</td>\n",
       "    </tr>\n",
       "    <tr>\n",
       "      <th>1</th>\n",
       "      <td>LR877147.1</td>\n",
       "      <td>44319</td>\n",
       "      <td>Eukaryota; Discoba; Euglenozoa; Kinetoplastea;...</td>\n",
       "    </tr>\n",
       "    <tr>\n",
       "      <th>2</th>\n",
       "      <td>LR877155.1</td>\n",
       "      <td>36624</td>\n",
       "      <td>Eukaryota; Discoba; Euglenozoa; Kinetoplastea;...</td>\n",
       "    </tr>\n",
       "    <tr>\n",
       "      <th>3</th>\n",
       "      <td>KM198929.1</td>\n",
       "      <td>32369</td>\n",
       "      <td>Eukaryota; Glaucocystophyceae; Cyanophoraceae;...</td>\n",
       "    </tr>\n",
       "    <tr>\n",
       "      <th>4</th>\n",
       "      <td>NC_038215.1</td>\n",
       "      <td>32052</td>\n",
       "      <td>Eukaryota; Glaucocystophyceae; Cyanophoraceae;...</td>\n",
       "    </tr>\n",
       "  </tbody>\n",
       "</table>\n",
       "</div>"
      ],
      "text/plain": [
       "             subject  count                                    7Level_Taxonomy\n",
       "0  JAGRRH010000013.1  74211  Eukaryota; Sar; Stramenopiles; Ochrophyta; Bac...\n",
       "1         LR877147.1  44319  Eukaryota; Discoba; Euglenozoa; Kinetoplastea;...\n",
       "2         LR877155.1  36624  Eukaryota; Discoba; Euglenozoa; Kinetoplastea;...\n",
       "3         KM198929.1  32369  Eukaryota; Glaucocystophyceae; Cyanophoraceae;...\n",
       "4        NC_038215.1  32052  Eukaryota; Glaucocystophyceae; Cyanophoraceae;..."
      ]
     },
     "execution_count": 203,
     "metadata": {},
     "output_type": "execute_result"
    }
   ],
   "source": [
    "df.head(5)"
   ]
  },
  {
   "cell_type": "code",
   "execution_count": 204,
   "id": "856fe5cf",
   "metadata": {},
   "outputs": [],
   "source": [
    "def taxlevel (tax):\n",
    "    tax = tax.split(\"; \")\n",
    "    tax_len = len(tax)\n",
    "    \n",
    "    return tax_len"
   ]
  },
  {
   "cell_type": "code",
   "execution_count": 205,
   "id": "b16e21cb",
   "metadata": {},
   "outputs": [],
   "source": [
    "def enrich_dataset(df):\n",
    "    taxon_level = df['7Level_Taxonomy']\n",
    "    Seven_Level_Taxonomy = taxlevel(taxon_level)\n",
    "    df['7Level_Lenght'] = Seven_Level_Taxonomy\n",
    "    return df"
   ]
  },
  {
   "cell_type": "code",
   "execution_count": 206,
   "id": "ed974e34",
   "metadata": {},
   "outputs": [
    {
     "name": "stdout",
     "output_type": "stream",
     "text": [
      "CPU times: user 5.98 s, sys: 65.4 ms, total: 6.05 s\n",
      "Wall time: 6.05 s\n"
     ]
    }
   ],
   "source": [
    "%%time\n",
    "df = df.apply(enrich_dataset, axis=1)"
   ]
  },
  {
   "cell_type": "code",
   "execution_count": 213,
   "id": "d2e46407",
   "metadata": {},
   "outputs": [
    {
     "data": {
      "text/html": [
       "<div>\n",
       "<style scoped>\n",
       "    .dataframe tbody tr th:only-of-type {\n",
       "        vertical-align: middle;\n",
       "    }\n",
       "\n",
       "    .dataframe tbody tr th {\n",
       "        vertical-align: top;\n",
       "    }\n",
       "\n",
       "    .dataframe thead th {\n",
       "        text-align: right;\n",
       "    }\n",
       "</style>\n",
       "<table border=\"1\" class=\"dataframe\">\n",
       "  <thead>\n",
       "    <tr style=\"text-align: right;\">\n",
       "      <th></th>\n",
       "      <th>subject</th>\n",
       "      <th>count</th>\n",
       "      <th>7Level_Taxonomy</th>\n",
       "      <th>7Level_Lenght</th>\n",
       "    </tr>\n",
       "  </thead>\n",
       "  <tbody>\n",
       "    <tr>\n",
       "      <th>0</th>\n",
       "      <td>JAGRRH010000013.1</td>\n",
       "      <td>74211</td>\n",
       "      <td>Eukaryota; Sar; Stramenopiles; Ochrophyta; Bac...</td>\n",
       "      <td>10</td>\n",
       "    </tr>\n",
       "    <tr>\n",
       "      <th>1</th>\n",
       "      <td>LR877147.1</td>\n",
       "      <td>44319</td>\n",
       "      <td>Eukaryota; Discoba; Euglenozoa; Kinetoplastea;...</td>\n",
       "      <td>9</td>\n",
       "    </tr>\n",
       "    <tr>\n",
       "      <th>2</th>\n",
       "      <td>LR877155.1</td>\n",
       "      <td>36624</td>\n",
       "      <td>Eukaryota; Discoba; Euglenozoa; Kinetoplastea;...</td>\n",
       "      <td>9</td>\n",
       "    </tr>\n",
       "    <tr>\n",
       "      <th>3</th>\n",
       "      <td>KM198929.1</td>\n",
       "      <td>32369</td>\n",
       "      <td>Eukaryota; Glaucocystophyceae; Cyanophoraceae;...</td>\n",
       "      <td>4</td>\n",
       "    </tr>\n",
       "    <tr>\n",
       "      <th>4</th>\n",
       "      <td>NC_038215.1</td>\n",
       "      <td>32052</td>\n",
       "      <td>Eukaryota; Glaucocystophyceae; Cyanophoraceae;...</td>\n",
       "      <td>4</td>\n",
       "    </tr>\n",
       "  </tbody>\n",
       "</table>\n",
       "</div>"
      ],
      "text/plain": [
       "             subject  count  \\\n",
       "0  JAGRRH010000013.1  74211   \n",
       "1         LR877147.1  44319   \n",
       "2         LR877155.1  36624   \n",
       "3         KM198929.1  32369   \n",
       "4        NC_038215.1  32052   \n",
       "\n",
       "                                     7Level_Taxonomy  7Level_Lenght  \n",
       "0  Eukaryota; Sar; Stramenopiles; Ochrophyta; Bac...             10  \n",
       "1  Eukaryota; Discoba; Euglenozoa; Kinetoplastea;...              9  \n",
       "2  Eukaryota; Discoba; Euglenozoa; Kinetoplastea;...              9  \n",
       "3  Eukaryota; Glaucocystophyceae; Cyanophoraceae;...              4  \n",
       "4  Eukaryota; Glaucocystophyceae; Cyanophoraceae;...              4  "
      ]
     },
     "execution_count": 213,
     "metadata": {},
     "output_type": "execute_result"
    }
   ],
   "source": [
    "df.head()"
   ]
  },
  {
   "cell_type": "code",
   "execution_count": 211,
   "id": "3d86033d",
   "metadata": {},
   "outputs": [
    {
     "data": {
      "text/plain": [
       "2     2299\n",
       "6     2152\n",
       "9     1179\n",
       "8      979\n",
       "4      951\n",
       "7      810\n",
       "10     524\n",
       "5      429\n",
       "3      348\n",
       "11     262\n",
       "1      100\n",
       "Name: 7Level_Lenght, dtype: int64"
      ]
     },
     "execution_count": 211,
     "metadata": {},
     "output_type": "execute_result"
    }
   ],
   "source": [
    "df['7Level_Lenght'].value_counts()"
   ]
  },
  {
   "cell_type": "code",
   "execution_count": 233,
   "id": "f27079ae",
   "metadata": {},
   "outputs": [
    {
     "data": {
      "text/plain": [
       "(10033, 5)"
      ]
     },
     "execution_count": 233,
     "metadata": {},
     "output_type": "execute_result"
    }
   ],
   "source": [
    "df.shape"
   ]
  },
  {
   "cell_type": "code",
   "execution_count": 220,
   "id": "4dedfc76",
   "metadata": {},
   "outputs": [],
   "source": [
    "df[\"Levels\"] = df[\"7Level_Lenght\"].replace({11: \"11_Levels\",\n",
    "                                           10: \"10_Levels\",\n",
    "                                           9: \"9_Levels\",\n",
    "                                           8: \"8_Levels\",\n",
    "                                           7: \"7_Levels\",\n",
    "                                           6: \"6_Levels\",\n",
    "                                           5: \"5_Levels\",\n",
    "                                           4: \"4_Levels\",\n",
    "                                           3: \"3_Levels\",\n",
    "                                           2: \"2_Levels\",\n",
    "                                           1: \"1_Level\",\n",
    "                                           })"
   ]
  },
  {
   "cell_type": "code",
   "execution_count": 221,
   "id": "91c03b4d",
   "metadata": {},
   "outputs": [
    {
     "data": {
      "text/html": [
       "<div>\n",
       "<style scoped>\n",
       "    .dataframe tbody tr th:only-of-type {\n",
       "        vertical-align: middle;\n",
       "    }\n",
       "\n",
       "    .dataframe tbody tr th {\n",
       "        vertical-align: top;\n",
       "    }\n",
       "\n",
       "    .dataframe thead th {\n",
       "        text-align: right;\n",
       "    }\n",
       "</style>\n",
       "<table border=\"1\" class=\"dataframe\">\n",
       "  <thead>\n",
       "    <tr style=\"text-align: right;\">\n",
       "      <th></th>\n",
       "      <th>subject</th>\n",
       "      <th>count</th>\n",
       "      <th>7Level_Taxonomy</th>\n",
       "      <th>7Level_Lenght</th>\n",
       "      <th>Levels</th>\n",
       "    </tr>\n",
       "  </thead>\n",
       "  <tbody>\n",
       "    <tr>\n",
       "      <th>0</th>\n",
       "      <td>JAGRRH010000013.1</td>\n",
       "      <td>74211</td>\n",
       "      <td>Eukaryota; Sar; Stramenopiles; Ochrophyta; Bac...</td>\n",
       "      <td>10</td>\n",
       "      <td>10_Levels</td>\n",
       "    </tr>\n",
       "    <tr>\n",
       "      <th>1</th>\n",
       "      <td>LR877147.1</td>\n",
       "      <td>44319</td>\n",
       "      <td>Eukaryota; Discoba; Euglenozoa; Kinetoplastea;...</td>\n",
       "      <td>9</td>\n",
       "      <td>9_Levels</td>\n",
       "    </tr>\n",
       "    <tr>\n",
       "      <th>2</th>\n",
       "      <td>LR877155.1</td>\n",
       "      <td>36624</td>\n",
       "      <td>Eukaryota; Discoba; Euglenozoa; Kinetoplastea;...</td>\n",
       "      <td>9</td>\n",
       "      <td>9_Levels</td>\n",
       "    </tr>\n",
       "    <tr>\n",
       "      <th>3</th>\n",
       "      <td>KM198929.1</td>\n",
       "      <td>32369</td>\n",
       "      <td>Eukaryota; Glaucocystophyceae; Cyanophoraceae;...</td>\n",
       "      <td>4</td>\n",
       "      <td>4_Levels</td>\n",
       "    </tr>\n",
       "    <tr>\n",
       "      <th>4</th>\n",
       "      <td>NC_038215.1</td>\n",
       "      <td>32052</td>\n",
       "      <td>Eukaryota; Glaucocystophyceae; Cyanophoraceae;...</td>\n",
       "      <td>4</td>\n",
       "      <td>4_Levels</td>\n",
       "    </tr>\n",
       "  </tbody>\n",
       "</table>\n",
       "</div>"
      ],
      "text/plain": [
       "             subject  count  \\\n",
       "0  JAGRRH010000013.1  74211   \n",
       "1         LR877147.1  44319   \n",
       "2         LR877155.1  36624   \n",
       "3         KM198929.1  32369   \n",
       "4        NC_038215.1  32052   \n",
       "\n",
       "                                     7Level_Taxonomy  7Level_Lenght     Levels  \n",
       "0  Eukaryota; Sar; Stramenopiles; Ochrophyta; Bac...             10  10_Levels  \n",
       "1  Eukaryota; Discoba; Euglenozoa; Kinetoplastea;...              9   9_Levels  \n",
       "2  Eukaryota; Discoba; Euglenozoa; Kinetoplastea;...              9   9_Levels  \n",
       "3  Eukaryota; Glaucocystophyceae; Cyanophoraceae;...              4   4_Levels  \n",
       "4  Eukaryota; Glaucocystophyceae; Cyanophoraceae;...              4   4_Levels  "
      ]
     },
     "execution_count": 221,
     "metadata": {},
     "output_type": "execute_result"
    }
   ],
   "source": [
    "df.head()"
   ]
  },
  {
   "cell_type": "code",
   "execution_count": 253,
   "id": "7cf634d7",
   "metadata": {},
   "outputs": [
    {
     "data": {
      "text/plain": [
       "<AxesSubplot:>"
      ]
     },
     "execution_count": 253,
     "metadata": {},
     "output_type": "execute_result"
    },
    {
     "data": {
      "image/png": "[encoded data removed]",
      "text/plain": [
       "<Figure size 2160x576 with 1 Axes>"
      ]
     },
     "metadata": {},
     "output_type": "display_data"
    }
   ],
   "source": [
    "plt.rcParams[\"figure.figsize\"] = (30,8)\n",
    "colors = sns.color_palette('pastel')[0:11]\n",
    "df['Levels'].value_counts().plot.pie(labeldistance=1.15, \n",
    "                                     wedgeprops = { 'linewidth' : 3, 'edgecolor' : 'white' }, \n",
    "                                     colors=colors,\n",
    "                                     ylabel='')"
   ]
  },
  {
   "cell_type": "code",
   "execution_count": 267,
   "id": "50106107",
   "metadata": {},
   "outputs": [
    {
     "data": {
      "text/plain": [
       "<AxesSubplot:>"
      ]
     },
     "execution_count": 267,
     "metadata": {},
     "output_type": "execute_result"
    },
    {
     "data": {
      "image/png": "[encoded data removed]",
      "text/plain": [
       "<Figure size 2160x576 with 1 Axes>"
      ]
     },
     "metadata": {},
     "output_type": "display_data"
    }
   ],
   "source": [
    "plt.rcParams[\"figure.figsize\"] = (30,8)\n",
    "colors = sns.color_palette('pastel')[0:11]\n",
    "explode = (0.1, 0.1, 0, 0, 0, 0, 0, 0, 0, 0, 0)\n",
    "df['Levels'].value_counts().plot.pie(labeldistance=1.15, \n",
    "                                     wedgeprops = { 'linewidth' : 3, 'edgecolor' : 'white' }, \n",
    "                                     colors=colors,\n",
    "                                     ylabel='',\n",
    "                                     autopct='%1.1f%%',\n",
    "                                     explode = explode)"
   ]
  },
  {
   "cell_type": "code",
   "execution_count": 235,
   "id": "257c396c",
   "metadata": {
    "scrolled": false
   },
   "outputs": [
    {
     "data": {
      "text/plain": [
       "<AxesSubplot:>"
      ]
     },
     "execution_count": 235,
     "metadata": {},
     "output_type": "execute_result"
    },
    {
     "data": {
      "image/png": "[encoded data removed]",
      "text/plain": [
       "<Figure size 432x288 with 1 Axes>"
      ]
     },
     "metadata": {
      "needs_background": "light"
     },
     "output_type": "display_data"
    }
   ],
   "source": [
    "df['Levels'].value_counts().plot.bar()"
   ]
  },
  {
   "cell_type": "markdown",
   "id": "6774fc3a",
   "metadata": {},
   "source": [
    "##### Saving the count of taxonomic levels of each subject (blasted accession numbers from Nucleotide database of NCBI)"
   ]
  },
  {
   "cell_type": "code",
   "execution_count": 268,
   "id": "33e70d90",
   "metadata": {},
   "outputs": [],
   "source": [
    "df.to_csv('05_db_blastn_July142020_filtered_1e-20_subj_to_7level_taxonomy_enriched.csv', index= False)"
   ]
  }
 ],
 "metadata": {
  "kernelspec": {
   "display_name": "Python 3 (ipykernel)",
   "language": "python",
   "name": "python3"
  },
  "language_info": {
   "codemirror_mode": {
    "name": "ipython",
    "version": 3
   },
   "file_extension": ".py",
   "mimetype": "text/x-python",
   "name": "python",
   "nbconvert_exporter": "python",
   "pygments_lexer": "ipython3",
   "version": "3.10.2"
  }
 },
 "nbformat": 4,
 "nbformat_minor": 5
}
