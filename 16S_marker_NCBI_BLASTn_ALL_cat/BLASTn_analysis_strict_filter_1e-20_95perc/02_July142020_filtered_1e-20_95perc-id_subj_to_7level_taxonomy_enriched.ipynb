{
 "cells": [
  {
   "cell_type": "code",
   "execution_count": 1,
   "id": "a997ba10",
   "metadata": {},
   "outputs": [],
   "source": [
    "# Show plots as part of the notebook (this is a Jupyter-specific operation)\n",
    "%matplotlib inline\n",
    "import time\n",
    "import matplotlib.pyplot as plt\n",
    "import requests\n",
    "import xmltodict\n",
    "# Standard library packages\n",
    "import os\n",
    "\n",
    "# Import Pandas and Seaborn\n",
    "import pandas as pd\n",
    "import seaborn as sns\n",
    "import numpy as np\n",
    "\n",
    "# Import Biopython tools for running local BLASTX\n",
    "from Bio.Blast.Applications import NcbiblastxCommandline\n",
    "from Bio.Blast.Applications import NcbiblastnCommandline\n",
    "\n",
    "#For execution time tracking\n",
    "from datetime import datetime\n",
    "from pytz import timezone"
   ]
  },
  {
   "cell_type": "code",
   "execution_count": 2,
   "id": "65996faa",
   "metadata": {},
   "outputs": [
    {
     "name": "stdout",
     "output_type": "stream",
     "text": [
      "11:27:44 AM\n"
     ]
    }
   ],
   "source": [
    "now_time = datetime.now(timezone('America/Chicago'))\n",
    "print(now_time.strftime('%I:%M:%S %p'))"
   ]
  },
  {
   "cell_type": "code",
   "execution_count": 4,
   "id": "5a358627",
   "metadata": {},
   "outputs": [
    {
     "name": "stdout",
     "output_type": "stream",
     "text": [
      "CPU times: user 1.07 s, sys: 99.6 ms, total: 1.17 s\n",
      "Wall time: 1.17 s\n"
     ]
    }
   ],
   "source": [
    "%%time\n",
    "df = pd.read_csv('01_db_blastn_July142020_filtered_1e-20_95perc-id_subj.csv')"
   ]
  },
  {
   "cell_type": "code",
   "execution_count": 5,
   "id": "ef4084bd",
   "metadata": {},
   "outputs": [
    {
     "data": {
      "text/plain": [
       "9092"
      ]
     },
     "execution_count": 5,
     "metadata": {},
     "output_type": "execute_result"
    }
   ],
   "source": [
    "df['subject'].nunique()"
   ]
  },
  {
   "cell_type": "code",
   "execution_count": 6,
   "id": "e013ff5f",
   "metadata": {},
   "outputs": [
    {
     "data": {
      "text/plain": [
       "JAGRRH010000013.1    16532\n",
       "NC_008588.1           5973\n",
       "MN937452.1            5926\n",
       "NC_014287.1           5916\n",
       "MW645084.1            5905\n",
       "                     ...  \n",
       "KX013963.1               1\n",
       "KX013970.1               1\n",
       "KX013976.1               1\n",
       "KX013979.1               1\n",
       "GL433848.1               1\n",
       "Name: subject, Length: 9092, dtype: int64"
      ]
     },
     "execution_count": 6,
     "metadata": {},
     "output_type": "execute_result"
    }
   ],
   "source": [
    "df = df['subject'].value_counts()\n",
    "df = pd.Series(df)\n",
    "df"
   ]
  },
  {
   "cell_type": "code",
   "execution_count": 7,
   "id": "5139da65",
   "metadata": {},
   "outputs": [],
   "source": [
    "df.to_csv('01_1_July142020_filtered_1e-20_95perc-id_subj_to_7level_taxonomy.csv')"
   ]
  },
  {
   "cell_type": "code",
   "execution_count": 8,
   "id": "cca8bd99",
   "metadata": {},
   "outputs": [],
   "source": [
    "df = pd.read_csv('01_1_July142020_filtered_1e-20_95perc-id_subj_to_7level_taxonomy.csv')"
   ]
  },
  {
   "cell_type": "code",
   "execution_count": 9,
   "id": "52776f0b",
   "metadata": {},
   "outputs": [
    {
     "data": {
      "text/html": [
       "<div>\n",
       "<style scoped>\n",
       "    .dataframe tbody tr th:only-of-type {\n",
       "        vertical-align: middle;\n",
       "    }\n",
       "\n",
       "    .dataframe tbody tr th {\n",
       "        vertical-align: top;\n",
       "    }\n",
       "\n",
       "    .dataframe thead th {\n",
       "        text-align: right;\n",
       "    }\n",
       "</style>\n",
       "<table border=\"1\" class=\"dataframe\">\n",
       "  <thead>\n",
       "    <tr style=\"text-align: right;\">\n",
       "      <th></th>\n",
       "      <th>Unnamed: 0</th>\n",
       "      <th>subject</th>\n",
       "    </tr>\n",
       "  </thead>\n",
       "  <tbody>\n",
       "    <tr>\n",
       "      <th>0</th>\n",
       "      <td>JAGRRH010000013.1</td>\n",
       "      <td>16532</td>\n",
       "    </tr>\n",
       "    <tr>\n",
       "      <th>1</th>\n",
       "      <td>NC_008588.1</td>\n",
       "      <td>5973</td>\n",
       "    </tr>\n",
       "    <tr>\n",
       "      <th>2</th>\n",
       "      <td>MN937452.1</td>\n",
       "      <td>5926</td>\n",
       "    </tr>\n",
       "    <tr>\n",
       "      <th>3</th>\n",
       "      <td>NC_014287.1</td>\n",
       "      <td>5916</td>\n",
       "    </tr>\n",
       "    <tr>\n",
       "      <th>4</th>\n",
       "      <td>MW645084.1</td>\n",
       "      <td>5905</td>\n",
       "    </tr>\n",
       "  </tbody>\n",
       "</table>\n",
       "</div>"
      ],
      "text/plain": [
       "          Unnamed: 0  subject\n",
       "0  JAGRRH010000013.1    16532\n",
       "1        NC_008588.1     5973\n",
       "2         MN937452.1     5926\n",
       "3        NC_014287.1     5916\n",
       "4         MW645084.1     5905"
      ]
     },
     "execution_count": 9,
     "metadata": {},
     "output_type": "execute_result"
    }
   ],
   "source": [
    "df.head()"
   ]
  },
  {
   "cell_type": "code",
   "execution_count": 10,
   "id": "00037ba9",
   "metadata": {},
   "outputs": [],
   "source": [
    "df.columns.values[0] = \"subject\"\n",
    "df.columns.values[1] = \"count\""
   ]
  },
  {
   "cell_type": "code",
   "execution_count": 11,
   "id": "216eeea8",
   "metadata": {},
   "outputs": [],
   "source": [
    "df.to_csv('01_1_July142020_filtered_1e-20_95perc-id_subj_to_7level_taxonomy.csv', index= False)"
   ]
  },
  {
   "cell_type": "code",
   "execution_count": 12,
   "id": "e7d0d3bb",
   "metadata": {},
   "outputs": [],
   "source": [
    "df = pd.read_csv('01_1_July142020_filtered_1e-20_95perc-id_subj_to_7level_taxonomy.csv')"
   ]
  },
  {
   "cell_type": "code",
   "execution_count": 13,
   "id": "19835e1a",
   "metadata": {},
   "outputs": [
    {
     "data": {
      "text/html": [
       "<div>\n",
       "<style scoped>\n",
       "    .dataframe tbody tr th:only-of-type {\n",
       "        vertical-align: middle;\n",
       "    }\n",
       "\n",
       "    .dataframe tbody tr th {\n",
       "        vertical-align: top;\n",
       "    }\n",
       "\n",
       "    .dataframe thead th {\n",
       "        text-align: right;\n",
       "    }\n",
       "</style>\n",
       "<table border=\"1\" class=\"dataframe\">\n",
       "  <thead>\n",
       "    <tr style=\"text-align: right;\">\n",
       "      <th></th>\n",
       "      <th>subject</th>\n",
       "      <th>count</th>\n",
       "    </tr>\n",
       "  </thead>\n",
       "  <tbody>\n",
       "    <tr>\n",
       "      <th>0</th>\n",
       "      <td>JAGRRH010000013.1</td>\n",
       "      <td>16532</td>\n",
       "    </tr>\n",
       "    <tr>\n",
       "      <th>1</th>\n",
       "      <td>NC_008588.1</td>\n",
       "      <td>5973</td>\n",
       "    </tr>\n",
       "    <tr>\n",
       "      <th>2</th>\n",
       "      <td>MN937452.1</td>\n",
       "      <td>5926</td>\n",
       "    </tr>\n",
       "    <tr>\n",
       "      <th>3</th>\n",
       "      <td>NC_014287.1</td>\n",
       "      <td>5916</td>\n",
       "    </tr>\n",
       "    <tr>\n",
       "      <th>4</th>\n",
       "      <td>MW645084.1</td>\n",
       "      <td>5905</td>\n",
       "    </tr>\n",
       "  </tbody>\n",
       "</table>\n",
       "</div>"
      ],
      "text/plain": [
       "             subject  count\n",
       "0  JAGRRH010000013.1  16532\n",
       "1        NC_008588.1   5973\n",
       "2         MN937452.1   5926\n",
       "3        NC_014287.1   5916\n",
       "4         MW645084.1   5905"
      ]
     },
     "execution_count": 13,
     "metadata": {},
     "output_type": "execute_result"
    }
   ],
   "source": [
    "df.head()"
   ]
  },
  {
   "cell_type": "markdown",
   "id": "1e29ce8c",
   "metadata": {},
   "source": [
    "## Retrieving (efetch) taxonomy heirarchy from NCBI"
   ]
  },
  {
   "cell_type": "code",
   "execution_count": 14,
   "id": "c51a51cb",
   "metadata": {},
   "outputs": [],
   "source": [
    "base_url = \"https://eutils.ncbi.nlm.nih.gov/entrez/eutils/{}\"\n",
    "db = \"nuccore\""
   ]
  },
  {
   "cell_type": "code",
   "execution_count": 15,
   "id": "36151285",
   "metadata": {},
   "outputs": [],
   "source": [
    "def get_taxon_name(tax_id):\n",
    "    try:\n",
    "        efetch = \"efetch.fcgi?db={}&id={}&rettype=json\".format(db, tax_id)\n",
    "        efetch_response = requests.get(base_url.format(efetch))\n",
    "        efetch_dict = xmltodict.parse(efetch_response.content)\n",
    "        Definition = efetch_dict['GBSet']['GBSeq']['GBSeq_definition']\n",
    "        Definition = Definition.split(',')\n",
    "        Definition = Definition[0]\n",
    "        time.sleep(0.5)\n",
    "    except:\n",
    "        Definition = tax_id\n",
    "        pass\n",
    " \n",
    "    return Definition"
   ]
  },
  {
   "cell_type": "code",
   "execution_count": 16,
   "id": "5d7f64e7",
   "metadata": {},
   "outputs": [
    {
     "data": {
      "text/plain": [
       "'Phaeocystis antarctica plastid'"
      ]
     },
     "execution_count": 16,
     "metadata": {},
     "output_type": "execute_result"
    }
   ],
   "source": [
    "get_taxon_name ('NC_016703.1')"
   ]
  },
  {
   "cell_type": "code",
   "execution_count": 17,
   "id": "3c440c0f",
   "metadata": {},
   "outputs": [],
   "source": [
    "def get_7level_taxonomy(tax_id):\n",
    "    try:   \n",
    "        efetch = \"efetch.fcgi?db={}&id={}&rettype=json\".format(db, tax_id)\n",
    "        efetch_response = requests.get(base_url.format(efetch))\n",
    "        efetch_dict = xmltodict.parse(efetch_response.content)\n",
    "        GBSeq_taxonomy = efetch_dict['GBSet']['GBSeq']['GBSeq_taxonomy']\n",
    "#        GBSeq_taxonomy_class = GBSeq_taxonomy.split(\"; \")\n",
    "#        GBSeq_taxonomy_class = GBSeq_taxonomy_class[2]\n",
    "        time.sleep(0.5)\n",
    "    except:\n",
    "        GBSeq_taxonomy = tax_id\n",
    "        pass\n",
    "    \n",
    "    return GBSeq_taxonomy"
   ]
  },
  {
   "cell_type": "code",
   "execution_count": 18,
   "id": "2ea797ce",
   "metadata": {},
   "outputs": [
    {
     "data": {
      "text/plain": [
       "'Eukaryota; Haptophyceae; Phaeocystales; Phaeocystaceae; Phaeocystis'"
      ]
     },
     "execution_count": 18,
     "metadata": {},
     "output_type": "execute_result"
    }
   ],
   "source": [
    "get_7level_taxonomy ('NC_016703.1')"
   ]
  },
  {
   "cell_type": "code",
   "execution_count": 19,
   "id": "d729204c",
   "metadata": {},
   "outputs": [
    {
     "data": {
      "text/html": [
       "<div>\n",
       "<style scoped>\n",
       "    .dataframe tbody tr th:only-of-type {\n",
       "        vertical-align: middle;\n",
       "    }\n",
       "\n",
       "    .dataframe tbody tr th {\n",
       "        vertical-align: top;\n",
       "    }\n",
       "\n",
       "    .dataframe thead th {\n",
       "        text-align: right;\n",
       "    }\n",
       "</style>\n",
       "<table border=\"1\" class=\"dataframe\">\n",
       "  <thead>\n",
       "    <tr style=\"text-align: right;\">\n",
       "      <th></th>\n",
       "      <th>subject</th>\n",
       "      <th>count</th>\n",
       "    </tr>\n",
       "  </thead>\n",
       "  <tbody>\n",
       "    <tr>\n",
       "      <th>0</th>\n",
       "      <td>JAGRRH010000013.1</td>\n",
       "      <td>16532</td>\n",
       "    </tr>\n",
       "    <tr>\n",
       "      <th>1</th>\n",
       "      <td>NC_008588.1</td>\n",
       "      <td>5973</td>\n",
       "    </tr>\n",
       "    <tr>\n",
       "      <th>2</th>\n",
       "      <td>MN937452.1</td>\n",
       "      <td>5926</td>\n",
       "    </tr>\n",
       "    <tr>\n",
       "      <th>3</th>\n",
       "      <td>NC_014287.1</td>\n",
       "      <td>5916</td>\n",
       "    </tr>\n",
       "    <tr>\n",
       "      <th>4</th>\n",
       "      <td>MW645084.1</td>\n",
       "      <td>5905</td>\n",
       "    </tr>\n",
       "  </tbody>\n",
       "</table>\n",
       "</div>"
      ],
      "text/plain": [
       "             subject  count\n",
       "0  JAGRRH010000013.1  16532\n",
       "1        NC_008588.1   5973\n",
       "2         MN937452.1   5926\n",
       "3        NC_014287.1   5916\n",
       "4         MW645084.1   5905"
      ]
     },
     "execution_count": 19,
     "metadata": {},
     "output_type": "execute_result"
    }
   ],
   "source": [
    "df.head()"
   ]
  },
  {
   "cell_type": "code",
   "execution_count": 20,
   "id": "00ff1eaa",
   "metadata": {},
   "outputs": [
    {
     "data": {
      "text/plain": [
       "0       JAGRRH010000013.1\n",
       "1             NC_008588.1\n",
       "2              MN937452.1\n",
       "3             NC_014287.1\n",
       "4              MW645084.1\n",
       "              ...        \n",
       "9087           KX013963.1\n",
       "9088           KX013970.1\n",
       "9089           KX013976.1\n",
       "9090           KX013979.1\n",
       "9091           GL433848.1\n",
       "Name: subject, Length: 9092, dtype: object"
      ]
     },
     "execution_count": 20,
     "metadata": {},
     "output_type": "execute_result"
    }
   ],
   "source": [
    "df['subject']"
   ]
  },
  {
   "cell_type": "code",
   "execution_count": 21,
   "id": "e58237ae",
   "metadata": {},
   "outputs": [
    {
     "name": "stdout",
     "output_type": "stream",
     "text": [
      "CPU times: user 6 µs, sys: 2 µs, total: 8 µs\n",
      "Wall time: 16 µs\n"
     ]
    }
   ],
   "source": [
    "%%time\n",
    "def enrich_dataset(df):\n",
    "    taxon_value = df['subject']\n",
    "    Seven_Level_Taxonomy = get_7level_taxonomy(taxon_value)\n",
    "    df['7Level_Taxonomy'] = Seven_Level_Taxonomy\n",
    "    return df"
   ]
  },
  {
   "cell_type": "code",
   "execution_count": 22,
   "id": "065749d6",
   "metadata": {},
   "outputs": [
    {
     "name": "stdout",
     "output_type": "stream",
     "text": [
      "CPU times: user 5min 42s, sys: 43.6 s, total: 6min 26s\n",
      "Wall time: 3h 5min 43s\n"
     ]
    }
   ],
   "source": [
    "%%time\n",
    "df = df.apply(enrich_dataset, axis=1)"
   ]
  },
  {
   "cell_type": "code",
   "execution_count": 23,
   "id": "7972492d",
   "metadata": {},
   "outputs": [],
   "source": [
    "df.to_csv('04_July142020_filtered_1e-20_95perc-id_subj_to_7level_taxonomy_enriched.csv', index= False)"
   ]
  },
  {
   "cell_type": "code",
   "execution_count": null,
   "id": "3c7d652e",
   "metadata": {},
   "outputs": [],
   "source": []
  },
  {
   "cell_type": "markdown",
   "id": "a4187486",
   "metadata": {},
   "source": [
    "# Process Taxonomic Levels, Extract Information"
   ]
  },
  {
   "cell_type": "code",
   "execution_count": 24,
   "id": "953ee9cd",
   "metadata": {},
   "outputs": [],
   "source": [
    "df = pd.read_csv('04_July142020_filtered_1e-20_95perc-id_subj_to_7level_taxonomy_enriched.csv')"
   ]
  },
  {
   "cell_type": "code",
   "execution_count": 25,
   "id": "bc37e52a",
   "metadata": {},
   "outputs": [
    {
     "data": {
      "text/plain": [
       "2703"
      ]
     },
     "execution_count": 25,
     "metadata": {},
     "output_type": "execute_result"
    }
   ],
   "source": [
    "df['7Level_Taxonomy'].nunique()"
   ]
  },
  {
   "cell_type": "code",
   "execution_count": 26,
   "id": "0ffb5023",
   "metadata": {},
   "outputs": [
    {
     "data": {
      "text/html": [
       "<div>\n",
       "<style scoped>\n",
       "    .dataframe tbody tr th:only-of-type {\n",
       "        vertical-align: middle;\n",
       "    }\n",
       "\n",
       "    .dataframe tbody tr th {\n",
       "        vertical-align: top;\n",
       "    }\n",
       "\n",
       "    .dataframe thead th {\n",
       "        text-align: right;\n",
       "    }\n",
       "</style>\n",
       "<table border=\"1\" class=\"dataframe\">\n",
       "  <thead>\n",
       "    <tr style=\"text-align: right;\">\n",
       "      <th></th>\n",
       "      <th>subject</th>\n",
       "      <th>count</th>\n",
       "      <th>7Level_Taxonomy</th>\n",
       "    </tr>\n",
       "  </thead>\n",
       "  <tbody>\n",
       "    <tr>\n",
       "      <th>0</th>\n",
       "      <td>JAGRRH010000013.1</td>\n",
       "      <td>16532</td>\n",
       "      <td>Eukaryota; Sar; Stramenopiles; Ochrophyta; Bac...</td>\n",
       "    </tr>\n",
       "    <tr>\n",
       "      <th>1</th>\n",
       "      <td>NC_008588.1</td>\n",
       "      <td>5973</td>\n",
       "      <td>Eukaryota; Sar; Stramenopiles; Ochrophyta; Bac...</td>\n",
       "    </tr>\n",
       "    <tr>\n",
       "      <th>2</th>\n",
       "      <td>MN937452.1</td>\n",
       "      <td>5926</td>\n",
       "      <td>Eukaryota; Sar; Stramenopiles; Ochrophyta; Bac...</td>\n",
       "    </tr>\n",
       "    <tr>\n",
       "      <th>3</th>\n",
       "      <td>NC_014287.1</td>\n",
       "      <td>5916</td>\n",
       "      <td>Eukaryota; Sar; Alveolata; Dinophyceae; Peridi...</td>\n",
       "    </tr>\n",
       "    <tr>\n",
       "      <th>4</th>\n",
       "      <td>MW645084.1</td>\n",
       "      <td>5905</td>\n",
       "      <td>Eukaryota; Sar; Stramenopiles; Ochrophyta; Bac...</td>\n",
       "    </tr>\n",
       "  </tbody>\n",
       "</table>\n",
       "</div>"
      ],
      "text/plain": [
       "             subject  count                                    7Level_Taxonomy\n",
       "0  JAGRRH010000013.1  16532  Eukaryota; Sar; Stramenopiles; Ochrophyta; Bac...\n",
       "1        NC_008588.1   5973  Eukaryota; Sar; Stramenopiles; Ochrophyta; Bac...\n",
       "2         MN937452.1   5926  Eukaryota; Sar; Stramenopiles; Ochrophyta; Bac...\n",
       "3        NC_014287.1   5916  Eukaryota; Sar; Alveolata; Dinophyceae; Peridi...\n",
       "4         MW645084.1   5905  Eukaryota; Sar; Stramenopiles; Ochrophyta; Bac..."
      ]
     },
     "execution_count": 26,
     "metadata": {},
     "output_type": "execute_result"
    }
   ],
   "source": [
    "df.head(5)"
   ]
  },
  {
   "cell_type": "code",
   "execution_count": 27,
   "id": "856fe5cf",
   "metadata": {},
   "outputs": [],
   "source": [
    "def taxlevel (tax):\n",
    "    tax = tax.split(\"; \")\n",
    "    tax_len = len(tax)\n",
    "    \n",
    "    return tax_len"
   ]
  },
  {
   "cell_type": "code",
   "execution_count": 28,
   "id": "b16e21cb",
   "metadata": {},
   "outputs": [],
   "source": [
    "def enrich_dataset(df):\n",
    "    taxon_level = df['7Level_Taxonomy']\n",
    "    Seven_Level_Taxonomy = taxlevel(taxon_level)\n",
    "    df['7Level_Lenght'] = Seven_Level_Taxonomy\n",
    "    return df"
   ]
  },
  {
   "cell_type": "code",
   "execution_count": 29,
   "id": "ed974e34",
   "metadata": {},
   "outputs": [
    {
     "name": "stdout",
     "output_type": "stream",
     "text": [
      "CPU times: user 1.25 s, sys: 8.38 ms, total: 1.26 s\n",
      "Wall time: 1.26 s\n"
     ]
    }
   ],
   "source": [
    "%%time\n",
    "df = df.apply(enrich_dataset, axis=1)"
   ]
  },
  {
   "cell_type": "code",
   "execution_count": 30,
   "id": "d2e46407",
   "metadata": {},
   "outputs": [
    {
     "data": {
      "text/html": [
       "<div>\n",
       "<style scoped>\n",
       "    .dataframe tbody tr th:only-of-type {\n",
       "        vertical-align: middle;\n",
       "    }\n",
       "\n",
       "    .dataframe tbody tr th {\n",
       "        vertical-align: top;\n",
       "    }\n",
       "\n",
       "    .dataframe thead th {\n",
       "        text-align: right;\n",
       "    }\n",
       "</style>\n",
       "<table border=\"1\" class=\"dataframe\">\n",
       "  <thead>\n",
       "    <tr style=\"text-align: right;\">\n",
       "      <th></th>\n",
       "      <th>subject</th>\n",
       "      <th>count</th>\n",
       "      <th>7Level_Taxonomy</th>\n",
       "      <th>7Level_Lenght</th>\n",
       "    </tr>\n",
       "  </thead>\n",
       "  <tbody>\n",
       "    <tr>\n",
       "      <th>0</th>\n",
       "      <td>JAGRRH010000013.1</td>\n",
       "      <td>16532</td>\n",
       "      <td>Eukaryota; Sar; Stramenopiles; Ochrophyta; Bac...</td>\n",
       "      <td>10</td>\n",
       "    </tr>\n",
       "    <tr>\n",
       "      <th>1</th>\n",
       "      <td>NC_008588.1</td>\n",
       "      <td>5973</td>\n",
       "      <td>Eukaryota; Sar; Stramenopiles; Ochrophyta; Bac...</td>\n",
       "      <td>10</td>\n",
       "    </tr>\n",
       "    <tr>\n",
       "      <th>2</th>\n",
       "      <td>MN937452.1</td>\n",
       "      <td>5926</td>\n",
       "      <td>Eukaryota; Sar; Stramenopiles; Ochrophyta; Bac...</td>\n",
       "      <td>10</td>\n",
       "    </tr>\n",
       "    <tr>\n",
       "      <th>3</th>\n",
       "      <td>NC_014287.1</td>\n",
       "      <td>5916</td>\n",
       "      <td>Eukaryota; Sar; Alveolata; Dinophyceae; Peridi...</td>\n",
       "      <td>7</td>\n",
       "    </tr>\n",
       "    <tr>\n",
       "      <th>4</th>\n",
       "      <td>MW645084.1</td>\n",
       "      <td>5905</td>\n",
       "      <td>Eukaryota; Sar; Stramenopiles; Ochrophyta; Bac...</td>\n",
       "      <td>10</td>\n",
       "    </tr>\n",
       "  </tbody>\n",
       "</table>\n",
       "</div>"
      ],
      "text/plain": [
       "             subject  count  \\\n",
       "0  JAGRRH010000013.1  16532   \n",
       "1        NC_008588.1   5973   \n",
       "2         MN937452.1   5926   \n",
       "3        NC_014287.1   5916   \n",
       "4         MW645084.1   5905   \n",
       "\n",
       "                                     7Level_Taxonomy  7Level_Lenght  \n",
       "0  Eukaryota; Sar; Stramenopiles; Ochrophyta; Bac...             10  \n",
       "1  Eukaryota; Sar; Stramenopiles; Ochrophyta; Bac...             10  \n",
       "2  Eukaryota; Sar; Stramenopiles; Ochrophyta; Bac...             10  \n",
       "3  Eukaryota; Sar; Alveolata; Dinophyceae; Peridi...              7  \n",
       "4  Eukaryota; Sar; Stramenopiles; Ochrophyta; Bac...             10  "
      ]
     },
     "execution_count": 30,
     "metadata": {},
     "output_type": "execute_result"
    }
   ],
   "source": [
    "df.head()"
   ]
  },
  {
   "cell_type": "code",
   "execution_count": 31,
   "id": "3d86033d",
   "metadata": {},
   "outputs": [
    {
     "data": {
      "text/plain": [
       "1     2000\n",
       "2     1690\n",
       "6     1583\n",
       "9      880\n",
       "4      680\n",
       "8      650\n",
       "7      492\n",
       "10     418\n",
       "5      266\n",
       "3      236\n",
       "11     197\n",
       "Name: 7Level_Lenght, dtype: int64"
      ]
     },
     "execution_count": 31,
     "metadata": {},
     "output_type": "execute_result"
    }
   ],
   "source": [
    "df['7Level_Lenght'].value_counts()"
   ]
  },
  {
   "cell_type": "code",
   "execution_count": 32,
   "id": "f27079ae",
   "metadata": {},
   "outputs": [
    {
     "data": {
      "text/plain": [
       "(9092, 4)"
      ]
     },
     "execution_count": 32,
     "metadata": {},
     "output_type": "execute_result"
    }
   ],
   "source": [
    "df.shape"
   ]
  },
  {
   "cell_type": "code",
   "execution_count": 33,
   "id": "4dedfc76",
   "metadata": {},
   "outputs": [],
   "source": [
    "df[\"Levels\"] = df[\"7Level_Lenght\"].replace({11: \"11_Levels\",\n",
    "                                           10: \"10_Levels\",\n",
    "                                           9: \"9_Levels\",\n",
    "                                           8: \"8_Levels\",\n",
    "                                           7: \"7_Levels\",\n",
    "                                           6: \"6_Levels\",\n",
    "                                           5: \"5_Levels\",\n",
    "                                           4: \"4_Levels\",\n",
    "                                           3: \"3_Levels\",\n",
    "                                           2: \"2_Levels\",\n",
    "                                           1: \"1_Level\",\n",
    "                                           })"
   ]
  },
  {
   "cell_type": "code",
   "execution_count": 34,
   "id": "91c03b4d",
   "metadata": {},
   "outputs": [
    {
     "data": {
      "text/html": [
       "<div>\n",
       "<style scoped>\n",
       "    .dataframe tbody tr th:only-of-type {\n",
       "        vertical-align: middle;\n",
       "    }\n",
       "\n",
       "    .dataframe tbody tr th {\n",
       "        vertical-align: top;\n",
       "    }\n",
       "\n",
       "    .dataframe thead th {\n",
       "        text-align: right;\n",
       "    }\n",
       "</style>\n",
       "<table border=\"1\" class=\"dataframe\">\n",
       "  <thead>\n",
       "    <tr style=\"text-align: right;\">\n",
       "      <th></th>\n",
       "      <th>subject</th>\n",
       "      <th>count</th>\n",
       "      <th>7Level_Taxonomy</th>\n",
       "      <th>7Level_Lenght</th>\n",
       "      <th>Levels</th>\n",
       "    </tr>\n",
       "  </thead>\n",
       "  <tbody>\n",
       "    <tr>\n",
       "      <th>0</th>\n",
       "      <td>JAGRRH010000013.1</td>\n",
       "      <td>16532</td>\n",
       "      <td>Eukaryota; Sar; Stramenopiles; Ochrophyta; Bac...</td>\n",
       "      <td>10</td>\n",
       "      <td>10_Levels</td>\n",
       "    </tr>\n",
       "    <tr>\n",
       "      <th>1</th>\n",
       "      <td>NC_008588.1</td>\n",
       "      <td>5973</td>\n",
       "      <td>Eukaryota; Sar; Stramenopiles; Ochrophyta; Bac...</td>\n",
       "      <td>10</td>\n",
       "      <td>10_Levels</td>\n",
       "    </tr>\n",
       "    <tr>\n",
       "      <th>2</th>\n",
       "      <td>MN937452.1</td>\n",
       "      <td>5926</td>\n",
       "      <td>Eukaryota; Sar; Stramenopiles; Ochrophyta; Bac...</td>\n",
       "      <td>10</td>\n",
       "      <td>10_Levels</td>\n",
       "    </tr>\n",
       "    <tr>\n",
       "      <th>3</th>\n",
       "      <td>NC_014287.1</td>\n",
       "      <td>5916</td>\n",
       "      <td>Eukaryota; Sar; Alveolata; Dinophyceae; Peridi...</td>\n",
       "      <td>7</td>\n",
       "      <td>7_Levels</td>\n",
       "    </tr>\n",
       "    <tr>\n",
       "      <th>4</th>\n",
       "      <td>MW645084.1</td>\n",
       "      <td>5905</td>\n",
       "      <td>Eukaryota; Sar; Stramenopiles; Ochrophyta; Bac...</td>\n",
       "      <td>10</td>\n",
       "      <td>10_Levels</td>\n",
       "    </tr>\n",
       "  </tbody>\n",
       "</table>\n",
       "</div>"
      ],
      "text/plain": [
       "             subject  count  \\\n",
       "0  JAGRRH010000013.1  16532   \n",
       "1        NC_008588.1   5973   \n",
       "2         MN937452.1   5926   \n",
       "3        NC_014287.1   5916   \n",
       "4         MW645084.1   5905   \n",
       "\n",
       "                                     7Level_Taxonomy  7Level_Lenght     Levels  \n",
       "0  Eukaryota; Sar; Stramenopiles; Ochrophyta; Bac...             10  10_Levels  \n",
       "1  Eukaryota; Sar; Stramenopiles; Ochrophyta; Bac...             10  10_Levels  \n",
       "2  Eukaryota; Sar; Stramenopiles; Ochrophyta; Bac...             10  10_Levels  \n",
       "3  Eukaryota; Sar; Alveolata; Dinophyceae; Peridi...              7   7_Levels  \n",
       "4  Eukaryota; Sar; Stramenopiles; Ochrophyta; Bac...             10  10_Levels  "
      ]
     },
     "execution_count": 34,
     "metadata": {},
     "output_type": "execute_result"
    }
   ],
   "source": [
    "df.head()"
   ]
  },
  {
   "cell_type": "code",
   "execution_count": 35,
   "id": "7cf634d7",
   "metadata": {},
   "outputs": [
    {
     "data": {
      "text/plain": [
       "<AxesSubplot:>"
      ]
     },
     "execution_count": 35,
     "metadata": {},
     "output_type": "execute_result"
    },
    {
     "data": {
      "image/png": "[encoded data removed]",
      "text/plain": [
       "<Figure size 2160x576 with 1 Axes>"
      ]
     },
     "metadata": {},
     "output_type": "display_data"
    }
   ],
   "source": [
    "plt.rcParams[\"figure.figsize\"] = (30,8)\n",
    "colors = sns.color_palette('pastel')[0:11]\n",
    "df['Levels'].value_counts().plot.pie(labeldistance=1.15, \n",
    "                                     wedgeprops = { 'linewidth' : 3, 'edgecolor' : 'white' }, \n",
    "                                     colors=colors,\n",
    "                                     ylabel='')"
   ]
  },
  {
   "cell_type": "code",
   "execution_count": 36,
   "id": "50106107",
   "metadata": {},
   "outputs": [
    {
     "data": {
      "text/plain": [
       "<AxesSubplot:>"
      ]
     },
     "execution_count": 36,
     "metadata": {},
     "output_type": "execute_result"
    },
    {
     "data": {
      "image/png": "[encoded data removed]",
      "text/plain": [
       "<Figure size 2160x576 with 1 Axes>"
      ]
     },
     "metadata": {},
     "output_type": "display_data"
    }
   ],
   "source": [
    "plt.rcParams[\"figure.figsize\"] = (30,8)\n",
    "colors = sns.color_palette('pastel')[0:11]\n",
    "explode = (0.1, 0.1, 0, 0, 0, 0, 0, 0, 0, 0, 0)\n",
    "df['Levels'].value_counts().plot.pie(labeldistance=1.15, \n",
    "                                     wedgeprops = { 'linewidth' : 3, 'edgecolor' : 'white' }, \n",
    "                                     colors=colors,\n",
    "                                     ylabel='',\n",
    "                                     autopct='%1.1f%%',\n",
    "                                     explode = explode)"
   ]
  },
  {
   "cell_type": "code",
   "execution_count": 37,
   "id": "257c396c",
   "metadata": {
    "scrolled": false
   },
   "outputs": [
    {
     "data": {
      "text/plain": [
       "<AxesSubplot:>"
      ]
     },
     "execution_count": 37,
     "metadata": {},
     "output_type": "execute_result"
    },
    {
     "data": {
      "image/png": "[encoded data removed]",
      "text/plain": [
       "<Figure size 2160x576 with 1 Axes>"
      ]
     },
     "metadata": {
      "needs_background": "light"
     },
     "output_type": "display_data"
    }
   ],
   "source": [
    "df['Levels'].value_counts().plot.bar()"
   ]
  },
  {
   "cell_type": "markdown",
   "id": "6774fc3a",
   "metadata": {},
   "source": [
    "##### Saving the count of taxonomic levels of each subject (blasted accession numbers from Nucleotide database of NCBI)"
   ]
  },
  {
   "cell_type": "code",
   "execution_count": 38,
   "id": "33e70d90",
   "metadata": {},
   "outputs": [],
   "source": [
    "df.to_csv('05_July142020_filtered_1e-20_95perc-id_subj_to_7level_taxonomy_enriched.csv', index= False)"
   ]
  }
 ],
 "metadata": {
  "kernelspec": {
   "display_name": "Python 3 (ipykernel)",
   "language": "python",
   "name": "python3"
  },
  "language_info": {
   "codemirror_mode": {
    "name": "ipython",
    "version": 3
   },
   "file_extension": ".py",
   "mimetype": "text/x-python",
   "name": "python",
   "nbconvert_exporter": "python",
   "pygments_lexer": "ipython3",
   "version": "3.10.2"
  }
 },
 "nbformat": 4,
 "nbformat_minor": 5
}
