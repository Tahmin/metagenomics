{
 "cells": [
  {
   "cell_type": "code",
   "execution_count": 4,
   "id": "8e18d4b6",
   "metadata": {},
   "outputs": [],
   "source": [
    "import taxoniq"
   ]
  },
  {
   "cell_type": "code",
   "execution_count": 5,
   "id": "42beb3a2",
   "metadata": {},
   "outputs": [],
   "source": [
    "t = taxoniq.Taxon(9606)"
   ]
  },
  {
   "cell_type": "code",
   "execution_count": 6,
   "id": "5549ed97",
   "metadata": {},
   "outputs": [
    {
     "data": {
      "text/plain": [
       "taxoniq.Taxon(9606)"
      ]
     },
     "execution_count": 6,
     "metadata": {},
     "output_type": "execute_result"
    }
   ],
   "source": [
    "t"
   ]
  },
  {
   "cell_type": "code",
   "execution_count": 7,
   "id": "127c3482",
   "metadata": {},
   "outputs": [
    {
     "data": {
      "text/plain": [
       "'Homo sapiens'"
      ]
     },
     "execution_count": 7,
     "metadata": {},
     "output_type": "execute_result"
    }
   ],
   "source": [
    "t.scientific_name"
   ]
  },
  {
   "cell_type": "code",
   "execution_count": 8,
   "id": "ea2d31a6",
   "metadata": {},
   "outputs": [
    {
     "data": {
      "text/plain": [
       "'human'"
      ]
     },
     "execution_count": 8,
     "metadata": {},
     "output_type": "execute_result"
    }
   ],
   "source": [
    "t.common_name"
   ]
  },
  {
   "cell_type": "code",
   "execution_count": 9,
   "id": "69907d6b",
   "metadata": {},
   "outputs": [
    {
     "data": {
      "text/plain": [
       "[taxoniq.Taxon(9606),\n",
       " taxoniq.Taxon(9605),\n",
       " taxoniq.Taxon(9604),\n",
       " taxoniq.Taxon(9443),\n",
       " taxoniq.Taxon(40674),\n",
       " taxoniq.Taxon(7711),\n",
       " taxoniq.Taxon(33208),\n",
       " taxoniq.Taxon(2759)]"
      ]
     },
     "execution_count": 9,
     "metadata": {},
     "output_type": "execute_result"
    }
   ],
   "source": [
    "t.ranked_lineage"
   ]
  },
  {
   "cell_type": "code",
   "execution_count": 12,
   "id": "a888290a",
   "metadata": {
    "scrolled": true
   },
   "outputs": [
    {
     "data": {
      "text/plain": [
       "{<Rank.class: 3>,\n",
       " <Rank.family: 5>,\n",
       " <Rank.genus: 9>,\n",
       " <Rank.kingdom: 13>,\n",
       " <Rank.order: 15>,\n",
       " <Rank.phylum: 18>,\n",
       " <Rank.species: 23>,\n",
       " <Rank.superkingdom: 40>}"
      ]
     },
     "execution_count": 12,
     "metadata": {},
     "output_type": "execute_result"
    }
   ],
   "source": [
    "t.common_ranks"
   ]
  },
  {
   "cell_type": "code",
   "execution_count": 19,
   "id": "b929ae3b",
   "metadata": {},
   "outputs": [
    {
     "data": {
      "text/plain": [
       "[('species', 'Homo sapiens'),\n",
       " ('genus', 'Homo'),\n",
       " ('family', 'Hominidae'),\n",
       " ('order', 'Primates'),\n",
       " ('class', 'Mammalia'),\n",
       " ('phylum', 'Chordata'),\n",
       " ('kingdom', 'Metazoa'),\n",
       " ('superkingdom', 'Eukaryota')]"
      ]
     },
     "execution_count": 19,
     "metadata": {},
     "output_type": "execute_result"
    }
   ],
   "source": [
    "[(t.rank.name, t.scientific_name) for t in t.ranked_lineage]"
   ]
  },
  {
   "cell_type": "code",
   "execution_count": 21,
   "id": "fb5948bb",
   "metadata": {
    "scrolled": true
   },
   "outputs": [
    {
     "data": {
      "text/plain": [
       "'species'"
      ]
     },
     "execution_count": 21,
     "metadata": {},
     "output_type": "execute_result"
    }
   ],
   "source": [
    "t.rank.name"
   ]
  },
  {
   "cell_type": "code",
   "execution_count": null,
   "id": "0777fd51",
   "metadata": {},
   "outputs": [],
   "source": []
  },
  {
   "cell_type": "code",
   "execution_count": 38,
   "id": "4fb3f7ba",
   "metadata": {},
   "outputs": [],
   "source": [
    "n = taxoniq.Taxon(31502)"
   ]
  },
  {
   "cell_type": "code",
   "execution_count": 39,
   "id": "dd4305a1",
   "metadata": {},
   "outputs": [
    {
     "data": {
      "text/plain": [
       "taxoniq.Taxon(31502)"
      ]
     },
     "execution_count": 39,
     "metadata": {},
     "output_type": "execute_result"
    }
   ],
   "source": [
    "n"
   ]
  },
  {
   "cell_type": "code",
   "execution_count": 40,
   "id": "a95732ad",
   "metadata": {},
   "outputs": [
    {
     "data": {
      "text/plain": [
       "'Rhodymenia pseudopalmata'"
      ]
     },
     "execution_count": 40,
     "metadata": {},
     "output_type": "execute_result"
    }
   ],
   "source": [
    "n.scientific_name"
   ]
  },
  {
   "cell_type": "code",
   "execution_count": 42,
   "id": "d3f5fab4",
   "metadata": {},
   "outputs": [
    {
     "data": {
      "text/plain": [
       "[taxoniq.Taxon(31502),\n",
       " taxoniq.Taxon(2794),\n",
       " taxoniq.Taxon(31501),\n",
       " taxoniq.Taxon(29247),\n",
       " taxoniq.Taxon(2806),\n",
       " taxoniq.Taxon(2763),\n",
       " taxoniq.Taxon(2759)]"
      ]
     },
     "execution_count": 42,
     "metadata": {},
     "output_type": "execute_result"
    }
   ],
   "source": [
    "n.ranked_lineage"
   ]
  },
  {
   "cell_type": "code",
   "execution_count": 43,
   "id": "97dcca0a",
   "metadata": {
    "scrolled": true
   },
   "outputs": [
    {
     "data": {
      "text/plain": [
       "{<Rank.class: 3>,\n",
       " <Rank.family: 5>,\n",
       " <Rank.genus: 9>,\n",
       " <Rank.kingdom: 13>,\n",
       " <Rank.order: 15>,\n",
       " <Rank.phylum: 18>,\n",
       " <Rank.species: 23>,\n",
       " <Rank.superkingdom: 40>}"
      ]
     },
     "execution_count": 43,
     "metadata": {},
     "output_type": "execute_result"
    }
   ],
   "source": [
    "n.common_ranks"
   ]
  },
  {
   "cell_type": "code",
   "execution_count": 44,
   "id": "680b03ec",
   "metadata": {
    "scrolled": true
   },
   "outputs": [
    {
     "data": {
      "text/plain": [
       "'species'"
      ]
     },
     "execution_count": 44,
     "metadata": {},
     "output_type": "execute_result"
    }
   ],
   "source": [
    "n.rank.name"
   ]
  },
  {
   "cell_type": "code",
   "execution_count": 45,
   "id": "f1287f59",
   "metadata": {
    "scrolled": true
   },
   "outputs": [
    {
     "data": {
      "text/plain": [
       "[('species', 'Rhodymenia pseudopalmata'),\n",
       " ('genus', 'Rhodymenia'),\n",
       " ('family', 'Rhodymeniaceae'),\n",
       " ('order', 'Rhodymeniales'),\n",
       " ('class', 'Florideophyceae'),\n",
       " ('phylum', 'Rhodophyta'),\n",
       " ('superkingdom', 'Eukaryota')]"
      ]
     },
     "execution_count": 45,
     "metadata": {},
     "output_type": "execute_result"
    }
   ],
   "source": [
    "[(n.rank.name, n.scientific_name) for n in n.ranked_lineage]"
   ]
  },
  {
   "cell_type": "code",
   "execution_count": 152,
   "id": "e4b19307",
   "metadata": {},
   "outputs": [],
   "source": [
    "d = taxoniq.Taxon(33658)"
   ]
  },
  {
   "cell_type": "code",
   "execution_count": 153,
   "id": "ad1841e0",
   "metadata": {},
   "outputs": [
    {
     "data": {
      "text/plain": [
       "taxoniq.Taxon(33658)"
      ]
     },
     "execution_count": 153,
     "metadata": {},
     "output_type": "execute_result"
    }
   ],
   "source": [
    "d"
   ]
  },
  {
   "cell_type": "code",
   "execution_count": 154,
   "id": "157d37e0",
   "metadata": {},
   "outputs": [
    {
     "data": {
      "text/plain": [
       "'Phaeocystis globosa'"
      ]
     },
     "execution_count": 154,
     "metadata": {},
     "output_type": "execute_result"
    }
   ],
   "source": [
    "d.scientific_name"
   ]
  },
  {
   "cell_type": "code",
   "execution_count": 155,
   "id": "3eb80bd1",
   "metadata": {},
   "outputs": [
    {
     "data": {
      "text/plain": [
       "[taxoniq.Taxon(33658),\n",
       " taxoniq.Taxon(33656),\n",
       " taxoniq.Taxon(418920),\n",
       " taxoniq.Taxon(418919),\n",
       " taxoniq.Taxon(2830),\n",
       " taxoniq.Taxon(2759)]"
      ]
     },
     "execution_count": 155,
     "metadata": {},
     "output_type": "execute_result"
    }
   ],
   "source": [
    "d.ranked_lineage"
   ]
  },
  {
   "cell_type": "code",
   "execution_count": 156,
   "id": "0071c028",
   "metadata": {},
   "outputs": [
    {
     "data": {
      "text/plain": [
       "'species'"
      ]
     },
     "execution_count": 156,
     "metadata": {},
     "output_type": "execute_result"
    }
   ],
   "source": [
    "d.rank.name"
   ]
  },
  {
   "cell_type": "code",
   "execution_count": 214,
   "id": "754d9fa4",
   "metadata": {},
   "outputs": [],
   "source": [
    "x =[(d.rank.name, d.scientific_name) for d in d.ranked_lineage]"
   ]
  },
  {
   "cell_type": "code",
   "execution_count": 215,
   "id": "eb003ef0",
   "metadata": {
    "scrolled": true
   },
   "outputs": [
    {
     "data": {
      "text/plain": [
       "{<Rank.class: 3>,\n",
       " <Rank.family: 5>,\n",
       " <Rank.genus: 9>,\n",
       " <Rank.kingdom: 13>,\n",
       " <Rank.order: 15>,\n",
       " <Rank.phylum: 18>,\n",
       " <Rank.species: 23>,\n",
       " <Rank.superkingdom: 40>}"
      ]
     },
     "execution_count": 215,
     "metadata": {},
     "output_type": "execute_result"
    }
   ],
   "source": [
    "d.common_ranks"
   ]
  },
  {
   "cell_type": "code",
   "execution_count": 216,
   "id": "b11a518c",
   "metadata": {
    "scrolled": true
   },
   "outputs": [
    {
     "data": {
      "text/plain": [
       "[('species', 'Phaeocystis globosa'),\n",
       " ('genus', 'Phaeocystis'),\n",
       " ('family', 'Phaeocystaceae'),\n",
       " ('order', 'Phaeocystales'),\n",
       " ('phylum', 'Haptophyta'),\n",
       " ('superkingdom', 'Eukaryota')]"
      ]
     },
     "execution_count": 216,
     "metadata": {},
     "output_type": "execute_result"
    }
   ],
   "source": [
    "x"
   ]
  },
  {
   "cell_type": "code",
   "execution_count": 223,
   "id": "546746ec",
   "metadata": {},
   "outputs": [],
   "source": [
    "dic = {}\n",
    "\n",
    "def Convert (t, dic):\n",
    "    for a, b in t:\n",
    "        dic.setdefault(a,[]).append(b)         \n",
    "    dic = dic['order'][0] \n",
    "    return dic"
   ]
  },
  {
   "cell_type": "code",
   "execution_count": 224,
   "id": "fade13b8",
   "metadata": {},
   "outputs": [
    {
     "data": {
      "text/plain": [
       "'Phaeocystales'"
      ]
     },
     "execution_count": 224,
     "metadata": {},
     "output_type": "execute_result"
    }
   ],
   "source": [
    "Convert (x, dic)"
   ]
  }
 ],
 "metadata": {
  "kernelspec": {
   "display_name": "Python 3 (ipykernel)",
   "language": "python",
   "name": "python3"
  },
  "language_info": {
   "codemirror_mode": {
    "name": "ipython",
    "version": 3
   },
   "file_extension": ".py",
   "mimetype": "text/x-python",
   "name": "python",
   "nbconvert_exporter": "python",
   "pygments_lexer": "ipython3",
   "version": "3.10.2"
  }
 },
 "nbformat": 4,
 "nbformat_minor": 5
}
