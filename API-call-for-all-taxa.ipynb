{
 "cells": [
  {
   "cell_type": "code",
   "execution_count": 1,
   "id": "2a1adfff",
   "metadata": {},
   "outputs": [],
   "source": [
    "with open('Nov112020-ALL-R1.bowtie2') as f:\n",
    "    lines = f.readlines()"
   ]
  },
  {
   "cell_type": "code",
   "execution_count": null,
   "id": "ceff7566",
   "metadata": {},
   "outputs": [],
   "source": [
    "%%time\n",
    "taxa = pd.DataFrame({'taxon_id':[],\n",
    "                     'taxon_name':[],\n",
    "                    })\n",
    "\n",
    "for line in lines:\n",
    "    line_split = line.split()\n",
    "    line_split_array = line_split[1].split('_')\n",
    "    tax_id = line_split_array[0]\n",
    "    \n",
    "    try:\n",
    "        efetch = \"efetch.fcgi?db={}&id={}\".format(db, tax_id)\n",
    "        efetch_response = requests.get(base_url.format(efetch))\n",
    "        efetch_dict = xmltodict.parse(efetch_response.content)\n",
    "        ScientificName = efetch_dict['TaxaSet']['Taxon']['ScientificName']\n",
    "    except:\n",
    "        ScientificName = tax_id\n",
    "        pass\n",
    "    \n",
    "    result = {'taxon_id': str(tax_id),\n",
    "              'taxon_name': ScientificName,             \n",
    "             }\n",
    "    \n",
    "    taxa = taxa.append(result, ignore_index = True)"
   ]
  }
 ],
 "metadata": {
  "kernelspec": {
   "display_name": "Python 3 (ipykernel)",
   "language": "python",
   "name": "python3"
  },
  "language_info": {
   "codemirror_mode": {
    "name": "ipython",
    "version": 3
   },
   "file_extension": ".py",
   "mimetype": "text/x-python",
   "name": "python",
   "nbconvert_exporter": "python",
   "pygments_lexer": "ipython3",
   "version": "3.8.10"
  }
 },
 "nbformat": 4,
 "nbformat_minor": 5
}
